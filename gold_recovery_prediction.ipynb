{
 "cells": [
  {
   "cell_type": "code",
   "execution_count": 1,
   "metadata": {},
   "outputs": [],
   "source": [
    "%load_ext lab_black"
   ]
  },
  {
   "cell_type": "markdown",
   "metadata": {},
   "source": [
    "# Gold recovery prediction\n",
    "In this project, we are going to build a model, which will help to optimize the production gold production and eliminate unprofitable parameters. The model should predict the amount of gold recovered from gold ore. We have been provided the data on extraction and purification stages of gold.\n",
    "\n",
    "**We need to predict two values:**\n",
    "- rougher concentrate recovery `rougher.output.recovery`\n",
    "- final concentrate recovery `final.output.recovery`\n",
    "\n",
    "\n",
    "For these we will perform following steps:\n",
    "- Prepare the data;\n",
    "- Perform data analysis;\n",
    "- Develop and train a model.\n",
    "\n",
    "\n",
    "The data is stored in three files:\n",
    "- /datasets/gold_recovery_train.csv\n",
    "- /datasets/gold_recovery_test.csv\n",
    "- /datasets/gold_recovery_full.csv\n",
    "\n",
    "Data is indexed with the date and time of acquisition (`date` feature). Parameters that are next to each other in terms of time are often similar.\n",
    "\n",
    "Some parameters are not available because they were measured and/or calculated much later. That's why, some of the features that are present in the training set may be absent from the test set. The test set also doesn't contain targets.\n",
    "The source dataset contains the training and test sets with all the features.\n",
    "You have the raw data that was only downloaded from the warehouse. Before building the model, check the correctness of the data.\n",
    "\n",
    "### Data description\n",
    "**Technological process**\n",
    "\n",
    "- Rougher feed — raw material\n",
    "- Rougher additions (or reagent additions) — flotation reagents: Xanthate, Sulphate, Depressant\n",
    "    - Xanthate — promoter or flotation activator;\n",
    "    - Sulphate — sodium sulphide for this particular process;\n",
    "    - Depressant — sodium silicate.\n",
    "- Rougher process — flotation\n",
    "- Rougher tails — product residues\n",
    "- Float banks — flotation unit\n",
    "- Cleaner process — purification\n",
    "- Rougher Au — rougher gold concentrate\n",
    "- Final Au — final gold concentrate\n",
    "\n",
    "**Parameters of stages**\n",
    "- air amount — volume of air\n",
    "- fluid levels\n",
    "- feed size — feed particle size\n",
    "- feed rate\n",
    "\n",
    "\n",
    "**Feature naming**\n",
    "Here's how you name the features:\n",
    "`[stage].[parameter_type].[parameter_name]`\n",
    "\n",
    "Example: `rougher.input.feed_ag`:\n",
    "\n",
    "*Possible values for* `[stage]`:\n",
    "- rougher — flotation\n",
    "- primary_cleaner — primary purification\n",
    "- secondary_cleaner — secondary purification\n",
    "- final — final characteristics\n",
    "\n",
    "\n",
    "*Possible values for* `[parameter_type]`:\n",
    "- input — raw material parameters\n",
    "- output — product parameters\n",
    "- state — parameters characterizing the current state of the stage\n",
    "- calculation — calculation characteristics"
   ]
  },
  {
   "cell_type": "markdown",
   "metadata": {},
   "source": [
    "## Data preparation"
   ]
  },
  {
   "cell_type": "markdown",
   "metadata": {},
   "source": [
    "### Open the files and look into the data"
   ]
  },
  {
   "cell_type": "code",
   "execution_count": 2,
   "metadata": {},
   "outputs": [],
   "source": [
    "# all required libraries should be imported here\n",
    "import pandas as pd\n",
    "import numpy as np\n",
    "from numpy.random import RandomState\n",
    "import matplotlib.pyplot as plt\n",
    "import seaborn as sns\n",
    "import scipy.stats as st\n",
    "\n",
    "from sklearn.metrics import mean_absolute_error, make_scorer\n",
    "from sklearn.model_selection import cross_val_score, GridSearchCV\n",
    "from sklearn.impute import SimpleImputer\n",
    "from sklearn.preprocessing import StandardScaler\n",
    "from sklearn.ensemble import RandomForestRegressor\n",
    "from sklearn.linear_model import LinearRegression\n",
    "from sklearn.pipeline import Pipeline"
   ]
  },
  {
   "cell_type": "code",
   "execution_count": 5,
   "metadata": {},
   "outputs": [
    {
     "data": {
      "text/html": [
       "<div>\n",
       "<style scoped>\n",
       "    .dataframe tbody tr th:only-of-type {\n",
       "        vertical-align: middle;\n",
       "    }\n",
       "\n",
       "    .dataframe tbody tr th {\n",
       "        vertical-align: top;\n",
       "    }\n",
       "\n",
       "    .dataframe thead th {\n",
       "        text-align: right;\n",
       "    }\n",
       "</style>\n",
       "<table border=\"1\" class=\"dataframe\">\n",
       "  <thead>\n",
       "    <tr style=\"text-align: right;\">\n",
       "      <th></th>\n",
       "      <th>final.output.concentrate_ag</th>\n",
       "      <th>final.output.concentrate_pb</th>\n",
       "      <th>final.output.concentrate_sol</th>\n",
       "      <th>final.output.concentrate_au</th>\n",
       "      <th>final.output.recovery</th>\n",
       "      <th>final.output.tail_ag</th>\n",
       "      <th>final.output.tail_pb</th>\n",
       "      <th>final.output.tail_sol</th>\n",
       "      <th>final.output.tail_au</th>\n",
       "      <th>primary_cleaner.input.sulfate</th>\n",
       "      <th>...</th>\n",
       "      <th>secondary_cleaner.state.floatbank4_a_air</th>\n",
       "      <th>secondary_cleaner.state.floatbank4_a_level</th>\n",
       "      <th>secondary_cleaner.state.floatbank4_b_air</th>\n",
       "      <th>secondary_cleaner.state.floatbank4_b_level</th>\n",
       "      <th>secondary_cleaner.state.floatbank5_a_air</th>\n",
       "      <th>secondary_cleaner.state.floatbank5_a_level</th>\n",
       "      <th>secondary_cleaner.state.floatbank5_b_air</th>\n",
       "      <th>secondary_cleaner.state.floatbank5_b_level</th>\n",
       "      <th>secondary_cleaner.state.floatbank6_a_air</th>\n",
       "      <th>secondary_cleaner.state.floatbank6_a_level</th>\n",
       "    </tr>\n",
       "    <tr>\n",
       "      <th>date</th>\n",
       "      <th></th>\n",
       "      <th></th>\n",
       "      <th></th>\n",
       "      <th></th>\n",
       "      <th></th>\n",
       "      <th></th>\n",
       "      <th></th>\n",
       "      <th></th>\n",
       "      <th></th>\n",
       "      <th></th>\n",
       "      <th></th>\n",
       "      <th></th>\n",
       "      <th></th>\n",
       "      <th></th>\n",
       "      <th></th>\n",
       "      <th></th>\n",
       "      <th></th>\n",
       "      <th></th>\n",
       "      <th></th>\n",
       "      <th></th>\n",
       "      <th></th>\n",
       "    </tr>\n",
       "  </thead>\n",
       "  <tbody>\n",
       "    <tr>\n",
       "      <th>2016-01-15 00:00:00</th>\n",
       "      <td>6.055403</td>\n",
       "      <td>9.889648</td>\n",
       "      <td>5.507324</td>\n",
       "      <td>42.192020</td>\n",
       "      <td>70.541216</td>\n",
       "      <td>10.411962</td>\n",
       "      <td>0.895447</td>\n",
       "      <td>16.904297</td>\n",
       "      <td>2.143149</td>\n",
       "      <td>127.092003</td>\n",
       "      <td>...</td>\n",
       "      <td>14.016835</td>\n",
       "      <td>-502.488007</td>\n",
       "      <td>12.099931</td>\n",
       "      <td>-504.715942</td>\n",
       "      <td>9.925633</td>\n",
       "      <td>-498.310211</td>\n",
       "      <td>8.079666</td>\n",
       "      <td>-500.470978</td>\n",
       "      <td>14.151341</td>\n",
       "      <td>-605.841980</td>\n",
       "    </tr>\n",
       "    <tr>\n",
       "      <th>2016-01-15 01:00:00</th>\n",
       "      <td>6.029369</td>\n",
       "      <td>9.968944</td>\n",
       "      <td>5.257781</td>\n",
       "      <td>42.701629</td>\n",
       "      <td>69.266198</td>\n",
       "      <td>10.462676</td>\n",
       "      <td>0.927452</td>\n",
       "      <td>16.634514</td>\n",
       "      <td>2.224930</td>\n",
       "      <td>125.629232</td>\n",
       "      <td>...</td>\n",
       "      <td>13.992281</td>\n",
       "      <td>-505.503262</td>\n",
       "      <td>11.950531</td>\n",
       "      <td>-501.331529</td>\n",
       "      <td>10.039245</td>\n",
       "      <td>-500.169983</td>\n",
       "      <td>7.984757</td>\n",
       "      <td>-500.582168</td>\n",
       "      <td>13.998353</td>\n",
       "      <td>-599.787184</td>\n",
       "    </tr>\n",
       "  </tbody>\n",
       "</table>\n",
       "<p>2 rows × 86 columns</p>\n",
       "</div>"
      ],
      "text/plain": [
       "                     final.output.concentrate_ag  final.output.concentrate_pb  \\\n",
       "date                                                                            \n",
       "2016-01-15 00:00:00                     6.055403                     9.889648   \n",
       "2016-01-15 01:00:00                     6.029369                     9.968944   \n",
       "\n",
       "                     final.output.concentrate_sol  \\\n",
       "date                                                \n",
       "2016-01-15 00:00:00                      5.507324   \n",
       "2016-01-15 01:00:00                      5.257781   \n",
       "\n",
       "                     final.output.concentrate_au  final.output.recovery  \\\n",
       "date                                                                      \n",
       "2016-01-15 00:00:00                    42.192020              70.541216   \n",
       "2016-01-15 01:00:00                    42.701629              69.266198   \n",
       "\n",
       "                     final.output.tail_ag  final.output.tail_pb  \\\n",
       "date                                                              \n",
       "2016-01-15 00:00:00             10.411962              0.895447   \n",
       "2016-01-15 01:00:00             10.462676              0.927452   \n",
       "\n",
       "                     final.output.tail_sol  final.output.tail_au  \\\n",
       "date                                                               \n",
       "2016-01-15 00:00:00              16.904297              2.143149   \n",
       "2016-01-15 01:00:00              16.634514              2.224930   \n",
       "\n",
       "                     primary_cleaner.input.sulfate  ...  \\\n",
       "date                                                ...   \n",
       "2016-01-15 00:00:00                     127.092003  ...   \n",
       "2016-01-15 01:00:00                     125.629232  ...   \n",
       "\n",
       "                     secondary_cleaner.state.floatbank4_a_air  \\\n",
       "date                                                            \n",
       "2016-01-15 00:00:00                                 14.016835   \n",
       "2016-01-15 01:00:00                                 13.992281   \n",
       "\n",
       "                     secondary_cleaner.state.floatbank4_a_level  \\\n",
       "date                                                              \n",
       "2016-01-15 00:00:00                                 -502.488007   \n",
       "2016-01-15 01:00:00                                 -505.503262   \n",
       "\n",
       "                     secondary_cleaner.state.floatbank4_b_air  \\\n",
       "date                                                            \n",
       "2016-01-15 00:00:00                                 12.099931   \n",
       "2016-01-15 01:00:00                                 11.950531   \n",
       "\n",
       "                     secondary_cleaner.state.floatbank4_b_level  \\\n",
       "date                                                              \n",
       "2016-01-15 00:00:00                                 -504.715942   \n",
       "2016-01-15 01:00:00                                 -501.331529   \n",
       "\n",
       "                     secondary_cleaner.state.floatbank5_a_air  \\\n",
       "date                                                            \n",
       "2016-01-15 00:00:00                                  9.925633   \n",
       "2016-01-15 01:00:00                                 10.039245   \n",
       "\n",
       "                     secondary_cleaner.state.floatbank5_a_level  \\\n",
       "date                                                              \n",
       "2016-01-15 00:00:00                                 -498.310211   \n",
       "2016-01-15 01:00:00                                 -500.169983   \n",
       "\n",
       "                     secondary_cleaner.state.floatbank5_b_air  \\\n",
       "date                                                            \n",
       "2016-01-15 00:00:00                                  8.079666   \n",
       "2016-01-15 01:00:00                                  7.984757   \n",
       "\n",
       "                     secondary_cleaner.state.floatbank5_b_level  \\\n",
       "date                                                              \n",
       "2016-01-15 00:00:00                                 -500.470978   \n",
       "2016-01-15 01:00:00                                 -500.582168   \n",
       "\n",
       "                     secondary_cleaner.state.floatbank6_a_air  \\\n",
       "date                                                            \n",
       "2016-01-15 00:00:00                                 14.151341   \n",
       "2016-01-15 01:00:00                                 13.998353   \n",
       "\n",
       "                     secondary_cleaner.state.floatbank6_a_level  \n",
       "date                                                             \n",
       "2016-01-15 00:00:00                                 -605.841980  \n",
       "2016-01-15 01:00:00                                 -599.787184  \n",
       "\n",
       "[2 rows x 86 columns]"
      ]
     },
     "metadata": {},
     "output_type": "display_data"
    },
    {
     "data": {
      "text/html": [
       "<div>\n",
       "<style scoped>\n",
       "    .dataframe tbody tr th:only-of-type {\n",
       "        vertical-align: middle;\n",
       "    }\n",
       "\n",
       "    .dataframe tbody tr th {\n",
       "        vertical-align: top;\n",
       "    }\n",
       "\n",
       "    .dataframe thead th {\n",
       "        text-align: right;\n",
       "    }\n",
       "</style>\n",
       "<table border=\"1\" class=\"dataframe\">\n",
       "  <thead>\n",
       "    <tr style=\"text-align: right;\">\n",
       "      <th></th>\n",
       "      <th>primary_cleaner.input.sulfate</th>\n",
       "      <th>primary_cleaner.input.depressant</th>\n",
       "      <th>primary_cleaner.input.feed_size</th>\n",
       "      <th>primary_cleaner.input.xanthate</th>\n",
       "      <th>primary_cleaner.state.floatbank8_a_air</th>\n",
       "      <th>primary_cleaner.state.floatbank8_a_level</th>\n",
       "      <th>primary_cleaner.state.floatbank8_b_air</th>\n",
       "      <th>primary_cleaner.state.floatbank8_b_level</th>\n",
       "      <th>primary_cleaner.state.floatbank8_c_air</th>\n",
       "      <th>primary_cleaner.state.floatbank8_c_level</th>\n",
       "      <th>...</th>\n",
       "      <th>secondary_cleaner.state.floatbank4_a_air</th>\n",
       "      <th>secondary_cleaner.state.floatbank4_a_level</th>\n",
       "      <th>secondary_cleaner.state.floatbank4_b_air</th>\n",
       "      <th>secondary_cleaner.state.floatbank4_b_level</th>\n",
       "      <th>secondary_cleaner.state.floatbank5_a_air</th>\n",
       "      <th>secondary_cleaner.state.floatbank5_a_level</th>\n",
       "      <th>secondary_cleaner.state.floatbank5_b_air</th>\n",
       "      <th>secondary_cleaner.state.floatbank5_b_level</th>\n",
       "      <th>secondary_cleaner.state.floatbank6_a_air</th>\n",
       "      <th>secondary_cleaner.state.floatbank6_a_level</th>\n",
       "    </tr>\n",
       "    <tr>\n",
       "      <th>date</th>\n",
       "      <th></th>\n",
       "      <th></th>\n",
       "      <th></th>\n",
       "      <th></th>\n",
       "      <th></th>\n",
       "      <th></th>\n",
       "      <th></th>\n",
       "      <th></th>\n",
       "      <th></th>\n",
       "      <th></th>\n",
       "      <th></th>\n",
       "      <th></th>\n",
       "      <th></th>\n",
       "      <th></th>\n",
       "      <th></th>\n",
       "      <th></th>\n",
       "      <th></th>\n",
       "      <th></th>\n",
       "      <th></th>\n",
       "      <th></th>\n",
       "      <th></th>\n",
       "    </tr>\n",
       "  </thead>\n",
       "  <tbody>\n",
       "    <tr>\n",
       "      <th>2016-09-01 00:59:59</th>\n",
       "      <td>210.800909</td>\n",
       "      <td>14.993118</td>\n",
       "      <td>8.08</td>\n",
       "      <td>1.005021</td>\n",
       "      <td>1398.981301</td>\n",
       "      <td>-500.225577</td>\n",
       "      <td>1399.144926</td>\n",
       "      <td>-499.919735</td>\n",
       "      <td>1400.102998</td>\n",
       "      <td>-500.704369</td>\n",
       "      <td>...</td>\n",
       "      <td>12.023554</td>\n",
       "      <td>-497.795834</td>\n",
       "      <td>8.016656</td>\n",
       "      <td>-501.289139</td>\n",
       "      <td>7.946562</td>\n",
       "      <td>-432.317850</td>\n",
       "      <td>4.872511</td>\n",
       "      <td>-500.037437</td>\n",
       "      <td>26.705889</td>\n",
       "      <td>-499.709414</td>\n",
       "    </tr>\n",
       "    <tr>\n",
       "      <th>2016-09-01 01:59:59</th>\n",
       "      <td>215.392455</td>\n",
       "      <td>14.987471</td>\n",
       "      <td>8.08</td>\n",
       "      <td>0.990469</td>\n",
       "      <td>1398.777912</td>\n",
       "      <td>-500.057435</td>\n",
       "      <td>1398.055362</td>\n",
       "      <td>-499.778182</td>\n",
       "      <td>1396.151033</td>\n",
       "      <td>-499.240168</td>\n",
       "      <td>...</td>\n",
       "      <td>12.058140</td>\n",
       "      <td>-498.695773</td>\n",
       "      <td>8.130979</td>\n",
       "      <td>-499.634209</td>\n",
       "      <td>7.958270</td>\n",
       "      <td>-525.839648</td>\n",
       "      <td>4.878850</td>\n",
       "      <td>-500.162375</td>\n",
       "      <td>25.019940</td>\n",
       "      <td>-499.819438</td>\n",
       "    </tr>\n",
       "  </tbody>\n",
       "</table>\n",
       "<p>2 rows × 52 columns</p>\n",
       "</div>"
      ],
      "text/plain": [
       "                     primary_cleaner.input.sulfate  \\\n",
       "date                                                 \n",
       "2016-09-01 00:59:59                     210.800909   \n",
       "2016-09-01 01:59:59                     215.392455   \n",
       "\n",
       "                     primary_cleaner.input.depressant  \\\n",
       "date                                                    \n",
       "2016-09-01 00:59:59                         14.993118   \n",
       "2016-09-01 01:59:59                         14.987471   \n",
       "\n",
       "                     primary_cleaner.input.feed_size  \\\n",
       "date                                                   \n",
       "2016-09-01 00:59:59                             8.08   \n",
       "2016-09-01 01:59:59                             8.08   \n",
       "\n",
       "                     primary_cleaner.input.xanthate  \\\n",
       "date                                                  \n",
       "2016-09-01 00:59:59                        1.005021   \n",
       "2016-09-01 01:59:59                        0.990469   \n",
       "\n",
       "                     primary_cleaner.state.floatbank8_a_air  \\\n",
       "date                                                          \n",
       "2016-09-01 00:59:59                             1398.981301   \n",
       "2016-09-01 01:59:59                             1398.777912   \n",
       "\n",
       "                     primary_cleaner.state.floatbank8_a_level  \\\n",
       "date                                                            \n",
       "2016-09-01 00:59:59                               -500.225577   \n",
       "2016-09-01 01:59:59                               -500.057435   \n",
       "\n",
       "                     primary_cleaner.state.floatbank8_b_air  \\\n",
       "date                                                          \n",
       "2016-09-01 00:59:59                             1399.144926   \n",
       "2016-09-01 01:59:59                             1398.055362   \n",
       "\n",
       "                     primary_cleaner.state.floatbank8_b_level  \\\n",
       "date                                                            \n",
       "2016-09-01 00:59:59                               -499.919735   \n",
       "2016-09-01 01:59:59                               -499.778182   \n",
       "\n",
       "                     primary_cleaner.state.floatbank8_c_air  \\\n",
       "date                                                          \n",
       "2016-09-01 00:59:59                             1400.102998   \n",
       "2016-09-01 01:59:59                             1396.151033   \n",
       "\n",
       "                     primary_cleaner.state.floatbank8_c_level  ...  \\\n",
       "date                                                           ...   \n",
       "2016-09-01 00:59:59                               -500.704369  ...   \n",
       "2016-09-01 01:59:59                               -499.240168  ...   \n",
       "\n",
       "                     secondary_cleaner.state.floatbank4_a_air  \\\n",
       "date                                                            \n",
       "2016-09-01 00:59:59                                 12.023554   \n",
       "2016-09-01 01:59:59                                 12.058140   \n",
       "\n",
       "                     secondary_cleaner.state.floatbank4_a_level  \\\n",
       "date                                                              \n",
       "2016-09-01 00:59:59                                 -497.795834   \n",
       "2016-09-01 01:59:59                                 -498.695773   \n",
       "\n",
       "                     secondary_cleaner.state.floatbank4_b_air  \\\n",
       "date                                                            \n",
       "2016-09-01 00:59:59                                  8.016656   \n",
       "2016-09-01 01:59:59                                  8.130979   \n",
       "\n",
       "                     secondary_cleaner.state.floatbank4_b_level  \\\n",
       "date                                                              \n",
       "2016-09-01 00:59:59                                 -501.289139   \n",
       "2016-09-01 01:59:59                                 -499.634209   \n",
       "\n",
       "                     secondary_cleaner.state.floatbank5_a_air  \\\n",
       "date                                                            \n",
       "2016-09-01 00:59:59                                  7.946562   \n",
       "2016-09-01 01:59:59                                  7.958270   \n",
       "\n",
       "                     secondary_cleaner.state.floatbank5_a_level  \\\n",
       "date                                                              \n",
       "2016-09-01 00:59:59                                 -432.317850   \n",
       "2016-09-01 01:59:59                                 -525.839648   \n",
       "\n",
       "                     secondary_cleaner.state.floatbank5_b_air  \\\n",
       "date                                                            \n",
       "2016-09-01 00:59:59                                  4.872511   \n",
       "2016-09-01 01:59:59                                  4.878850   \n",
       "\n",
       "                     secondary_cleaner.state.floatbank5_b_level  \\\n",
       "date                                                              \n",
       "2016-09-01 00:59:59                                 -500.037437   \n",
       "2016-09-01 01:59:59                                 -500.162375   \n",
       "\n",
       "                     secondary_cleaner.state.floatbank6_a_air  \\\n",
       "date                                                            \n",
       "2016-09-01 00:59:59                                 26.705889   \n",
       "2016-09-01 01:59:59                                 25.019940   \n",
       "\n",
       "                     secondary_cleaner.state.floatbank6_a_level  \n",
       "date                                                             \n",
       "2016-09-01 00:59:59                                 -499.709414  \n",
       "2016-09-01 01:59:59                                 -499.819438  \n",
       "\n",
       "[2 rows x 52 columns]"
      ]
     },
     "metadata": {},
     "output_type": "display_data"
    },
    {
     "data": {
      "text/html": [
       "<div>\n",
       "<style scoped>\n",
       "    .dataframe tbody tr th:only-of-type {\n",
       "        vertical-align: middle;\n",
       "    }\n",
       "\n",
       "    .dataframe tbody tr th {\n",
       "        vertical-align: top;\n",
       "    }\n",
       "\n",
       "    .dataframe thead th {\n",
       "        text-align: right;\n",
       "    }\n",
       "</style>\n",
       "<table border=\"1\" class=\"dataframe\">\n",
       "  <thead>\n",
       "    <tr style=\"text-align: right;\">\n",
       "      <th></th>\n",
       "      <th>final.output.concentrate_ag</th>\n",
       "      <th>final.output.concentrate_pb</th>\n",
       "      <th>final.output.concentrate_sol</th>\n",
       "      <th>final.output.concentrate_au</th>\n",
       "      <th>final.output.recovery</th>\n",
       "      <th>final.output.tail_ag</th>\n",
       "      <th>final.output.tail_pb</th>\n",
       "      <th>final.output.tail_sol</th>\n",
       "      <th>final.output.tail_au</th>\n",
       "      <th>primary_cleaner.input.sulfate</th>\n",
       "      <th>...</th>\n",
       "      <th>secondary_cleaner.state.floatbank4_a_air</th>\n",
       "      <th>secondary_cleaner.state.floatbank4_a_level</th>\n",
       "      <th>secondary_cleaner.state.floatbank4_b_air</th>\n",
       "      <th>secondary_cleaner.state.floatbank4_b_level</th>\n",
       "      <th>secondary_cleaner.state.floatbank5_a_air</th>\n",
       "      <th>secondary_cleaner.state.floatbank5_a_level</th>\n",
       "      <th>secondary_cleaner.state.floatbank5_b_air</th>\n",
       "      <th>secondary_cleaner.state.floatbank5_b_level</th>\n",
       "      <th>secondary_cleaner.state.floatbank6_a_air</th>\n",
       "      <th>secondary_cleaner.state.floatbank6_a_level</th>\n",
       "    </tr>\n",
       "    <tr>\n",
       "      <th>date</th>\n",
       "      <th></th>\n",
       "      <th></th>\n",
       "      <th></th>\n",
       "      <th></th>\n",
       "      <th></th>\n",
       "      <th></th>\n",
       "      <th></th>\n",
       "      <th></th>\n",
       "      <th></th>\n",
       "      <th></th>\n",
       "      <th></th>\n",
       "      <th></th>\n",
       "      <th></th>\n",
       "      <th></th>\n",
       "      <th></th>\n",
       "      <th></th>\n",
       "      <th></th>\n",
       "      <th></th>\n",
       "      <th></th>\n",
       "      <th></th>\n",
       "      <th></th>\n",
       "    </tr>\n",
       "  </thead>\n",
       "  <tbody>\n",
       "    <tr>\n",
       "      <th>2016-01-15 00:00:00</th>\n",
       "      <td>6.055403</td>\n",
       "      <td>9.889648</td>\n",
       "      <td>5.507324</td>\n",
       "      <td>42.192020</td>\n",
       "      <td>70.541216</td>\n",
       "      <td>10.411962</td>\n",
       "      <td>0.895447</td>\n",
       "      <td>16.904297</td>\n",
       "      <td>2.143149</td>\n",
       "      <td>127.092003</td>\n",
       "      <td>...</td>\n",
       "      <td>14.016835</td>\n",
       "      <td>-502.488007</td>\n",
       "      <td>12.099931</td>\n",
       "      <td>-504.715942</td>\n",
       "      <td>9.925633</td>\n",
       "      <td>-498.310211</td>\n",
       "      <td>8.079666</td>\n",
       "      <td>-500.470978</td>\n",
       "      <td>14.151341</td>\n",
       "      <td>-605.841980</td>\n",
       "    </tr>\n",
       "    <tr>\n",
       "      <th>2016-01-15 01:00:00</th>\n",
       "      <td>6.029369</td>\n",
       "      <td>9.968944</td>\n",
       "      <td>5.257781</td>\n",
       "      <td>42.701629</td>\n",
       "      <td>69.266198</td>\n",
       "      <td>10.462676</td>\n",
       "      <td>0.927452</td>\n",
       "      <td>16.634514</td>\n",
       "      <td>2.224930</td>\n",
       "      <td>125.629232</td>\n",
       "      <td>...</td>\n",
       "      <td>13.992281</td>\n",
       "      <td>-505.503262</td>\n",
       "      <td>11.950531</td>\n",
       "      <td>-501.331529</td>\n",
       "      <td>10.039245</td>\n",
       "      <td>-500.169983</td>\n",
       "      <td>7.984757</td>\n",
       "      <td>-500.582168</td>\n",
       "      <td>13.998353</td>\n",
       "      <td>-599.787184</td>\n",
       "    </tr>\n",
       "  </tbody>\n",
       "</table>\n",
       "<p>2 rows × 86 columns</p>\n",
       "</div>"
      ],
      "text/plain": [
       "                     final.output.concentrate_ag  final.output.concentrate_pb  \\\n",
       "date                                                                            \n",
       "2016-01-15 00:00:00                     6.055403                     9.889648   \n",
       "2016-01-15 01:00:00                     6.029369                     9.968944   \n",
       "\n",
       "                     final.output.concentrate_sol  \\\n",
       "date                                                \n",
       "2016-01-15 00:00:00                      5.507324   \n",
       "2016-01-15 01:00:00                      5.257781   \n",
       "\n",
       "                     final.output.concentrate_au  final.output.recovery  \\\n",
       "date                                                                      \n",
       "2016-01-15 00:00:00                    42.192020              70.541216   \n",
       "2016-01-15 01:00:00                    42.701629              69.266198   \n",
       "\n",
       "                     final.output.tail_ag  final.output.tail_pb  \\\n",
       "date                                                              \n",
       "2016-01-15 00:00:00             10.411962              0.895447   \n",
       "2016-01-15 01:00:00             10.462676              0.927452   \n",
       "\n",
       "                     final.output.tail_sol  final.output.tail_au  \\\n",
       "date                                                               \n",
       "2016-01-15 00:00:00              16.904297              2.143149   \n",
       "2016-01-15 01:00:00              16.634514              2.224930   \n",
       "\n",
       "                     primary_cleaner.input.sulfate  ...  \\\n",
       "date                                                ...   \n",
       "2016-01-15 00:00:00                     127.092003  ...   \n",
       "2016-01-15 01:00:00                     125.629232  ...   \n",
       "\n",
       "                     secondary_cleaner.state.floatbank4_a_air  \\\n",
       "date                                                            \n",
       "2016-01-15 00:00:00                                 14.016835   \n",
       "2016-01-15 01:00:00                                 13.992281   \n",
       "\n",
       "                     secondary_cleaner.state.floatbank4_a_level  \\\n",
       "date                                                              \n",
       "2016-01-15 00:00:00                                 -502.488007   \n",
       "2016-01-15 01:00:00                                 -505.503262   \n",
       "\n",
       "                     secondary_cleaner.state.floatbank4_b_air  \\\n",
       "date                                                            \n",
       "2016-01-15 00:00:00                                 12.099931   \n",
       "2016-01-15 01:00:00                                 11.950531   \n",
       "\n",
       "                     secondary_cleaner.state.floatbank4_b_level  \\\n",
       "date                                                              \n",
       "2016-01-15 00:00:00                                 -504.715942   \n",
       "2016-01-15 01:00:00                                 -501.331529   \n",
       "\n",
       "                     secondary_cleaner.state.floatbank5_a_air  \\\n",
       "date                                                            \n",
       "2016-01-15 00:00:00                                  9.925633   \n",
       "2016-01-15 01:00:00                                 10.039245   \n",
       "\n",
       "                     secondary_cleaner.state.floatbank5_a_level  \\\n",
       "date                                                              \n",
       "2016-01-15 00:00:00                                 -498.310211   \n",
       "2016-01-15 01:00:00                                 -500.169983   \n",
       "\n",
       "                     secondary_cleaner.state.floatbank5_b_air  \\\n",
       "date                                                            \n",
       "2016-01-15 00:00:00                                  8.079666   \n",
       "2016-01-15 01:00:00                                  7.984757   \n",
       "\n",
       "                     secondary_cleaner.state.floatbank5_b_level  \\\n",
       "date                                                              \n",
       "2016-01-15 00:00:00                                 -500.470978   \n",
       "2016-01-15 01:00:00                                 -500.582168   \n",
       "\n",
       "                     secondary_cleaner.state.floatbank6_a_air  \\\n",
       "date                                                            \n",
       "2016-01-15 00:00:00                                 14.151341   \n",
       "2016-01-15 01:00:00                                 13.998353   \n",
       "\n",
       "                     secondary_cleaner.state.floatbank6_a_level  \n",
       "date                                                             \n",
       "2016-01-15 00:00:00                                 -605.841980  \n",
       "2016-01-15 01:00:00                                 -599.787184  \n",
       "\n",
       "[2 rows x 86 columns]"
      ]
     },
     "metadata": {},
     "output_type": "display_data"
    }
   ],
   "source": [
    "# load datafiles and display first seevral line to familiarize with it\n",
    "try:\n",
    "    df_train = pd.read_csv(\n",
    "        \"gold_recovery_train.csv\",\n",
    "        parse_dates=True,\n",
    "        infer_datetime_format=True,\n",
    "        index_col=\"date\",\n",
    "    )\n",
    "    display(df_train.head(2))\n",
    "    df_test = pd.read_csv(\n",
    "        \"gold_recovery_test.csv\",\n",
    "        parse_dates=True,\n",
    "        infer_datetime_format=True,\n",
    "        index_col=\"date\",\n",
    "    )\n",
    "    display(df_test.head(2))\n",
    "    df_full = pd.read_csv(\n",
    "        \"gold_recovery_full.csv\",\n",
    "        parse_dates=True,\n",
    "        infer_datetime_format=True,\n",
    "        index_col=\"date\",\n",
    "    )\n",
    "    display(df_full.head(2))\n",
    "except:\n",
    "    print(\"Make sure paths and files are correct!\")"
   ]
  },
  {
   "cell_type": "code",
   "execution_count": 6,
   "metadata": {
    "scrolled": true
   },
   "outputs": [
    {
     "data": {
      "text/plain": [
       "(16860, 86)"
      ]
     },
     "metadata": {},
     "output_type": "display_data"
    },
    {
     "name": "stdout",
     "output_type": "stream",
     "text": [
      "==================================================\n"
     ]
    },
    {
     "data": {
      "text/plain": [
       "(5856, 52)"
      ]
     },
     "metadata": {},
     "output_type": "display_data"
    },
    {
     "name": "stdout",
     "output_type": "stream",
     "text": [
      "==================================================\n"
     ]
    },
    {
     "data": {
      "text/plain": [
       "(22716, 86)"
      ]
     },
     "execution_count": 6,
     "metadata": {},
     "output_type": "execute_result"
    }
   ],
   "source": [
    "# datafiles look to large, let's get number of rows and columns in each of them\n",
    "display(df_train.shape)\n",
    "print(\"=\" * 50)\n",
    "display(df_test.shape)\n",
    "print(\"=\" * 50)\n",
    "df_full.shape"
   ]
  },
  {
   "cell_type": "code",
   "execution_count": 7,
   "metadata": {},
   "outputs": [
    {
     "data": {
      "image/png": "[encoded data removed]",
      "text/plain": [
       "<Figure size 1152x72 with 1 Axes>"
      ]
     },
     "metadata": {
      "needs_background": "light"
     },
     "output_type": "display_data"
    },
    {
     "data": {
      "image/png": "[encoded data removed]",
      "text/plain": [
       "<Figure size 1152x72 with 1 Axes>"
      ]
     },
     "metadata": {
      "needs_background": "light"
     },
     "output_type": "display_data"
    },
    {
     "data": {
      "image/png": "[encoded data removed]",
      "text/plain": [
       "<Figure size 1152x72 with 1 Axes>"
      ]
     },
     "metadata": {
      "needs_background": "light"
     },
     "output_type": "display_data"
    }
   ],
   "source": [
    "# we have been provided three data files, lets check what is their difference other than number of columns\n",
    "df_full.plot(kind=\"line\", y=\"primary_cleaner.input.feed_size\", figsize=(16, 1))\n",
    "plt.title(\"Dates that has been used for the full data\")\n",
    "\n",
    "df_train.plot(\n",
    "    kind=\"line\",\n",
    "    y=\"primary_cleaner.input.feed_size\",\n",
    "    figsize=(16, 1),\n",
    "    xlim=(df_full.index.min(), df_full.index.max()),\n",
    ")\n",
    "plt.title(\"Dates present in the training data\")\n",
    "\n",
    "df_test.plot(\n",
    "    kind=\"line\",\n",
    "    y=\"primary_cleaner.input.feed_size\",\n",
    "    figsize=(16, 1),\n",
    "    xlim=(df_full.index.min(), df_full.index.max()),\n",
    ")\n",
    "plt.title(\"Dates present in the testing data\")\n",
    "\n",
    "plt.show()"
   ]
  },
  {
   "cell_type": "markdown",
   "metadata": {},
   "source": [
    "> Three data files have been provided. in order to understand the relationship between files (other than columns they contain), we have built line plots for a random column. Now it can be seen which dates were used for each dataset's preparation."
   ]
  },
  {
   "cell_type": "code",
   "execution_count": 8,
   "metadata": {
    "scrolled": true
   },
   "outputs": [
    {
     "name": "stdout",
     "output_type": "stream",
     "text": [
      "==================== Missing values of df_train ====================\n"
     ]
    },
    {
     "data": {
      "text/html": [
       "<style type=\"text/css\">\n",
       "#T_0a258_row0_col0, #T_0a258_row0_col1, #T_0a258_row1_col0, #T_0a258_row1_col1, #T_0a258_row3_col0, #T_0a258_row3_col1 {\n",
       "  background-color: #fbf3f9;\n",
       "  color: #000000;\n",
       "}\n",
       "#T_0a258_row2_col0, #T_0a258_row2_col1, #T_0a258_row68_col0, #T_0a258_row68_col1 {\n",
       "  background-color: #e8e4f0;\n",
       "  color: #000000;\n",
       "}\n",
       "#T_0a258_row4_col0, #T_0a258_row4_col1 {\n",
       "  background-color: #4697c4;\n",
       "  color: #f1f1f1;\n",
       "}\n",
       "#T_0a258_row5_col0, #T_0a258_row5_col1, #T_0a258_row8_col0, #T_0a258_row8_col1 {\n",
       "  background-color: #fbf4f9;\n",
       "  color: #000000;\n",
       "}\n",
       "#T_0a258_row6_col0, #T_0a258_row6_col1 {\n",
       "  background-color: #f4eef6;\n",
       "  color: #000000;\n",
       "}\n",
       "#T_0a258_row7_col0, #T_0a258_row7_col1 {\n",
       "  background-color: #f7f0f7;\n",
       "  color: #000000;\n",
       "}\n",
       "#T_0a258_row9_col0, #T_0a258_row9_col1 {\n",
       "  background-color: #6fa7ce;\n",
       "  color: #f1f1f1;\n",
       "}\n",
       "#T_0a258_row10_col0, #T_0a258_row10_col1 {\n",
       "  background-color: #78abd0;\n",
       "  color: #f1f1f1;\n",
       "}\n",
       "#T_0a258_row11_col0, #T_0a258_row11_col1 {\n",
       "  background-color: #fff7fb;\n",
       "  color: #000000;\n",
       "}\n",
       "#T_0a258_row12_col0, #T_0a258_row12_col1 {\n",
       "  background-color: #a2bcda;\n",
       "  color: #000000;\n",
       "}\n",
       "#T_0a258_row13_col0, #T_0a258_row13_col1, #T_0a258_row16_col0, #T_0a258_row16_col1, #T_0a258_row17_col0, #T_0a258_row17_col1, #T_0a258_row20_col0, #T_0a258_row20_col1, #T_0a258_row33_col0, #T_0a258_row33_col1, #T_0a258_row38_col0, #T_0a258_row38_col1, #T_0a258_row43_col0, #T_0a258_row43_col1, #T_0a258_row44_col0, #T_0a258_row44_col1, #T_0a258_row46_col0, #T_0a258_row46_col1, #T_0a258_row49_col0, #T_0a258_row49_col1, #T_0a258_row64_col0, #T_0a258_row64_col1, #T_0a258_row67_col0, #T_0a258_row67_col1, #T_0a258_row80_col0, #T_0a258_row80_col1, #T_0a258_row81_col0, #T_0a258_row81_col1, #T_0a258_row82_col0, #T_0a258_row82_col1, #T_0a258_row83_col0, #T_0a258_row83_col1, #T_0a258_row85_col0, #T_0a258_row85_col1 {\n",
       "  background-color: #faf3f9;\n",
       "  color: #000000;\n",
       "}\n",
       "#T_0a258_row14_col0, #T_0a258_row14_col1 {\n",
       "  background-color: #e9e5f1;\n",
       "  color: #000000;\n",
       "}\n",
       "#T_0a258_row15_col0, #T_0a258_row15_col1 {\n",
       "  background-color: #d1d2e6;\n",
       "  color: #000000;\n",
       "}\n",
       "#T_0a258_row18_col0, #T_0a258_row18_col1, #T_0a258_row65_col0, #T_0a258_row65_col1, #T_0a258_row72_col0, #T_0a258_row72_col1, #T_0a258_row78_col0, #T_0a258_row78_col1, #T_0a258_row79_col0, #T_0a258_row79_col1 {\n",
       "  background-color: #faf2f8;\n",
       "  color: #000000;\n",
       "}\n",
       "#T_0a258_row19_col0, #T_0a258_row19_col1 {\n",
       "  background-color: #efe9f3;\n",
       "  color: #000000;\n",
       "}\n",
       "#T_0a258_row21_col0, #T_0a258_row21_col1, #T_0a258_row22_col0, #T_0a258_row22_col1, #T_0a258_row23_col0, #T_0a258_row23_col1, #T_0a258_row25_col0, #T_0a258_row25_col1, #T_0a258_row27_col0, #T_0a258_row27_col1, #T_0a258_row57_col0, #T_0a258_row57_col1 {\n",
       "  background-color: #fdf5fa;\n",
       "  color: #000000;\n",
       "}\n",
       "#T_0a258_row24_col0, #T_0a258_row24_col1, #T_0a258_row26_col0, #T_0a258_row26_col1, #T_0a258_row28_col0, #T_0a258_row28_col1, #T_0a258_row29_col0, #T_0a258_row29_col1, #T_0a258_row30_col0, #T_0a258_row30_col1, #T_0a258_row31_col0, #T_0a258_row31_col1 {\n",
       "  background-color: #fef6fa;\n",
       "  color: #000000;\n",
       "}\n",
       "#T_0a258_row32_col0, #T_0a258_row32_col1 {\n",
       "  background-color: #7bacd1;\n",
       "  color: #f1f1f1;\n",
       "}\n",
       "#T_0a258_row34_col0, #T_0a258_row34_col1 {\n",
       "  background-color: #f2ecf5;\n",
       "  color: #000000;\n",
       "}\n",
       "#T_0a258_row35_col0, #T_0a258_row35_col1 {\n",
       "  background-color: #dbdaeb;\n",
       "  color: #000000;\n",
       "}\n",
       "#T_0a258_row36_col0, #T_0a258_row36_col1 {\n",
       "  background-color: #e4e1ef;\n",
       "  color: #000000;\n",
       "}\n",
       "#T_0a258_row37_col0, #T_0a258_row37_col1 {\n",
       "  background-color: #eee8f3;\n",
       "  color: #000000;\n",
       "}\n",
       "#T_0a258_row39_col0, #T_0a258_row39_col1 {\n",
       "  background-color: #9ab8d8;\n",
       "  color: #000000;\n",
       "}\n",
       "#T_0a258_row40_col0, #T_0a258_row40_col1 {\n",
       "  background-color: #eae6f1;\n",
       "  color: #000000;\n",
       "}\n",
       "#T_0a258_row41_col0, #T_0a258_row41_col1 {\n",
       "  background-color: #d2d3e7;\n",
       "  color: #000000;\n",
       "}\n",
       "#T_0a258_row42_col0, #T_0a258_row42_col1 {\n",
       "  background-color: #0872b1;\n",
       "  color: #f1f1f1;\n",
       "}\n",
       "#T_0a258_row45_col0, #T_0a258_row45_col1 {\n",
       "  background-color: #f5eff6;\n",
       "  color: #000000;\n",
       "}\n",
       "#T_0a258_row47_col0, #T_0a258_row47_col1 {\n",
       "  background-color: #023858;\n",
       "  color: #f1f1f1;\n",
       "}\n",
       "#T_0a258_row48_col0, #T_0a258_row48_col1, #T_0a258_row50_col0, #T_0a258_row50_col1, #T_0a258_row51_col0, #T_0a258_row51_col1 {\n",
       "  background-color: #045a8d;\n",
       "  color: #f1f1f1;\n",
       "}\n",
       "#T_0a258_row52_col0, #T_0a258_row52_col1, #T_0a258_row53_col0, #T_0a258_row53_col1, #T_0a258_row54_col0, #T_0a258_row54_col1, #T_0a258_row55_col0, #T_0a258_row55_col1, #T_0a258_row56_col0, #T_0a258_row56_col1, #T_0a258_row58_col0, #T_0a258_row58_col1, #T_0a258_row59_col0, #T_0a258_row59_col1, #T_0a258_row61_col0, #T_0a258_row61_col1, #T_0a258_row62_col0, #T_0a258_row62_col1, #T_0a258_row63_col0, #T_0a258_row63_col1 {\n",
       "  background-color: #fcf4fa;\n",
       "  color: #000000;\n",
       "}\n",
       "#T_0a258_row60_col0, #T_0a258_row60_col1 {\n",
       "  background-color: #d4d4e8;\n",
       "  color: #000000;\n",
       "}\n",
       "#T_0a258_row66_col0, #T_0a258_row66_col1 {\n",
       "  background-color: #056caa;\n",
       "  color: #f1f1f1;\n",
       "}\n",
       "#T_0a258_row69_col0, #T_0a258_row69_col1, #T_0a258_row74_col0, #T_0a258_row74_col1, #T_0a258_row75_col0, #T_0a258_row75_col1, #T_0a258_row84_col0, #T_0a258_row84_col1 {\n",
       "  background-color: #f9f2f8;\n",
       "  color: #000000;\n",
       "}\n",
       "#T_0a258_row70_col0, #T_0a258_row70_col1 {\n",
       "  background-color: #f6eff7;\n",
       "  color: #000000;\n",
       "}\n",
       "#T_0a258_row71_col0, #T_0a258_row71_col1, #T_0a258_row73_col0, #T_0a258_row73_col1, #T_0a258_row76_col0, #T_0a258_row76_col1, #T_0a258_row77_col0, #T_0a258_row77_col1 {\n",
       "  background-color: #f8f1f8;\n",
       "  color: #000000;\n",
       "}\n",
       "</style>\n",
       "<table id=\"T_0a258_\">\n",
       "  <thead>\n",
       "    <tr>\n",
       "      <th class=\"blank level0\" >&nbsp;</th>\n",
       "      <th class=\"col_heading level0 col0\" >Number of missings</th>\n",
       "      <th class=\"col_heading level0 col1\" >% of missings</th>\n",
       "    </tr>\n",
       "  </thead>\n",
       "  <tbody>\n",
       "    <tr>\n",
       "      <th id=\"T_0a258_level0_row0\" class=\"row_heading level0 row0\" >final.output.concentrate_ag</th>\n",
       "      <td id=\"T_0a258_row0_col0\" class=\"data row0 col0\" >72</td>\n",
       "      <td id=\"T_0a258_row0_col1\" class=\"data row0 col1\" >0.427046</td>\n",
       "    </tr>\n",
       "    <tr>\n",
       "      <th id=\"T_0a258_level0_row1\" class=\"row_heading level0 row1\" >final.output.concentrate_pb</th>\n",
       "      <td id=\"T_0a258_row1_col0\" class=\"data row1 col0\" >72</td>\n",
       "      <td id=\"T_0a258_row1_col1\" class=\"data row1 col1\" >0.427046</td>\n",
       "    </tr>\n",
       "    <tr>\n",
       "      <th id=\"T_0a258_level0_row2\" class=\"row_heading level0 row2\" >final.output.concentrate_sol</th>\n",
       "      <td id=\"T_0a258_row2_col0\" class=\"data row2 col0\" >370</td>\n",
       "      <td id=\"T_0a258_row2_col1\" class=\"data row2 col1\" >2.194543</td>\n",
       "    </tr>\n",
       "    <tr>\n",
       "      <th id=\"T_0a258_level0_row3\" class=\"row_heading level0 row3\" >final.output.concentrate_au</th>\n",
       "      <td id=\"T_0a258_row3_col0\" class=\"data row3 col0\" >71</td>\n",
       "      <td id=\"T_0a258_row3_col1\" class=\"data row3 col1\" >0.421115</td>\n",
       "    </tr>\n",
       "    <tr>\n",
       "      <th id=\"T_0a258_level0_row4\" class=\"row_heading level0 row4\" >final.output.recovery</th>\n",
       "      <td id=\"T_0a258_row4_col0\" class=\"data row4 col0\" >1521</td>\n",
       "      <td id=\"T_0a258_row4_col1\" class=\"data row4 col1\" >9.021352</td>\n",
       "    </tr>\n",
       "    <tr>\n",
       "      <th id=\"T_0a258_level0_row5\" class=\"row_heading level0 row5\" >final.output.tail_ag</th>\n",
       "      <td id=\"T_0a258_row5_col0\" class=\"data row5 col0\" >66</td>\n",
       "      <td id=\"T_0a258_row5_col1\" class=\"data row5 col1\" >0.391459</td>\n",
       "    </tr>\n",
       "    <tr>\n",
       "      <th id=\"T_0a258_level0_row6\" class=\"row_heading level0 row6\" >final.output.tail_pb</th>\n",
       "      <td id=\"T_0a258_row6_col0\" class=\"data row6 col0\" >183</td>\n",
       "      <td id=\"T_0a258_row6_col1\" class=\"data row6 col1\" >1.085409</td>\n",
       "    </tr>\n",
       "    <tr>\n",
       "      <th id=\"T_0a258_level0_row7\" class=\"row_heading level0 row7\" >final.output.tail_sol</th>\n",
       "      <td id=\"T_0a258_row7_col0\" class=\"data row7 col0\" >145</td>\n",
       "      <td id=\"T_0a258_row7_col1\" class=\"data row7 col1\" >0.860024</td>\n",
       "    </tr>\n",
       "    <tr>\n",
       "      <th id=\"T_0a258_level0_row8\" class=\"row_heading level0 row8\" >final.output.tail_au</th>\n",
       "      <td id=\"T_0a258_row8_col0\" class=\"data row8 col0\" >66</td>\n",
       "      <td id=\"T_0a258_row8_col1\" class=\"data row8 col1\" >0.391459</td>\n",
       "    </tr>\n",
       "    <tr>\n",
       "      <th id=\"T_0a258_level0_row9\" class=\"row_heading level0 row9\" >primary_cleaner.input.sulfate</th>\n",
       "      <td id=\"T_0a258_row9_col0\" class=\"data row9 col0\" >1307</td>\n",
       "      <td id=\"T_0a258_row9_col1\" class=\"data row9 col1\" >7.752076</td>\n",
       "    </tr>\n",
       "    <tr>\n",
       "      <th id=\"T_0a258_level0_row10\" class=\"row_heading level0 row10\" >primary_cleaner.input.depressant</th>\n",
       "      <td id=\"T_0a258_row10_col0\" class=\"data row10 col0\" >1262</td>\n",
       "      <td id=\"T_0a258_row10_col1\" class=\"data row10 col1\" >7.485172</td>\n",
       "    </tr>\n",
       "    <tr>\n",
       "      <th id=\"T_0a258_level0_row11\" class=\"row_heading level0 row11\" >primary_cleaner.input.feed_size</th>\n",
       "      <td id=\"T_0a258_row11_col0\" class=\"data row11 col0\" >0</td>\n",
       "      <td id=\"T_0a258_row11_col1\" class=\"data row11 col1\" >0.000000</td>\n",
       "    </tr>\n",
       "    <tr>\n",
       "      <th id=\"T_0a258_level0_row12\" class=\"row_heading level0 row12\" >primary_cleaner.input.xanthate</th>\n",
       "      <td id=\"T_0a258_row12_col0\" class=\"data row12 col0\" >985</td>\n",
       "      <td id=\"T_0a258_row12_col1\" class=\"data row12 col1\" >5.842230</td>\n",
       "    </tr>\n",
       "    <tr>\n",
       "      <th id=\"T_0a258_level0_row13\" class=\"row_heading level0 row13\" >primary_cleaner.output.concentrate_ag</th>\n",
       "      <td id=\"T_0a258_row13_col0\" class=\"data row13 col0\" >82</td>\n",
       "      <td id=\"T_0a258_row13_col1\" class=\"data row13 col1\" >0.486358</td>\n",
       "    </tr>\n",
       "    <tr>\n",
       "      <th id=\"T_0a258_level0_row14\" class=\"row_heading level0 row14\" >primary_cleaner.output.concentrate_pb</th>\n",
       "      <td id=\"T_0a258_row14_col0\" class=\"data row14 col0\" >358</td>\n",
       "      <td id=\"T_0a258_row14_col1\" class=\"data row14 col1\" >2.123369</td>\n",
       "    </tr>\n",
       "    <tr>\n",
       "      <th id=\"T_0a258_level0_row15\" class=\"row_heading level0 row15\" >primary_cleaner.output.concentrate_sol</th>\n",
       "      <td id=\"T_0a258_row15_col0\" class=\"data row15 col0\" >636</td>\n",
       "      <td id=\"T_0a258_row15_col1\" class=\"data row15 col1\" >3.772242</td>\n",
       "    </tr>\n",
       "    <tr>\n",
       "      <th id=\"T_0a258_level0_row16\" class=\"row_heading level0 row16\" >primary_cleaner.output.concentrate_au</th>\n",
       "      <td id=\"T_0a258_row16_col0\" class=\"data row16 col0\" >82</td>\n",
       "      <td id=\"T_0a258_row16_col1\" class=\"data row16 col1\" >0.486358</td>\n",
       "    </tr>\n",
       "    <tr>\n",
       "      <th id=\"T_0a258_level0_row17\" class=\"row_heading level0 row17\" >primary_cleaner.output.tail_ag</th>\n",
       "      <td id=\"T_0a258_row17_col0\" class=\"data row17 col0\" >83</td>\n",
       "      <td id=\"T_0a258_row17_col1\" class=\"data row17 col1\" >0.492289</td>\n",
       "    </tr>\n",
       "    <tr>\n",
       "      <th id=\"T_0a258_level0_row18\" class=\"row_heading level0 row18\" >primary_cleaner.output.tail_pb</th>\n",
       "      <td id=\"T_0a258_row18_col0\" class=\"data row18 col0\" >99</td>\n",
       "      <td id=\"T_0a258_row18_col1\" class=\"data row18 col1\" >0.587189</td>\n",
       "    </tr>\n",
       "    <tr>\n",
       "      <th id=\"T_0a258_level0_row19\" class=\"row_heading level0 row19\" >primary_cleaner.output.tail_sol</th>\n",
       "      <td id=\"T_0a258_row19_col0\" class=\"data row19 col0\" >281</td>\n",
       "      <td id=\"T_0a258_row19_col1\" class=\"data row19 col1\" >1.666667</td>\n",
       "    </tr>\n",
       "    <tr>\n",
       "      <th id=\"T_0a258_level0_row20\" class=\"row_heading level0 row20\" >primary_cleaner.output.tail_au</th>\n",
       "      <td id=\"T_0a258_row20_col0\" class=\"data row20 col0\" >83</td>\n",
       "      <td id=\"T_0a258_row20_col1\" class=\"data row20 col1\" >0.492289</td>\n",
       "    </tr>\n",
       "    <tr>\n",
       "      <th id=\"T_0a258_level0_row21\" class=\"row_heading level0 row21\" >primary_cleaner.state.floatbank8_a_air</th>\n",
       "      <td id=\"T_0a258_row21_col0\" class=\"data row21 col0\" >40</td>\n",
       "      <td id=\"T_0a258_row21_col1\" class=\"data row21 col1\" >0.237248</td>\n",
       "    </tr>\n",
       "    <tr>\n",
       "      <th id=\"T_0a258_level0_row22\" class=\"row_heading level0 row22\" >primary_cleaner.state.floatbank8_a_level</th>\n",
       "      <td id=\"T_0a258_row22_col0\" class=\"data row22 col0\" >33</td>\n",
       "      <td id=\"T_0a258_row22_col1\" class=\"data row22 col1\" >0.195730</td>\n",
       "    </tr>\n",
       "    <tr>\n",
       "      <th id=\"T_0a258_level0_row23\" class=\"row_heading level0 row23\" >primary_cleaner.state.floatbank8_b_air</th>\n",
       "      <td id=\"T_0a258_row23_col0\" class=\"data row23 col0\" >40</td>\n",
       "      <td id=\"T_0a258_row23_col1\" class=\"data row23 col1\" >0.237248</td>\n",
       "    </tr>\n",
       "    <tr>\n",
       "      <th id=\"T_0a258_level0_row24\" class=\"row_heading level0 row24\" >primary_cleaner.state.floatbank8_b_level</th>\n",
       "      <td id=\"T_0a258_row24_col0\" class=\"data row24 col0\" >27</td>\n",
       "      <td id=\"T_0a258_row24_col1\" class=\"data row24 col1\" >0.160142</td>\n",
       "    </tr>\n",
       "    <tr>\n",
       "      <th id=\"T_0a258_level0_row25\" class=\"row_heading level0 row25\" >primary_cleaner.state.floatbank8_c_air</th>\n",
       "      <td id=\"T_0a258_row25_col0\" class=\"data row25 col0\" >38</td>\n",
       "      <td id=\"T_0a258_row25_col1\" class=\"data row25 col1\" >0.225386</td>\n",
       "    </tr>\n",
       "    <tr>\n",
       "      <th id=\"T_0a258_level0_row26\" class=\"row_heading level0 row26\" >primary_cleaner.state.floatbank8_c_level</th>\n",
       "      <td id=\"T_0a258_row26_col0\" class=\"data row26 col0\" >27</td>\n",
       "      <td id=\"T_0a258_row26_col1\" class=\"data row26 col1\" >0.160142</td>\n",
       "    </tr>\n",
       "    <tr>\n",
       "      <th id=\"T_0a258_level0_row27\" class=\"row_heading level0 row27\" >primary_cleaner.state.floatbank8_d_air</th>\n",
       "      <td id=\"T_0a258_row27_col0\" class=\"data row27 col0\" >39</td>\n",
       "      <td id=\"T_0a258_row27_col1\" class=\"data row27 col1\" >0.231317</td>\n",
       "    </tr>\n",
       "    <tr>\n",
       "      <th id=\"T_0a258_level0_row28\" class=\"row_heading level0 row28\" >primary_cleaner.state.floatbank8_d_level</th>\n",
       "      <td id=\"T_0a258_row28_col0\" class=\"data row28 col0\" >27</td>\n",
       "      <td id=\"T_0a258_row28_col1\" class=\"data row28 col1\" >0.160142</td>\n",
       "    </tr>\n",
       "    <tr>\n",
       "      <th id=\"T_0a258_level0_row29\" class=\"row_heading level0 row29\" >rougher.calculation.sulfate_to_au_concentrate</th>\n",
       "      <td id=\"T_0a258_row29_col0\" class=\"data row29 col0\" >27</td>\n",
       "      <td id=\"T_0a258_row29_col1\" class=\"data row29 col1\" >0.160142</td>\n",
       "    </tr>\n",
       "    <tr>\n",
       "      <th id=\"T_0a258_level0_row30\" class=\"row_heading level0 row30\" >rougher.calculation.floatbank10_sulfate_to_au_feed</th>\n",
       "      <td id=\"T_0a258_row30_col0\" class=\"data row30 col0\" >27</td>\n",
       "      <td id=\"T_0a258_row30_col1\" class=\"data row30 col1\" >0.160142</td>\n",
       "    </tr>\n",
       "    <tr>\n",
       "      <th id=\"T_0a258_level0_row31\" class=\"row_heading level0 row31\" >rougher.calculation.floatbank11_sulfate_to_au_feed</th>\n",
       "      <td id=\"T_0a258_row31_col0\" class=\"data row31 col0\" >27</td>\n",
       "      <td id=\"T_0a258_row31_col1\" class=\"data row31 col1\" >0.160142</td>\n",
       "    </tr>\n",
       "    <tr>\n",
       "      <th id=\"T_0a258_level0_row32\" class=\"row_heading level0 row32\" >rougher.calculation.au_pb_ratio</th>\n",
       "      <td id=\"T_0a258_row32_col0\" class=\"data row32 col0\" >1242</td>\n",
       "      <td id=\"T_0a258_row32_col1\" class=\"data row32 col1\" >7.366548</td>\n",
       "    </tr>\n",
       "    <tr>\n",
       "      <th id=\"T_0a258_level0_row33\" class=\"row_heading level0 row33\" >rougher.input.feed_ag</th>\n",
       "      <td id=\"T_0a258_row33_col0\" class=\"data row33 col0\" >82</td>\n",
       "      <td id=\"T_0a258_row33_col1\" class=\"data row33 col1\" >0.486358</td>\n",
       "    </tr>\n",
       "    <tr>\n",
       "      <th id=\"T_0a258_level0_row34\" class=\"row_heading level0 row34\" >rougher.input.feed_pb</th>\n",
       "      <td id=\"T_0a258_row34_col0\" class=\"data row34 col0\" >228</td>\n",
       "      <td id=\"T_0a258_row34_col1\" class=\"data row34 col1\" >1.352313</td>\n",
       "    </tr>\n",
       "    <tr>\n",
       "      <th id=\"T_0a258_level0_row35\" class=\"row_heading level0 row35\" >rougher.input.feed_rate</th>\n",
       "      <td id=\"T_0a258_row35_col0\" class=\"data row35 col0\" >513</td>\n",
       "      <td id=\"T_0a258_row35_col1\" class=\"data row35 col1\" >3.042705</td>\n",
       "    </tr>\n",
       "    <tr>\n",
       "      <th id=\"T_0a258_level0_row36\" class=\"row_heading level0 row36\" >rougher.input.feed_size</th>\n",
       "      <td id=\"T_0a258_row36_col0\" class=\"data row36 col0\" >417</td>\n",
       "      <td id=\"T_0a258_row36_col1\" class=\"data row36 col1\" >2.473310</td>\n",
       "    </tr>\n",
       "    <tr>\n",
       "      <th id=\"T_0a258_level0_row37\" class=\"row_heading level0 row37\" >rougher.input.feed_sol</th>\n",
       "      <td id=\"T_0a258_row37_col0\" class=\"data row37 col0\" >292</td>\n",
       "      <td id=\"T_0a258_row37_col1\" class=\"data row37 col1\" >1.731910</td>\n",
       "    </tr>\n",
       "    <tr>\n",
       "      <th id=\"T_0a258_level0_row38\" class=\"row_heading level0 row38\" >rougher.input.feed_au</th>\n",
       "      <td id=\"T_0a258_row38_col0\" class=\"data row38 col0\" >83</td>\n",
       "      <td id=\"T_0a258_row38_col1\" class=\"data row38 col1\" >0.492289</td>\n",
       "    </tr>\n",
       "    <tr>\n",
       "      <th id=\"T_0a258_level0_row39\" class=\"row_heading level0 row39\" >rougher.input.floatbank10_sulfate</th>\n",
       "      <td id=\"T_0a258_row39_col0\" class=\"data row39 col0\" >1044</td>\n",
       "      <td id=\"T_0a258_row39_col1\" class=\"data row39 col1\" >6.192171</td>\n",
       "    </tr>\n",
       "    <tr>\n",
       "      <th id=\"T_0a258_level0_row40\" class=\"row_heading level0 row40\" >rougher.input.floatbank10_xanthate</th>\n",
       "      <td id=\"T_0a258_row40_col0\" class=\"data row40 col0\" >346</td>\n",
       "      <td id=\"T_0a258_row40_col1\" class=\"data row40 col1\" >2.052195</td>\n",
       "    </tr>\n",
       "    <tr>\n",
       "      <th id=\"T_0a258_level0_row41\" class=\"row_heading level0 row41\" >rougher.input.floatbank11_sulfate</th>\n",
       "      <td id=\"T_0a258_row41_col0\" class=\"data row41 col0\" >623</td>\n",
       "      <td id=\"T_0a258_row41_col1\" class=\"data row41 col1\" >3.695136</td>\n",
       "    </tr>\n",
       "    <tr>\n",
       "      <th id=\"T_0a258_level0_row42\" class=\"row_heading level0 row42\" >rougher.input.floatbank11_xanthate</th>\n",
       "      <td id=\"T_0a258_row42_col0\" class=\"data row42 col0\" >1904</td>\n",
       "      <td id=\"T_0a258_row42_col1\" class=\"data row42 col1\" >11.293001</td>\n",
       "    </tr>\n",
       "    <tr>\n",
       "      <th id=\"T_0a258_level0_row43\" class=\"row_heading level0 row43\" >rougher.output.concentrate_ag</th>\n",
       "      <td id=\"T_0a258_row43_col0\" class=\"data row43 col0\" >82</td>\n",
       "      <td id=\"T_0a258_row43_col1\" class=\"data row43 col1\" >0.486358</td>\n",
       "    </tr>\n",
       "    <tr>\n",
       "      <th id=\"T_0a258_level0_row44\" class=\"row_heading level0 row44\" >rougher.output.concentrate_pb</th>\n",
       "      <td id=\"T_0a258_row44_col0\" class=\"data row44 col0\" >82</td>\n",
       "      <td id=\"T_0a258_row44_col1\" class=\"data row44 col1\" >0.486358</td>\n",
       "    </tr>\n",
       "    <tr>\n",
       "      <th id=\"T_0a258_level0_row45\" class=\"row_heading level0 row45\" >rougher.output.concentrate_sol</th>\n",
       "      <td id=\"T_0a258_row45_col0\" class=\"data row45 col0\" >162</td>\n",
       "      <td id=\"T_0a258_row45_col1\" class=\"data row45 col1\" >0.960854</td>\n",
       "    </tr>\n",
       "    <tr>\n",
       "      <th id=\"T_0a258_level0_row46\" class=\"row_heading level0 row46\" >rougher.output.concentrate_au</th>\n",
       "      <td id=\"T_0a258_row46_col0\" class=\"data row46 col0\" >82</td>\n",
       "      <td id=\"T_0a258_row46_col1\" class=\"data row46 col1\" >0.486358</td>\n",
       "    </tr>\n",
       "    <tr>\n",
       "      <th id=\"T_0a258_level0_row47\" class=\"row_heading level0 row47\" >rougher.output.recovery</th>\n",
       "      <td id=\"T_0a258_row47_col0\" class=\"data row47 col0\" >2573</td>\n",
       "      <td id=\"T_0a258_row47_col1\" class=\"data row47 col1\" >15.260973</td>\n",
       "    </tr>\n",
       "    <tr>\n",
       "      <th id=\"T_0a258_level0_row48\" class=\"row_heading level0 row48\" >rougher.output.tail_ag</th>\n",
       "      <td id=\"T_0a258_row48_col0\" class=\"data row48 col0\" >2250</td>\n",
       "      <td id=\"T_0a258_row48_col1\" class=\"data row48 col1\" >13.345196</td>\n",
       "    </tr>\n",
       "    <tr>\n",
       "      <th id=\"T_0a258_level0_row49\" class=\"row_heading level0 row49\" >rougher.output.tail_pb</th>\n",
       "      <td id=\"T_0a258_row49_col0\" class=\"data row49 col0\" >82</td>\n",
       "      <td id=\"T_0a258_row49_col1\" class=\"data row49 col1\" >0.486358</td>\n",
       "    </tr>\n",
       "    <tr>\n",
       "      <th id=\"T_0a258_level0_row50\" class=\"row_heading level0 row50\" >rougher.output.tail_sol</th>\n",
       "      <td id=\"T_0a258_row50_col0\" class=\"data row50 col0\" >2249</td>\n",
       "      <td id=\"T_0a258_row50_col1\" class=\"data row50 col1\" >13.339265</td>\n",
       "    </tr>\n",
       "    <tr>\n",
       "      <th id=\"T_0a258_level0_row51\" class=\"row_heading level0 row51\" >rougher.output.tail_au</th>\n",
       "      <td id=\"T_0a258_row51_col0\" class=\"data row51 col0\" >2249</td>\n",
       "      <td id=\"T_0a258_row51_col1\" class=\"data row51 col1\" >13.339265</td>\n",
       "    </tr>\n",
       "    <tr>\n",
       "      <th id=\"T_0a258_level0_row52\" class=\"row_heading level0 row52\" >rougher.state.floatbank10_a_air</th>\n",
       "      <td id=\"T_0a258_row52_col0\" class=\"data row52 col0\" >53</td>\n",
       "      <td id=\"T_0a258_row52_col1\" class=\"data row52 col1\" >0.314353</td>\n",
       "    </tr>\n",
       "    <tr>\n",
       "      <th id=\"T_0a258_level0_row53\" class=\"row_heading level0 row53\" >rougher.state.floatbank10_a_level</th>\n",
       "      <td id=\"T_0a258_row53_col0\" class=\"data row53 col0\" >53</td>\n",
       "      <td id=\"T_0a258_row53_col1\" class=\"data row53 col1\" >0.314353</td>\n",
       "    </tr>\n",
       "    <tr>\n",
       "      <th id=\"T_0a258_level0_row54\" class=\"row_heading level0 row54\" >rougher.state.floatbank10_b_air</th>\n",
       "      <td id=\"T_0a258_row54_col0\" class=\"data row54 col0\" >53</td>\n",
       "      <td id=\"T_0a258_row54_col1\" class=\"data row54 col1\" >0.314353</td>\n",
       "    </tr>\n",
       "    <tr>\n",
       "      <th id=\"T_0a258_level0_row55\" class=\"row_heading level0 row55\" >rougher.state.floatbank10_b_level</th>\n",
       "      <td id=\"T_0a258_row55_col0\" class=\"data row55 col0\" >53</td>\n",
       "      <td id=\"T_0a258_row55_col1\" class=\"data row55 col1\" >0.314353</td>\n",
       "    </tr>\n",
       "    <tr>\n",
       "      <th id=\"T_0a258_level0_row56\" class=\"row_heading level0 row56\" >rougher.state.floatbank10_c_air</th>\n",
       "      <td id=\"T_0a258_row56_col0\" class=\"data row56 col0\" >53</td>\n",
       "      <td id=\"T_0a258_row56_col1\" class=\"data row56 col1\" >0.314353</td>\n",
       "    </tr>\n",
       "    <tr>\n",
       "      <th id=\"T_0a258_level0_row57\" class=\"row_heading level0 row57\" >rougher.state.floatbank10_c_level</th>\n",
       "      <td id=\"T_0a258_row57_col0\" class=\"data row57 col0\" >46</td>\n",
       "      <td id=\"T_0a258_row57_col1\" class=\"data row57 col1\" >0.272835</td>\n",
       "    </tr>\n",
       "    <tr>\n",
       "      <th id=\"T_0a258_level0_row58\" class=\"row_heading level0 row58\" >rougher.state.floatbank10_d_air</th>\n",
       "      <td id=\"T_0a258_row58_col0\" class=\"data row58 col0\" >58</td>\n",
       "      <td id=\"T_0a258_row58_col1\" class=\"data row58 col1\" >0.344009</td>\n",
       "    </tr>\n",
       "    <tr>\n",
       "      <th id=\"T_0a258_level0_row59\" class=\"row_heading level0 row59\" >rougher.state.floatbank10_d_level</th>\n",
       "      <td id=\"T_0a258_row59_col0\" class=\"data row59 col0\" >51</td>\n",
       "      <td id=\"T_0a258_row59_col1\" class=\"data row59 col1\" >0.302491</td>\n",
       "    </tr>\n",
       "    <tr>\n",
       "      <th id=\"T_0a258_level0_row60\" class=\"row_heading level0 row60\" >rougher.state.floatbank10_e_air</th>\n",
       "      <td id=\"T_0a258_row60_col0\" class=\"data row60 col0\" >603</td>\n",
       "      <td id=\"T_0a258_row60_col1\" class=\"data row60 col1\" >3.576512</td>\n",
       "    </tr>\n",
       "    <tr>\n",
       "      <th id=\"T_0a258_level0_row61\" class=\"row_heading level0 row61\" >rougher.state.floatbank10_e_level</th>\n",
       "      <td id=\"T_0a258_row61_col0\" class=\"data row61 col0\" >51</td>\n",
       "      <td id=\"T_0a258_row61_col1\" class=\"data row61 col1\" >0.302491</td>\n",
       "    </tr>\n",
       "    <tr>\n",
       "      <th id=\"T_0a258_level0_row62\" class=\"row_heading level0 row62\" >rougher.state.floatbank10_f_air</th>\n",
       "      <td id=\"T_0a258_row62_col0\" class=\"data row62 col0\" >58</td>\n",
       "      <td id=\"T_0a258_row62_col1\" class=\"data row62 col1\" >0.344009</td>\n",
       "    </tr>\n",
       "    <tr>\n",
       "      <th id=\"T_0a258_level0_row63\" class=\"row_heading level0 row63\" >rougher.state.floatbank10_f_level</th>\n",
       "      <td id=\"T_0a258_row63_col0\" class=\"data row63 col0\" >58</td>\n",
       "      <td id=\"T_0a258_row63_col1\" class=\"data row63 col1\" >0.344009</td>\n",
       "    </tr>\n",
       "    <tr>\n",
       "      <th id=\"T_0a258_level0_row64\" class=\"row_heading level0 row64\" >secondary_cleaner.output.tail_ag</th>\n",
       "      <td id=\"T_0a258_row64_col0\" class=\"data row64 col0\" >84</td>\n",
       "      <td id=\"T_0a258_row64_col1\" class=\"data row64 col1\" >0.498221</td>\n",
       "    </tr>\n",
       "    <tr>\n",
       "      <th id=\"T_0a258_level0_row65\" class=\"row_heading level0 row65\" >secondary_cleaner.output.tail_pb</th>\n",
       "      <td id=\"T_0a258_row65_col0\" class=\"data row65 col0\" >96</td>\n",
       "      <td id=\"T_0a258_row65_col1\" class=\"data row65 col1\" >0.569395</td>\n",
       "    </tr>\n",
       "    <tr>\n",
       "      <th id=\"T_0a258_level0_row66\" class=\"row_heading level0 row66\" >secondary_cleaner.output.tail_sol</th>\n",
       "      <td id=\"T_0a258_row66_col0\" class=\"data row66 col0\" >1986</td>\n",
       "      <td id=\"T_0a258_row66_col1\" class=\"data row66 col1\" >11.779359</td>\n",
       "    </tr>\n",
       "    <tr>\n",
       "      <th id=\"T_0a258_level0_row67\" class=\"row_heading level0 row67\" >secondary_cleaner.output.tail_au</th>\n",
       "      <td id=\"T_0a258_row67_col0\" class=\"data row67 col0\" >82</td>\n",
       "      <td id=\"T_0a258_row67_col1\" class=\"data row67 col1\" >0.486358</td>\n",
       "    </tr>\n",
       "    <tr>\n",
       "      <th id=\"T_0a258_level0_row68\" class=\"row_heading level0 row68\" >secondary_cleaner.state.floatbank2_a_air</th>\n",
       "      <td id=\"T_0a258_row68_col0\" class=\"data row68 col0\" >363</td>\n",
       "      <td id=\"T_0a258_row68_col1\" class=\"data row68 col1\" >2.153025</td>\n",
       "    </tr>\n",
       "    <tr>\n",
       "      <th id=\"T_0a258_level0_row69\" class=\"row_heading level0 row69\" >secondary_cleaner.state.floatbank2_a_level</th>\n",
       "      <td id=\"T_0a258_row69_col0\" class=\"data row69 col0\" >109</td>\n",
       "      <td id=\"T_0a258_row69_col1\" class=\"data row69 col1\" >0.646501</td>\n",
       "    </tr>\n",
       "    <tr>\n",
       "      <th id=\"T_0a258_level0_row70\" class=\"row_heading level0 row70\" >secondary_cleaner.state.floatbank2_b_air</th>\n",
       "      <td id=\"T_0a258_row70_col0\" class=\"data row70 col0\" >155</td>\n",
       "      <td id=\"T_0a258_row70_col1\" class=\"data row70 col1\" >0.919336</td>\n",
       "    </tr>\n",
       "    <tr>\n",
       "      <th id=\"T_0a258_level0_row71\" class=\"row_heading level0 row71\" >secondary_cleaner.state.floatbank2_b_level</th>\n",
       "      <td id=\"T_0a258_row71_col0\" class=\"data row71 col0\" >112</td>\n",
       "      <td id=\"T_0a258_row71_col1\" class=\"data row71 col1\" >0.664294</td>\n",
       "    </tr>\n",
       "    <tr>\n",
       "      <th id=\"T_0a258_level0_row72\" class=\"row_heading level0 row72\" >secondary_cleaner.state.floatbank3_a_air</th>\n",
       "      <td id=\"T_0a258_row72_col0\" class=\"data row72 col0\" >97</td>\n",
       "      <td id=\"T_0a258_row72_col1\" class=\"data row72 col1\" >0.575326</td>\n",
       "    </tr>\n",
       "    <tr>\n",
       "      <th id=\"T_0a258_level0_row73\" class=\"row_heading level0 row73\" >secondary_cleaner.state.floatbank3_a_level</th>\n",
       "      <td id=\"T_0a258_row73_col0\" class=\"data row73 col0\" >113</td>\n",
       "      <td id=\"T_0a258_row73_col1\" class=\"data row73 col1\" >0.670225</td>\n",
       "    </tr>\n",
       "    <tr>\n",
       "      <th id=\"T_0a258_level0_row74\" class=\"row_heading level0 row74\" >secondary_cleaner.state.floatbank3_b_air</th>\n",
       "      <td id=\"T_0a258_row74_col0\" class=\"data row74 col0\" >108</td>\n",
       "      <td id=\"T_0a258_row74_col1\" class=\"data row74 col1\" >0.640569</td>\n",
       "    </tr>\n",
       "    <tr>\n",
       "      <th id=\"T_0a258_level0_row75\" class=\"row_heading level0 row75\" >secondary_cleaner.state.floatbank3_b_level</th>\n",
       "      <td id=\"T_0a258_row75_col0\" class=\"data row75 col0\" >110</td>\n",
       "      <td id=\"T_0a258_row75_col1\" class=\"data row75 col1\" >0.652432</td>\n",
       "    </tr>\n",
       "    <tr>\n",
       "      <th id=\"T_0a258_level0_row76\" class=\"row_heading level0 row76\" >secondary_cleaner.state.floatbank4_a_air</th>\n",
       "      <td id=\"T_0a258_row76_col0\" class=\"data row76 col0\" >129</td>\n",
       "      <td id=\"T_0a258_row76_col1\" class=\"data row76 col1\" >0.765125</td>\n",
       "    </tr>\n",
       "    <tr>\n",
       "      <th id=\"T_0a258_level0_row77\" class=\"row_heading level0 row77\" >secondary_cleaner.state.floatbank4_a_level</th>\n",
       "      <td id=\"T_0a258_row77_col0\" class=\"data row77 col0\" >113</td>\n",
       "      <td id=\"T_0a258_row77_col1\" class=\"data row77 col1\" >0.670225</td>\n",
       "    </tr>\n",
       "    <tr>\n",
       "      <th id=\"T_0a258_level0_row78\" class=\"row_heading level0 row78\" >secondary_cleaner.state.floatbank4_b_air</th>\n",
       "      <td id=\"T_0a258_row78_col0\" class=\"data row78 col0\" >92</td>\n",
       "      <td id=\"T_0a258_row78_col1\" class=\"data row78 col1\" >0.545670</td>\n",
       "    </tr>\n",
       "    <tr>\n",
       "      <th id=\"T_0a258_level0_row79\" class=\"row_heading level0 row79\" >secondary_cleaner.state.floatbank4_b_level</th>\n",
       "      <td id=\"T_0a258_row79_col0\" class=\"data row79 col0\" >93</td>\n",
       "      <td id=\"T_0a258_row79_col1\" class=\"data row79 col1\" >0.551601</td>\n",
       "    </tr>\n",
       "    <tr>\n",
       "      <th id=\"T_0a258_level0_row80\" class=\"row_heading level0 row80\" >secondary_cleaner.state.floatbank5_a_air</th>\n",
       "      <td id=\"T_0a258_row80_col0\" class=\"data row80 col0\" >85</td>\n",
       "      <td id=\"T_0a258_row80_col1\" class=\"data row80 col1\" >0.504152</td>\n",
       "    </tr>\n",
       "    <tr>\n",
       "      <th id=\"T_0a258_level0_row81\" class=\"row_heading level0 row81\" >secondary_cleaner.state.floatbank5_a_level</th>\n",
       "      <td id=\"T_0a258_row81_col0\" class=\"data row81 col0\" >85</td>\n",
       "      <td id=\"T_0a258_row81_col1\" class=\"data row81 col1\" >0.504152</td>\n",
       "    </tr>\n",
       "    <tr>\n",
       "      <th id=\"T_0a258_level0_row82\" class=\"row_heading level0 row82\" >secondary_cleaner.state.floatbank5_b_air</th>\n",
       "      <td id=\"T_0a258_row82_col0\" class=\"data row82 col0\" >85</td>\n",
       "      <td id=\"T_0a258_row82_col1\" class=\"data row82 col1\" >0.504152</td>\n",
       "    </tr>\n",
       "    <tr>\n",
       "      <th id=\"T_0a258_level0_row83\" class=\"row_heading level0 row83\" >secondary_cleaner.state.floatbank5_b_level</th>\n",
       "      <td id=\"T_0a258_row83_col0\" class=\"data row83 col0\" >84</td>\n",
       "      <td id=\"T_0a258_row83_col1\" class=\"data row83 col1\" >0.498221</td>\n",
       "    </tr>\n",
       "    <tr>\n",
       "      <th id=\"T_0a258_level0_row84\" class=\"row_heading level0 row84\" >secondary_cleaner.state.floatbank6_a_air</th>\n",
       "      <td id=\"T_0a258_row84_col0\" class=\"data row84 col0\" >103</td>\n",
       "      <td id=\"T_0a258_row84_col1\" class=\"data row84 col1\" >0.610913</td>\n",
       "    </tr>\n",
       "    <tr>\n",
       "      <th id=\"T_0a258_level0_row85\" class=\"row_heading level0 row85\" >secondary_cleaner.state.floatbank6_a_level</th>\n",
       "      <td id=\"T_0a258_row85_col0\" class=\"data row85 col0\" >85</td>\n",
       "      <td id=\"T_0a258_row85_col1\" class=\"data row85 col1\" >0.504152</td>\n",
       "    </tr>\n",
       "  </tbody>\n",
       "</table>\n"
      ],
      "text/plain": [
       "<pandas.io.formats.style.Styler at 0x1a887b894c0>"
      ]
     },
     "metadata": {},
     "output_type": "display_data"
    },
    {
     "name": "stdout",
     "output_type": "stream",
     "text": [
      "==================== Missing values of df_test ====================\n"
     ]
    },
    {
     "data": {
      "text/html": [
       "<style type=\"text/css\">\n",
       "#T_112e7_row0_col0, #T_112e7_row0_col1 {\n",
       "  background-color: #045d92;\n",
       "  color: #f1f1f1;\n",
       "}\n",
       "#T_112e7_row1_col0, #T_112e7_row1_col1 {\n",
       "  background-color: #0567a1;\n",
       "  color: #f1f1f1;\n",
       "}\n",
       "#T_112e7_row2_col0, #T_112e7_row2_col1 {\n",
       "  background-color: #fff7fb;\n",
       "  color: #000000;\n",
       "}\n",
       "#T_112e7_row3_col0, #T_112e7_row3_col1 {\n",
       "  background-color: #80aed2;\n",
       "  color: #f1f1f1;\n",
       "}\n",
       "#T_112e7_row4_col0, #T_112e7_row4_col1, #T_112e7_row5_col0, #T_112e7_row5_col1, #T_112e7_row6_col0, #T_112e7_row6_col1, #T_112e7_row7_col0, #T_112e7_row7_col1, #T_112e7_row8_col0, #T_112e7_row8_col1, #T_112e7_row9_col0, #T_112e7_row9_col1, #T_112e7_row10_col0, #T_112e7_row10_col1, #T_112e7_row11_col0, #T_112e7_row11_col1, #T_112e7_row12_col0, #T_112e7_row12_col1, #T_112e7_row13_col0, #T_112e7_row13_col1, #T_112e7_row17_col0, #T_112e7_row17_col1, #T_112e7_row22_col0, #T_112e7_row22_col1, #T_112e7_row23_col0, #T_112e7_row23_col1, #T_112e7_row24_col0, #T_112e7_row24_col1, #T_112e7_row25_col0, #T_112e7_row25_col1, #T_112e7_row26_col0, #T_112e7_row26_col1, #T_112e7_row27_col0, #T_112e7_row27_col1, #T_112e7_row28_col0, #T_112e7_row28_col1, #T_112e7_row29_col0, #T_112e7_row29_col1, #T_112e7_row30_col0, #T_112e7_row30_col1, #T_112e7_row31_col0, #T_112e7_row31_col1, #T_112e7_row32_col0, #T_112e7_row32_col1, #T_112e7_row33_col0, #T_112e7_row33_col1, #T_112e7_row35_col0, #T_112e7_row35_col1, #T_112e7_row37_col0, #T_112e7_row37_col1, #T_112e7_row39_col0, #T_112e7_row39_col1, #T_112e7_row40_col0, #T_112e7_row40_col1, #T_112e7_row41_col0, #T_112e7_row41_col1, #T_112e7_row42_col0, #T_112e7_row42_col1, #T_112e7_row43_col0, #T_112e7_row43_col1, #T_112e7_row44_col0, #T_112e7_row44_col1, #T_112e7_row45_col0, #T_112e7_row45_col1, #T_112e7_row46_col0, #T_112e7_row46_col1, #T_112e7_row47_col0, #T_112e7_row47_col1, #T_112e7_row48_col0, #T_112e7_row48_col1, #T_112e7_row49_col0, #T_112e7_row49_col1, #T_112e7_row50_col0, #T_112e7_row50_col1, #T_112e7_row51_col0, #T_112e7_row51_col1 {\n",
       "  background-color: #f8f1f8;\n",
       "  color: #000000;\n",
       "}\n",
       "#T_112e7_row14_col0, #T_112e7_row14_col1 {\n",
       "  background-color: #eee8f3;\n",
       "  color: #000000;\n",
       "}\n",
       "#T_112e7_row15_col0, #T_112e7_row15_col1 {\n",
       "  background-color: #f6eff7;\n",
       "  color: #000000;\n",
       "}\n",
       "#T_112e7_row16_col0, #T_112e7_row16_col1 {\n",
       "  background-color: #dedcec;\n",
       "  color: #000000;\n",
       "}\n",
       "#T_112e7_row18_col0, #T_112e7_row18_col1 {\n",
       "  background-color: #0d75b3;\n",
       "  color: #f1f1f1;\n",
       "}\n",
       "#T_112e7_row19_col0, #T_112e7_row19_col1 {\n",
       "  background-color: #afc1dd;\n",
       "  color: #000000;\n",
       "}\n",
       "#T_112e7_row20_col0, #T_112e7_row20_col1 {\n",
       "  background-color: #e6e2ef;\n",
       "  color: #000000;\n",
       "}\n",
       "#T_112e7_row21_col0, #T_112e7_row21_col1 {\n",
       "  background-color: #023858;\n",
       "  color: #f1f1f1;\n",
       "}\n",
       "#T_112e7_row34_col0, #T_112e7_row34_col1 {\n",
       "  background-color: #f7f0f7;\n",
       "  color: #000000;\n",
       "}\n",
       "#T_112e7_row36_col0, #T_112e7_row36_col1 {\n",
       "  background-color: #f5eff6;\n",
       "  color: #000000;\n",
       "}\n",
       "#T_112e7_row38_col0, #T_112e7_row38_col1 {\n",
       "  background-color: #f1ebf4;\n",
       "  color: #000000;\n",
       "}\n",
       "</style>\n",
       "<table id=\"T_112e7_\">\n",
       "  <thead>\n",
       "    <tr>\n",
       "      <th class=\"blank level0\" >&nbsp;</th>\n",
       "      <th class=\"col_heading level0 col0\" >Number of missings</th>\n",
       "      <th class=\"col_heading level0 col1\" >% of missings</th>\n",
       "    </tr>\n",
       "  </thead>\n",
       "  <tbody>\n",
       "    <tr>\n",
       "      <th id=\"T_112e7_level0_row0\" class=\"row_heading level0 row0\" >primary_cleaner.input.sulfate</th>\n",
       "      <td id=\"T_112e7_row0_col0\" class=\"data row0 col0\" >302</td>\n",
       "      <td id=\"T_112e7_row0_col1\" class=\"data row0 col1\" >5.157104</td>\n",
       "    </tr>\n",
       "    <tr>\n",
       "      <th id=\"T_112e7_level0_row1\" class=\"row_heading level0 row1\" >primary_cleaner.input.depressant</th>\n",
       "      <td id=\"T_112e7_row1_col0\" class=\"data row1 col0\" >284</td>\n",
       "      <td id=\"T_112e7_row1_col1\" class=\"data row1 col1\" >4.849727</td>\n",
       "    </tr>\n",
       "    <tr>\n",
       "      <th id=\"T_112e7_level0_row2\" class=\"row_heading level0 row2\" >primary_cleaner.input.feed_size</th>\n",
       "      <td id=\"T_112e7_row2_col0\" class=\"data row2 col0\" >0</td>\n",
       "      <td id=\"T_112e7_row2_col1\" class=\"data row2 col1\" >0.000000</td>\n",
       "    </tr>\n",
       "    <tr>\n",
       "      <th id=\"T_112e7_level0_row3\" class=\"row_heading level0 row3\" >primary_cleaner.input.xanthate</th>\n",
       "      <td id=\"T_112e7_row3_col0\" class=\"data row3 col0\" >166</td>\n",
       "      <td id=\"T_112e7_row3_col1\" class=\"data row3 col1\" >2.834699</td>\n",
       "    </tr>\n",
       "    <tr>\n",
       "      <th id=\"T_112e7_level0_row4\" class=\"row_heading level0 row4\" >primary_cleaner.state.floatbank8_a_air</th>\n",
       "      <td id=\"T_112e7_row4_col0\" class=\"data row4 col0\" >16</td>\n",
       "      <td id=\"T_112e7_row4_col1\" class=\"data row4 col1\" >0.273224</td>\n",
       "    </tr>\n",
       "    <tr>\n",
       "      <th id=\"T_112e7_level0_row5\" class=\"row_heading level0 row5\" >primary_cleaner.state.floatbank8_a_level</th>\n",
       "      <td id=\"T_112e7_row5_col0\" class=\"data row5 col0\" >16</td>\n",
       "      <td id=\"T_112e7_row5_col1\" class=\"data row5 col1\" >0.273224</td>\n",
       "    </tr>\n",
       "    <tr>\n",
       "      <th id=\"T_112e7_level0_row6\" class=\"row_heading level0 row6\" >primary_cleaner.state.floatbank8_b_air</th>\n",
       "      <td id=\"T_112e7_row6_col0\" class=\"data row6 col0\" >16</td>\n",
       "      <td id=\"T_112e7_row6_col1\" class=\"data row6 col1\" >0.273224</td>\n",
       "    </tr>\n",
       "    <tr>\n",
       "      <th id=\"T_112e7_level0_row7\" class=\"row_heading level0 row7\" >primary_cleaner.state.floatbank8_b_level</th>\n",
       "      <td id=\"T_112e7_row7_col0\" class=\"data row7 col0\" >16</td>\n",
       "      <td id=\"T_112e7_row7_col1\" class=\"data row7 col1\" >0.273224</td>\n",
       "    </tr>\n",
       "    <tr>\n",
       "      <th id=\"T_112e7_level0_row8\" class=\"row_heading level0 row8\" >primary_cleaner.state.floatbank8_c_air</th>\n",
       "      <td id=\"T_112e7_row8_col0\" class=\"data row8 col0\" >16</td>\n",
       "      <td id=\"T_112e7_row8_col1\" class=\"data row8 col1\" >0.273224</td>\n",
       "    </tr>\n",
       "    <tr>\n",
       "      <th id=\"T_112e7_level0_row9\" class=\"row_heading level0 row9\" >primary_cleaner.state.floatbank8_c_level</th>\n",
       "      <td id=\"T_112e7_row9_col0\" class=\"data row9 col0\" >16</td>\n",
       "      <td id=\"T_112e7_row9_col1\" class=\"data row9 col1\" >0.273224</td>\n",
       "    </tr>\n",
       "    <tr>\n",
       "      <th id=\"T_112e7_level0_row10\" class=\"row_heading level0 row10\" >primary_cleaner.state.floatbank8_d_air</th>\n",
       "      <td id=\"T_112e7_row10_col0\" class=\"data row10 col0\" >16</td>\n",
       "      <td id=\"T_112e7_row10_col1\" class=\"data row10 col1\" >0.273224</td>\n",
       "    </tr>\n",
       "    <tr>\n",
       "      <th id=\"T_112e7_level0_row11\" class=\"row_heading level0 row11\" >primary_cleaner.state.floatbank8_d_level</th>\n",
       "      <td id=\"T_112e7_row11_col0\" class=\"data row11 col0\" >16</td>\n",
       "      <td id=\"T_112e7_row11_col1\" class=\"data row11 col1\" >0.273224</td>\n",
       "    </tr>\n",
       "    <tr>\n",
       "      <th id=\"T_112e7_level0_row12\" class=\"row_heading level0 row12\" >rougher.input.feed_ag</th>\n",
       "      <td id=\"T_112e7_row12_col0\" class=\"data row12 col0\" >16</td>\n",
       "      <td id=\"T_112e7_row12_col1\" class=\"data row12 col1\" >0.273224</td>\n",
       "    </tr>\n",
       "    <tr>\n",
       "      <th id=\"T_112e7_level0_row13\" class=\"row_heading level0 row13\" >rougher.input.feed_pb</th>\n",
       "      <td id=\"T_112e7_row13_col0\" class=\"data row13 col0\" >16</td>\n",
       "      <td id=\"T_112e7_row13_col1\" class=\"data row13 col1\" >0.273224</td>\n",
       "    </tr>\n",
       "    <tr>\n",
       "      <th id=\"T_112e7_level0_row14\" class=\"row_heading level0 row14\" >rougher.input.feed_rate</th>\n",
       "      <td id=\"T_112e7_row14_col0\" class=\"data row14 col0\" >40</td>\n",
       "      <td id=\"T_112e7_row14_col1\" class=\"data row14 col1\" >0.683060</td>\n",
       "    </tr>\n",
       "    <tr>\n",
       "      <th id=\"T_112e7_level0_row15\" class=\"row_heading level0 row15\" >rougher.input.feed_size</th>\n",
       "      <td id=\"T_112e7_row15_col0\" class=\"data row15 col0\" >22</td>\n",
       "      <td id=\"T_112e7_row15_col1\" class=\"data row15 col1\" >0.375683</td>\n",
       "    </tr>\n",
       "    <tr>\n",
       "      <th id=\"T_112e7_level0_row16\" class=\"row_heading level0 row16\" >rougher.input.feed_sol</th>\n",
       "      <td id=\"T_112e7_row16_col0\" class=\"data row16 col0\" >67</td>\n",
       "      <td id=\"T_112e7_row16_col1\" class=\"data row16 col1\" >1.144126</td>\n",
       "    </tr>\n",
       "    <tr>\n",
       "      <th id=\"T_112e7_level0_row17\" class=\"row_heading level0 row17\" >rougher.input.feed_au</th>\n",
       "      <td id=\"T_112e7_row17_col0\" class=\"data row17 col0\" >16</td>\n",
       "      <td id=\"T_112e7_row17_col1\" class=\"data row17 col1\" >0.273224</td>\n",
       "    </tr>\n",
       "    <tr>\n",
       "      <th id=\"T_112e7_level0_row18\" class=\"row_heading level0 row18\" >rougher.input.floatbank10_sulfate</th>\n",
       "      <td id=\"T_112e7_row18_col0\" class=\"data row18 col0\" >257</td>\n",
       "      <td id=\"T_112e7_row18_col1\" class=\"data row18 col1\" >4.388661</td>\n",
       "    </tr>\n",
       "    <tr>\n",
       "      <th id=\"T_112e7_level0_row19\" class=\"row_heading level0 row19\" >rougher.input.floatbank10_xanthate</th>\n",
       "      <td id=\"T_112e7_row19_col0\" class=\"data row19 col0\" >123</td>\n",
       "      <td id=\"T_112e7_row19_col1\" class=\"data row19 col1\" >2.100410</td>\n",
       "    </tr>\n",
       "    <tr>\n",
       "      <th id=\"T_112e7_level0_row20\" class=\"row_heading level0 row20\" >rougher.input.floatbank11_sulfate</th>\n",
       "      <td id=\"T_112e7_row20_col0\" class=\"data row20 col0\" >55</td>\n",
       "      <td id=\"T_112e7_row20_col1\" class=\"data row20 col1\" >0.939208</td>\n",
       "    </tr>\n",
       "    <tr>\n",
       "      <th id=\"T_112e7_level0_row21\" class=\"row_heading level0 row21\" >rougher.input.floatbank11_xanthate</th>\n",
       "      <td id=\"T_112e7_row21_col0\" class=\"data row21 col0\" >353</td>\n",
       "      <td id=\"T_112e7_row21_col1\" class=\"data row21 col1\" >6.028005</td>\n",
       "    </tr>\n",
       "    <tr>\n",
       "      <th id=\"T_112e7_level0_row22\" class=\"row_heading level0 row22\" >rougher.state.floatbank10_a_air</th>\n",
       "      <td id=\"T_112e7_row22_col0\" class=\"data row22 col0\" >17</td>\n",
       "      <td id=\"T_112e7_row22_col1\" class=\"data row22 col1\" >0.290301</td>\n",
       "    </tr>\n",
       "    <tr>\n",
       "      <th id=\"T_112e7_level0_row23\" class=\"row_heading level0 row23\" >rougher.state.floatbank10_a_level</th>\n",
       "      <td id=\"T_112e7_row23_col0\" class=\"data row23 col0\" >16</td>\n",
       "      <td id=\"T_112e7_row23_col1\" class=\"data row23 col1\" >0.273224</td>\n",
       "    </tr>\n",
       "    <tr>\n",
       "      <th id=\"T_112e7_level0_row24\" class=\"row_heading level0 row24\" >rougher.state.floatbank10_b_air</th>\n",
       "      <td id=\"T_112e7_row24_col0\" class=\"data row24 col0\" >17</td>\n",
       "      <td id=\"T_112e7_row24_col1\" class=\"data row24 col1\" >0.290301</td>\n",
       "    </tr>\n",
       "    <tr>\n",
       "      <th id=\"T_112e7_level0_row25\" class=\"row_heading level0 row25\" >rougher.state.floatbank10_b_level</th>\n",
       "      <td id=\"T_112e7_row25_col0\" class=\"data row25 col0\" >16</td>\n",
       "      <td id=\"T_112e7_row25_col1\" class=\"data row25 col1\" >0.273224</td>\n",
       "    </tr>\n",
       "    <tr>\n",
       "      <th id=\"T_112e7_level0_row26\" class=\"row_heading level0 row26\" >rougher.state.floatbank10_c_air</th>\n",
       "      <td id=\"T_112e7_row26_col0\" class=\"data row26 col0\" >17</td>\n",
       "      <td id=\"T_112e7_row26_col1\" class=\"data row26 col1\" >0.290301</td>\n",
       "    </tr>\n",
       "    <tr>\n",
       "      <th id=\"T_112e7_level0_row27\" class=\"row_heading level0 row27\" >rougher.state.floatbank10_c_level</th>\n",
       "      <td id=\"T_112e7_row27_col0\" class=\"data row27 col0\" >16</td>\n",
       "      <td id=\"T_112e7_row27_col1\" class=\"data row27 col1\" >0.273224</td>\n",
       "    </tr>\n",
       "    <tr>\n",
       "      <th id=\"T_112e7_level0_row28\" class=\"row_heading level0 row28\" >rougher.state.floatbank10_d_air</th>\n",
       "      <td id=\"T_112e7_row28_col0\" class=\"data row28 col0\" >17</td>\n",
       "      <td id=\"T_112e7_row28_col1\" class=\"data row28 col1\" >0.290301</td>\n",
       "    </tr>\n",
       "    <tr>\n",
       "      <th id=\"T_112e7_level0_row29\" class=\"row_heading level0 row29\" >rougher.state.floatbank10_d_level</th>\n",
       "      <td id=\"T_112e7_row29_col0\" class=\"data row29 col0\" >16</td>\n",
       "      <td id=\"T_112e7_row29_col1\" class=\"data row29 col1\" >0.273224</td>\n",
       "    </tr>\n",
       "    <tr>\n",
       "      <th id=\"T_112e7_level0_row30\" class=\"row_heading level0 row30\" >rougher.state.floatbank10_e_air</th>\n",
       "      <td id=\"T_112e7_row30_col0\" class=\"data row30 col0\" >17</td>\n",
       "      <td id=\"T_112e7_row30_col1\" class=\"data row30 col1\" >0.290301</td>\n",
       "    </tr>\n",
       "    <tr>\n",
       "      <th id=\"T_112e7_level0_row31\" class=\"row_heading level0 row31\" >rougher.state.floatbank10_e_level</th>\n",
       "      <td id=\"T_112e7_row31_col0\" class=\"data row31 col0\" >16</td>\n",
       "      <td id=\"T_112e7_row31_col1\" class=\"data row31 col1\" >0.273224</td>\n",
       "    </tr>\n",
       "    <tr>\n",
       "      <th id=\"T_112e7_level0_row32\" class=\"row_heading level0 row32\" >rougher.state.floatbank10_f_air</th>\n",
       "      <td id=\"T_112e7_row32_col0\" class=\"data row32 col0\" >17</td>\n",
       "      <td id=\"T_112e7_row32_col1\" class=\"data row32 col1\" >0.290301</td>\n",
       "    </tr>\n",
       "    <tr>\n",
       "      <th id=\"T_112e7_level0_row33\" class=\"row_heading level0 row33\" >rougher.state.floatbank10_f_level</th>\n",
       "      <td id=\"T_112e7_row33_col0\" class=\"data row33 col0\" >16</td>\n",
       "      <td id=\"T_112e7_row33_col1\" class=\"data row33 col1\" >0.273224</td>\n",
       "    </tr>\n",
       "    <tr>\n",
       "      <th id=\"T_112e7_level0_row34\" class=\"row_heading level0 row34\" >secondary_cleaner.state.floatbank2_a_air</th>\n",
       "      <td id=\"T_112e7_row34_col0\" class=\"data row34 col0\" >20</td>\n",
       "      <td id=\"T_112e7_row34_col1\" class=\"data row34 col1\" >0.341530</td>\n",
       "    </tr>\n",
       "    <tr>\n",
       "      <th id=\"T_112e7_level0_row35\" class=\"row_heading level0 row35\" >secondary_cleaner.state.floatbank2_a_level</th>\n",
       "      <td id=\"T_112e7_row35_col0\" class=\"data row35 col0\" >16</td>\n",
       "      <td id=\"T_112e7_row35_col1\" class=\"data row35 col1\" >0.273224</td>\n",
       "    </tr>\n",
       "    <tr>\n",
       "      <th id=\"T_112e7_level0_row36\" class=\"row_heading level0 row36\" >secondary_cleaner.state.floatbank2_b_air</th>\n",
       "      <td id=\"T_112e7_row36_col0\" class=\"data row36 col0\" >23</td>\n",
       "      <td id=\"T_112e7_row36_col1\" class=\"data row36 col1\" >0.392760</td>\n",
       "    </tr>\n",
       "    <tr>\n",
       "      <th id=\"T_112e7_level0_row37\" class=\"row_heading level0 row37\" >secondary_cleaner.state.floatbank2_b_level</th>\n",
       "      <td id=\"T_112e7_row37_col0\" class=\"data row37 col0\" >16</td>\n",
       "      <td id=\"T_112e7_row37_col1\" class=\"data row37 col1\" >0.273224</td>\n",
       "    </tr>\n",
       "    <tr>\n",
       "      <th id=\"T_112e7_level0_row38\" class=\"row_heading level0 row38\" >secondary_cleaner.state.floatbank3_a_air</th>\n",
       "      <td id=\"T_112e7_row38_col0\" class=\"data row38 col0\" >34</td>\n",
       "      <td id=\"T_112e7_row38_col1\" class=\"data row38 col1\" >0.580601</td>\n",
       "    </tr>\n",
       "    <tr>\n",
       "      <th id=\"T_112e7_level0_row39\" class=\"row_heading level0 row39\" >secondary_cleaner.state.floatbank3_a_level</th>\n",
       "      <td id=\"T_112e7_row39_col0\" class=\"data row39 col0\" >16</td>\n",
       "      <td id=\"T_112e7_row39_col1\" class=\"data row39 col1\" >0.273224</td>\n",
       "    </tr>\n",
       "    <tr>\n",
       "      <th id=\"T_112e7_level0_row40\" class=\"row_heading level0 row40\" >secondary_cleaner.state.floatbank3_b_air</th>\n",
       "      <td id=\"T_112e7_row40_col0\" class=\"data row40 col0\" >16</td>\n",
       "      <td id=\"T_112e7_row40_col1\" class=\"data row40 col1\" >0.273224</td>\n",
       "    </tr>\n",
       "    <tr>\n",
       "      <th id=\"T_112e7_level0_row41\" class=\"row_heading level0 row41\" >secondary_cleaner.state.floatbank3_b_level</th>\n",
       "      <td id=\"T_112e7_row41_col0\" class=\"data row41 col0\" >16</td>\n",
       "      <td id=\"T_112e7_row41_col1\" class=\"data row41 col1\" >0.273224</td>\n",
       "    </tr>\n",
       "    <tr>\n",
       "      <th id=\"T_112e7_level0_row42\" class=\"row_heading level0 row42\" >secondary_cleaner.state.floatbank4_a_air</th>\n",
       "      <td id=\"T_112e7_row42_col0\" class=\"data row42 col0\" >16</td>\n",
       "      <td id=\"T_112e7_row42_col1\" class=\"data row42 col1\" >0.273224</td>\n",
       "    </tr>\n",
       "    <tr>\n",
       "      <th id=\"T_112e7_level0_row43\" class=\"row_heading level0 row43\" >secondary_cleaner.state.floatbank4_a_level</th>\n",
       "      <td id=\"T_112e7_row43_col0\" class=\"data row43 col0\" >16</td>\n",
       "      <td id=\"T_112e7_row43_col1\" class=\"data row43 col1\" >0.273224</td>\n",
       "    </tr>\n",
       "    <tr>\n",
       "      <th id=\"T_112e7_level0_row44\" class=\"row_heading level0 row44\" >secondary_cleaner.state.floatbank4_b_air</th>\n",
       "      <td id=\"T_112e7_row44_col0\" class=\"data row44 col0\" >16</td>\n",
       "      <td id=\"T_112e7_row44_col1\" class=\"data row44 col1\" >0.273224</td>\n",
       "    </tr>\n",
       "    <tr>\n",
       "      <th id=\"T_112e7_level0_row45\" class=\"row_heading level0 row45\" >secondary_cleaner.state.floatbank4_b_level</th>\n",
       "      <td id=\"T_112e7_row45_col0\" class=\"data row45 col0\" >16</td>\n",
       "      <td id=\"T_112e7_row45_col1\" class=\"data row45 col1\" >0.273224</td>\n",
       "    </tr>\n",
       "    <tr>\n",
       "      <th id=\"T_112e7_level0_row46\" class=\"row_heading level0 row46\" >secondary_cleaner.state.floatbank5_a_air</th>\n",
       "      <td id=\"T_112e7_row46_col0\" class=\"data row46 col0\" >16</td>\n",
       "      <td id=\"T_112e7_row46_col1\" class=\"data row46 col1\" >0.273224</td>\n",
       "    </tr>\n",
       "    <tr>\n",
       "      <th id=\"T_112e7_level0_row47\" class=\"row_heading level0 row47\" >secondary_cleaner.state.floatbank5_a_level</th>\n",
       "      <td id=\"T_112e7_row47_col0\" class=\"data row47 col0\" >16</td>\n",
       "      <td id=\"T_112e7_row47_col1\" class=\"data row47 col1\" >0.273224</td>\n",
       "    </tr>\n",
       "    <tr>\n",
       "      <th id=\"T_112e7_level0_row48\" class=\"row_heading level0 row48\" >secondary_cleaner.state.floatbank5_b_air</th>\n",
       "      <td id=\"T_112e7_row48_col0\" class=\"data row48 col0\" >16</td>\n",
       "      <td id=\"T_112e7_row48_col1\" class=\"data row48 col1\" >0.273224</td>\n",
       "    </tr>\n",
       "    <tr>\n",
       "      <th id=\"T_112e7_level0_row49\" class=\"row_heading level0 row49\" >secondary_cleaner.state.floatbank5_b_level</th>\n",
       "      <td id=\"T_112e7_row49_col0\" class=\"data row49 col0\" >16</td>\n",
       "      <td id=\"T_112e7_row49_col1\" class=\"data row49 col1\" >0.273224</td>\n",
       "    </tr>\n",
       "    <tr>\n",
       "      <th id=\"T_112e7_level0_row50\" class=\"row_heading level0 row50\" >secondary_cleaner.state.floatbank6_a_air</th>\n",
       "      <td id=\"T_112e7_row50_col0\" class=\"data row50 col0\" >16</td>\n",
       "      <td id=\"T_112e7_row50_col1\" class=\"data row50 col1\" >0.273224</td>\n",
       "    </tr>\n",
       "    <tr>\n",
       "      <th id=\"T_112e7_level0_row51\" class=\"row_heading level0 row51\" >secondary_cleaner.state.floatbank6_a_level</th>\n",
       "      <td id=\"T_112e7_row51_col0\" class=\"data row51 col0\" >16</td>\n",
       "      <td id=\"T_112e7_row51_col1\" class=\"data row51 col1\" >0.273224</td>\n",
       "    </tr>\n",
       "  </tbody>\n",
       "</table>\n"
      ],
      "text/plain": [
       "<pandas.io.formats.style.Styler at 0x1a887d4a910>"
      ]
     },
     "metadata": {},
     "output_type": "display_data"
    },
    {
     "name": "stdout",
     "output_type": "stream",
     "text": [
      "==================== Missing values of df_full ====================\n"
     ]
    },
    {
     "data": {
      "text/html": [
       "<style type=\"text/css\">\n",
       "#T_4da9d_row0_col0, #T_4da9d_row0_col1, #T_4da9d_row1_col0, #T_4da9d_row1_col1, #T_4da9d_row3_col0, #T_4da9d_row3_col1 {\n",
       "  background-color: #fbf3f9;\n",
       "  color: #000000;\n",
       "}\n",
       "#T_4da9d_row2_col0, #T_4da9d_row2_col1, #T_4da9d_row68_col0, #T_4da9d_row68_col1 {\n",
       "  background-color: #ede7f2;\n",
       "  color: #000000;\n",
       "}\n",
       "#T_4da9d_row4_col0, #T_4da9d_row4_col1 {\n",
       "  background-color: #348ebf;\n",
       "  color: #f1f1f1;\n",
       "}\n",
       "#T_4da9d_row5_col0, #T_4da9d_row5_col1, #T_4da9d_row8_col0, #T_4da9d_row8_col1, #T_4da9d_row58_col0, #T_4da9d_row58_col1, #T_4da9d_row62_col0, #T_4da9d_row62_col1, #T_4da9d_row63_col0, #T_4da9d_row63_col1 {\n",
       "  background-color: #fbf4f9;\n",
       "  color: #000000;\n",
       "}\n",
       "#T_4da9d_row6_col0, #T_4da9d_row6_col1 {\n",
       "  background-color: #f5eff6;\n",
       "  color: #000000;\n",
       "}\n",
       "#T_4da9d_row7_col0, #T_4da9d_row7_col1 {\n",
       "  background-color: #f2ecf5;\n",
       "  color: #000000;\n",
       "}\n",
       "#T_4da9d_row9_col0, #T_4da9d_row9_col1 {\n",
       "  background-color: #6ba5cd;\n",
       "  color: #f1f1f1;\n",
       "}\n",
       "#T_4da9d_row10_col0, #T_4da9d_row10_col1 {\n",
       "  background-color: #76aad0;\n",
       "  color: #f1f1f1;\n",
       "}\n",
       "#T_4da9d_row11_col0, #T_4da9d_row11_col1 {\n",
       "  background-color: #fff7fb;\n",
       "  color: #000000;\n",
       "}\n",
       "#T_4da9d_row12_col0, #T_4da9d_row12_col1 {\n",
       "  background-color: #a8bedc;\n",
       "  color: #000000;\n",
       "}\n",
       "#T_4da9d_row13_col0, #T_4da9d_row13_col1, #T_4da9d_row16_col0, #T_4da9d_row16_col1, #T_4da9d_row17_col0, #T_4da9d_row17_col1, #T_4da9d_row20_col0, #T_4da9d_row20_col1, #T_4da9d_row33_col0, #T_4da9d_row33_col1, #T_4da9d_row38_col0, #T_4da9d_row38_col1, #T_4da9d_row43_col0, #T_4da9d_row43_col1, #T_4da9d_row44_col0, #T_4da9d_row44_col1, #T_4da9d_row46_col0, #T_4da9d_row46_col1, #T_4da9d_row49_col0, #T_4da9d_row49_col1, #T_4da9d_row64_col0, #T_4da9d_row64_col1, #T_4da9d_row67_col0, #T_4da9d_row67_col1, #T_4da9d_row78_col0, #T_4da9d_row78_col1, #T_4da9d_row79_col0, #T_4da9d_row79_col1, #T_4da9d_row80_col0, #T_4da9d_row80_col1, #T_4da9d_row81_col0, #T_4da9d_row81_col1, #T_4da9d_row82_col0, #T_4da9d_row82_col1, #T_4da9d_row83_col0, #T_4da9d_row83_col1, #T_4da9d_row85_col0, #T_4da9d_row85_col1 {\n",
       "  background-color: #faf3f9;\n",
       "  color: #000000;\n",
       "}\n",
       "#T_4da9d_row14_col0, #T_4da9d_row14_col1, #T_4da9d_row36_col0, #T_4da9d_row36_col1 {\n",
       "  background-color: #e8e4f0;\n",
       "  color: #000000;\n",
       "}\n",
       "#T_4da9d_row15_col0, #T_4da9d_row15_col1 {\n",
       "  background-color: #ced0e6;\n",
       "  color: #000000;\n",
       "}\n",
       "#T_4da9d_row18_col0, #T_4da9d_row18_col1, #T_4da9d_row69_col0, #T_4da9d_row69_col1, #T_4da9d_row71_col0, #T_4da9d_row71_col1, #T_4da9d_row72_col0, #T_4da9d_row72_col1, #T_4da9d_row73_col0, #T_4da9d_row73_col1, #T_4da9d_row74_col0, #T_4da9d_row74_col1, #T_4da9d_row75_col0, #T_4da9d_row75_col1, #T_4da9d_row77_col0, #T_4da9d_row77_col1 {\n",
       "  background-color: #f9f2f8;\n",
       "  color: #000000;\n",
       "}\n",
       "#T_4da9d_row19_col0, #T_4da9d_row19_col1 {\n",
       "  background-color: #eee9f3;\n",
       "  color: #000000;\n",
       "}\n",
       "#T_4da9d_row21_col0, #T_4da9d_row21_col1, #T_4da9d_row22_col0, #T_4da9d_row22_col1, #T_4da9d_row23_col0, #T_4da9d_row23_col1, #T_4da9d_row24_col0, #T_4da9d_row24_col1, #T_4da9d_row25_col0, #T_4da9d_row25_col1, #T_4da9d_row26_col0, #T_4da9d_row26_col1, #T_4da9d_row27_col0, #T_4da9d_row27_col1, #T_4da9d_row28_col0, #T_4da9d_row28_col1, #T_4da9d_row29_col0, #T_4da9d_row29_col1, #T_4da9d_row30_col0, #T_4da9d_row30_col1, #T_4da9d_row31_col0, #T_4da9d_row31_col1 {\n",
       "  background-color: #fdf5fa;\n",
       "  color: #000000;\n",
       "}\n",
       "#T_4da9d_row32_col0, #T_4da9d_row32_col1 {\n",
       "  background-color: #69a5cc;\n",
       "  color: #f1f1f1;\n",
       "}\n",
       "#T_4da9d_row34_col0, #T_4da9d_row34_col1 {\n",
       "  background-color: #f3edf5;\n",
       "  color: #000000;\n",
       "}\n",
       "#T_4da9d_row35_col0, #T_4da9d_row35_col1 {\n",
       "  background-color: #e0deed;\n",
       "  color: #000000;\n",
       "}\n",
       "#T_4da9d_row37_col0, #T_4da9d_row37_col1 {\n",
       "  background-color: #eee8f3;\n",
       "  color: #000000;\n",
       "}\n",
       "#T_4da9d_row39_col0, #T_4da9d_row39_col1 {\n",
       "  background-color: #96b6d7;\n",
       "  color: #000000;\n",
       "}\n",
       "#T_4da9d_row40_col0, #T_4da9d_row40_col1 {\n",
       "  background-color: #e7e3f0;\n",
       "  color: #000000;\n",
       "}\n",
       "#T_4da9d_row41_col0, #T_4da9d_row41_col1 {\n",
       "  background-color: #d8d7e9;\n",
       "  color: #000000;\n",
       "}\n",
       "#T_4da9d_row42_col0, #T_4da9d_row42_col1 {\n",
       "  background-color: #0f76b3;\n",
       "  color: #f1f1f1;\n",
       "}\n",
       "#T_4da9d_row45_col0, #T_4da9d_row45_col1 {\n",
       "  background-color: #f6eff7;\n",
       "  color: #000000;\n",
       "}\n",
       "#T_4da9d_row47_col0, #T_4da9d_row47_col1 {\n",
       "  background-color: #023858;\n",
       "  color: #f1f1f1;\n",
       "}\n",
       "#T_4da9d_row48_col0, #T_4da9d_row48_col1, #T_4da9d_row50_col0, #T_4da9d_row50_col1, #T_4da9d_row51_col0, #T_4da9d_row51_col1 {\n",
       "  background-color: #04598c;\n",
       "  color: #f1f1f1;\n",
       "}\n",
       "#T_4da9d_row52_col0, #T_4da9d_row52_col1, #T_4da9d_row53_col0, #T_4da9d_row53_col1, #T_4da9d_row54_col0, #T_4da9d_row54_col1, #T_4da9d_row55_col0, #T_4da9d_row55_col1, #T_4da9d_row56_col0, #T_4da9d_row56_col1, #T_4da9d_row57_col0, #T_4da9d_row57_col1, #T_4da9d_row59_col0, #T_4da9d_row59_col1, #T_4da9d_row61_col0, #T_4da9d_row61_col1 {\n",
       "  background-color: #fcf4fa;\n",
       "  color: #000000;\n",
       "}\n",
       "#T_4da9d_row60_col0, #T_4da9d_row60_col1 {\n",
       "  background-color: #dcdaeb;\n",
       "  color: #000000;\n",
       "}\n",
       "#T_4da9d_row65_col0, #T_4da9d_row65_col1, #T_4da9d_row84_col0, #T_4da9d_row84_col1 {\n",
       "  background-color: #faf2f8;\n",
       "  color: #000000;\n",
       "}\n",
       "#T_4da9d_row66_col0, #T_4da9d_row66_col1 {\n",
       "  background-color: #157ab5;\n",
       "  color: #f1f1f1;\n",
       "}\n",
       "#T_4da9d_row70_col0, #T_4da9d_row70_col1 {\n",
       "  background-color: #f7f0f7;\n",
       "  color: #000000;\n",
       "}\n",
       "#T_4da9d_row76_col0, #T_4da9d_row76_col1 {\n",
       "  background-color: #f8f1f8;\n",
       "  color: #000000;\n",
       "}\n",
       "</style>\n",
       "<table id=\"T_4da9d_\">\n",
       "  <thead>\n",
       "    <tr>\n",
       "      <th class=\"blank level0\" >&nbsp;</th>\n",
       "      <th class=\"col_heading level0 col0\" >Number of missings</th>\n",
       "      <th class=\"col_heading level0 col1\" >% of missings</th>\n",
       "    </tr>\n",
       "  </thead>\n",
       "  <tbody>\n",
       "    <tr>\n",
       "      <th id=\"T_4da9d_level0_row0\" class=\"row_heading level0 row0\" >final.output.concentrate_ag</th>\n",
       "      <td id=\"T_4da9d_row0_col0\" class=\"data row0 col0\" >89</td>\n",
       "      <td id=\"T_4da9d_row0_col1\" class=\"data row0 col1\" >0.391794</td>\n",
       "    </tr>\n",
       "    <tr>\n",
       "      <th id=\"T_4da9d_level0_row1\" class=\"row_heading level0 row1\" >final.output.concentrate_pb</th>\n",
       "      <td id=\"T_4da9d_row1_col0\" class=\"data row1 col0\" >87</td>\n",
       "      <td id=\"T_4da9d_row1_col1\" class=\"data row1 col1\" >0.382990</td>\n",
       "    </tr>\n",
       "    <tr>\n",
       "      <th id=\"T_4da9d_level0_row2\" class=\"row_heading level0 row2\" >final.output.concentrate_sol</th>\n",
       "      <td id=\"T_4da9d_row2_col0\" class=\"data row2 col0\" >385</td>\n",
       "      <td id=\"T_4da9d_row2_col1\" class=\"data row2 col1\" >1.694841</td>\n",
       "    </tr>\n",
       "    <tr>\n",
       "      <th id=\"T_4da9d_level0_row3\" class=\"row_heading level0 row3\" >final.output.concentrate_au</th>\n",
       "      <td id=\"T_4da9d_row3_col0\" class=\"data row3 col0\" >86</td>\n",
       "      <td id=\"T_4da9d_row3_col1\" class=\"data row3 col1\" >0.378588</td>\n",
       "    </tr>\n",
       "    <tr>\n",
       "      <th id=\"T_4da9d_level0_row4\" class=\"row_heading level0 row4\" >final.output.recovery</th>\n",
       "      <td id=\"T_4da9d_row4_col0\" class=\"data row4 col0\" >1963</td>\n",
       "      <td id=\"T_4da9d_row4_col1\" class=\"data row4 col1\" >8.641486</td>\n",
       "    </tr>\n",
       "    <tr>\n",
       "      <th id=\"T_4da9d_level0_row5\" class=\"row_heading level0 row5\" >final.output.tail_ag</th>\n",
       "      <td id=\"T_4da9d_row5_col0\" class=\"data row5 col0\" >83</td>\n",
       "      <td id=\"T_4da9d_row5_col1\" class=\"data row5 col1\" >0.365381</td>\n",
       "    </tr>\n",
       "    <tr>\n",
       "      <th id=\"T_4da9d_level0_row6\" class=\"row_heading level0 row6\" >final.output.tail_pb</th>\n",
       "      <td id=\"T_4da9d_row6_col0\" class=\"data row6 col0\" >200</td>\n",
       "      <td id=\"T_4da9d_row6_col1\" class=\"data row6 col1\" >0.880437</td>\n",
       "    </tr>\n",
       "    <tr>\n",
       "      <th id=\"T_4da9d_level0_row7\" class=\"row_heading level0 row7\" >final.output.tail_sol</th>\n",
       "      <td id=\"T_4da9d_row7_col0\" class=\"data row7 col0\" >271</td>\n",
       "      <td id=\"T_4da9d_row7_col1\" class=\"data row7 col1\" >1.192992</td>\n",
       "    </tr>\n",
       "    <tr>\n",
       "      <th id=\"T_4da9d_level0_row8\" class=\"row_heading level0 row8\" >final.output.tail_au</th>\n",
       "      <td id=\"T_4da9d_row8_col0\" class=\"data row8 col0\" >81</td>\n",
       "      <td id=\"T_4da9d_row8_col1\" class=\"data row8 col1\" >0.356577</td>\n",
       "    </tr>\n",
       "    <tr>\n",
       "      <th id=\"T_4da9d_level0_row9\" class=\"row_heading level0 row9\" >primary_cleaner.input.sulfate</th>\n",
       "      <td id=\"T_4da9d_row9_col0\" class=\"data row9 col0\" >1609</td>\n",
       "      <td id=\"T_4da9d_row9_col1\" class=\"data row9 col1\" >7.083113</td>\n",
       "    </tr>\n",
       "    <tr>\n",
       "      <th id=\"T_4da9d_level0_row10\" class=\"row_heading level0 row10\" >primary_cleaner.input.depressant</th>\n",
       "      <td id=\"T_4da9d_row10_col0\" class=\"data row10 col0\" >1546</td>\n",
       "      <td id=\"T_4da9d_row10_col1\" class=\"data row10 col1\" >6.805776</td>\n",
       "    </tr>\n",
       "    <tr>\n",
       "      <th id=\"T_4da9d_level0_row11\" class=\"row_heading level0 row11\" >primary_cleaner.input.feed_size</th>\n",
       "      <td id=\"T_4da9d_row11_col0\" class=\"data row11 col0\" >0</td>\n",
       "      <td id=\"T_4da9d_row11_col1\" class=\"data row11 col1\" >0.000000</td>\n",
       "    </tr>\n",
       "    <tr>\n",
       "      <th id=\"T_4da9d_level0_row12\" class=\"row_heading level0 row12\" >primary_cleaner.input.xanthate</th>\n",
       "      <td id=\"T_4da9d_row12_col0\" class=\"data row12 col0\" >1151</td>\n",
       "      <td id=\"T_4da9d_row12_col1\" class=\"data row12 col1\" >5.066913</td>\n",
       "    </tr>\n",
       "    <tr>\n",
       "      <th id=\"T_4da9d_level0_row13\" class=\"row_heading level0 row13\" >primary_cleaner.output.concentrate_ag</th>\n",
       "      <td id=\"T_4da9d_row13_col0\" class=\"data row13 col0\" >98</td>\n",
       "      <td id=\"T_4da9d_row13_col1\" class=\"data row13 col1\" >0.431414</td>\n",
       "    </tr>\n",
       "    <tr>\n",
       "      <th id=\"T_4da9d_level0_row14\" class=\"row_heading level0 row14\" >primary_cleaner.output.concentrate_pb</th>\n",
       "      <td id=\"T_4da9d_row14_col0\" class=\"data row14 col0\" >448</td>\n",
       "      <td id=\"T_4da9d_row14_col1\" class=\"data row14 col1\" >1.972178</td>\n",
       "    </tr>\n",
       "    <tr>\n",
       "      <th id=\"T_4da9d_level0_row15\" class=\"row_heading level0 row15\" >primary_cleaner.output.concentrate_sol</th>\n",
       "      <td id=\"T_4da9d_row15_col0\" class=\"data row15 col0\" >798</td>\n",
       "      <td id=\"T_4da9d_row15_col1\" class=\"data row15 col1\" >3.512942</td>\n",
       "    </tr>\n",
       "    <tr>\n",
       "      <th id=\"T_4da9d_level0_row16\" class=\"row_heading level0 row16\" >primary_cleaner.output.concentrate_au</th>\n",
       "      <td id=\"T_4da9d_row16_col0\" class=\"data row16 col0\" >98</td>\n",
       "      <td id=\"T_4da9d_row16_col1\" class=\"data row16 col1\" >0.431414</td>\n",
       "    </tr>\n",
       "    <tr>\n",
       "      <th id=\"T_4da9d_level0_row17\" class=\"row_heading level0 row17\" >primary_cleaner.output.tail_ag</th>\n",
       "      <td id=\"T_4da9d_row17_col0\" class=\"data row17 col0\" >102</td>\n",
       "      <td id=\"T_4da9d_row17_col1\" class=\"data row17 col1\" >0.449023</td>\n",
       "    </tr>\n",
       "    <tr>\n",
       "      <th id=\"T_4da9d_level0_row18\" class=\"row_heading level0 row18\" >primary_cleaner.output.tail_pb</th>\n",
       "      <td id=\"T_4da9d_row18_col0\" class=\"data row18 col0\" >122</td>\n",
       "      <td id=\"T_4da9d_row18_col1\" class=\"data row18 col1\" >0.537066</td>\n",
       "    </tr>\n",
       "    <tr>\n",
       "      <th id=\"T_4da9d_level0_row19\" class=\"row_heading level0 row19\" >primary_cleaner.output.tail_sol</th>\n",
       "      <td id=\"T_4da9d_row19_col0\" class=\"data row19 col0\" >351</td>\n",
       "      <td id=\"T_4da9d_row19_col1\" class=\"data row19 col1\" >1.545166</td>\n",
       "    </tr>\n",
       "    <tr>\n",
       "      <th id=\"T_4da9d_level0_row20\" class=\"row_heading level0 row20\" >primary_cleaner.output.tail_au</th>\n",
       "      <td id=\"T_4da9d_row20_col0\" class=\"data row20 col0\" >99</td>\n",
       "      <td id=\"T_4da9d_row20_col1\" class=\"data row20 col1\" >0.435816</td>\n",
       "    </tr>\n",
       "    <tr>\n",
       "      <th id=\"T_4da9d_level0_row21\" class=\"row_heading level0 row21\" >primary_cleaner.state.floatbank8_a_air</th>\n",
       "      <td id=\"T_4da9d_row21_col0\" class=\"data row21 col0\" >56</td>\n",
       "      <td id=\"T_4da9d_row21_col1\" class=\"data row21 col1\" >0.246522</td>\n",
       "    </tr>\n",
       "    <tr>\n",
       "      <th id=\"T_4da9d_level0_row22\" class=\"row_heading level0 row22\" >primary_cleaner.state.floatbank8_a_level</th>\n",
       "      <td id=\"T_4da9d_row22_col0\" class=\"data row22 col0\" >49</td>\n",
       "      <td id=\"T_4da9d_row22_col1\" class=\"data row22 col1\" >0.215707</td>\n",
       "    </tr>\n",
       "    <tr>\n",
       "      <th id=\"T_4da9d_level0_row23\" class=\"row_heading level0 row23\" >primary_cleaner.state.floatbank8_b_air</th>\n",
       "      <td id=\"T_4da9d_row23_col0\" class=\"data row23 col0\" >56</td>\n",
       "      <td id=\"T_4da9d_row23_col1\" class=\"data row23 col1\" >0.246522</td>\n",
       "    </tr>\n",
       "    <tr>\n",
       "      <th id=\"T_4da9d_level0_row24\" class=\"row_heading level0 row24\" >primary_cleaner.state.floatbank8_b_level</th>\n",
       "      <td id=\"T_4da9d_row24_col0\" class=\"data row24 col0\" >43</td>\n",
       "      <td id=\"T_4da9d_row24_col1\" class=\"data row24 col1\" >0.189294</td>\n",
       "    </tr>\n",
       "    <tr>\n",
       "      <th id=\"T_4da9d_level0_row25\" class=\"row_heading level0 row25\" >primary_cleaner.state.floatbank8_c_air</th>\n",
       "      <td id=\"T_4da9d_row25_col0\" class=\"data row25 col0\" >54</td>\n",
       "      <td id=\"T_4da9d_row25_col1\" class=\"data row25 col1\" >0.237718</td>\n",
       "    </tr>\n",
       "    <tr>\n",
       "      <th id=\"T_4da9d_level0_row26\" class=\"row_heading level0 row26\" >primary_cleaner.state.floatbank8_c_level</th>\n",
       "      <td id=\"T_4da9d_row26_col0\" class=\"data row26 col0\" >43</td>\n",
       "      <td id=\"T_4da9d_row26_col1\" class=\"data row26 col1\" >0.189294</td>\n",
       "    </tr>\n",
       "    <tr>\n",
       "      <th id=\"T_4da9d_level0_row27\" class=\"row_heading level0 row27\" >primary_cleaner.state.floatbank8_d_air</th>\n",
       "      <td id=\"T_4da9d_row27_col0\" class=\"data row27 col0\" >55</td>\n",
       "      <td id=\"T_4da9d_row27_col1\" class=\"data row27 col1\" >0.242120</td>\n",
       "    </tr>\n",
       "    <tr>\n",
       "      <th id=\"T_4da9d_level0_row28\" class=\"row_heading level0 row28\" >primary_cleaner.state.floatbank8_d_level</th>\n",
       "      <td id=\"T_4da9d_row28_col0\" class=\"data row28 col0\" >43</td>\n",
       "      <td id=\"T_4da9d_row28_col1\" class=\"data row28 col1\" >0.189294</td>\n",
       "    </tr>\n",
       "    <tr>\n",
       "      <th id=\"T_4da9d_level0_row29\" class=\"row_heading level0 row29\" >rougher.calculation.sulfate_to_au_concentrate</th>\n",
       "      <td id=\"T_4da9d_row29_col0\" class=\"data row29 col0\" >44</td>\n",
       "      <td id=\"T_4da9d_row29_col1\" class=\"data row29 col1\" >0.193696</td>\n",
       "    </tr>\n",
       "    <tr>\n",
       "      <th id=\"T_4da9d_level0_row30\" class=\"row_heading level0 row30\" >rougher.calculation.floatbank10_sulfate_to_au_feed</th>\n",
       "      <td id=\"T_4da9d_row30_col0\" class=\"data row30 col0\" >44</td>\n",
       "      <td id=\"T_4da9d_row30_col1\" class=\"data row30 col1\" >0.193696</td>\n",
       "    </tr>\n",
       "    <tr>\n",
       "      <th id=\"T_4da9d_level0_row31\" class=\"row_heading level0 row31\" >rougher.calculation.floatbank11_sulfate_to_au_feed</th>\n",
       "      <td id=\"T_4da9d_row31_col0\" class=\"data row31 col0\" >44</td>\n",
       "      <td id=\"T_4da9d_row31_col1\" class=\"data row31 col1\" >0.193696</td>\n",
       "    </tr>\n",
       "    <tr>\n",
       "      <th id=\"T_4da9d_level0_row32\" class=\"row_heading level0 row32\" >rougher.calculation.au_pb_ratio</th>\n",
       "      <td id=\"T_4da9d_row32_col0\" class=\"data row32 col0\" >1627</td>\n",
       "      <td id=\"T_4da9d_row32_col1\" class=\"data row32 col1\" >7.162353</td>\n",
       "    </tr>\n",
       "    <tr>\n",
       "      <th id=\"T_4da9d_level0_row33\" class=\"row_heading level0 row33\" >rougher.input.feed_ag</th>\n",
       "      <td id=\"T_4da9d_row33_col0\" class=\"data row33 col0\" >98</td>\n",
       "      <td id=\"T_4da9d_row33_col1\" class=\"data row33 col1\" >0.431414</td>\n",
       "    </tr>\n",
       "    <tr>\n",
       "      <th id=\"T_4da9d_level0_row34\" class=\"row_heading level0 row34\" >rougher.input.feed_pb</th>\n",
       "      <td id=\"T_4da9d_row34_col0\" class=\"data row34 col0\" >244</td>\n",
       "      <td id=\"T_4da9d_row34_col1\" class=\"data row34 col1\" >1.074133</td>\n",
       "    </tr>\n",
       "    <tr>\n",
       "      <th id=\"T_4da9d_level0_row35\" class=\"row_heading level0 row35\" >rougher.input.feed_rate</th>\n",
       "      <td id=\"T_4da9d_row35_col0\" class=\"data row35 col0\" >553</td>\n",
       "      <td id=\"T_4da9d_row35_col1\" class=\"data row35 col1\" >2.434407</td>\n",
       "    </tr>\n",
       "    <tr>\n",
       "      <th id=\"T_4da9d_level0_row36\" class=\"row_heading level0 row36\" >rougher.input.feed_size</th>\n",
       "      <td id=\"T_4da9d_row36_col0\" class=\"data row36 col0\" >439</td>\n",
       "      <td id=\"T_4da9d_row36_col1\" class=\"data row36 col1\" >1.932559</td>\n",
       "    </tr>\n",
       "    <tr>\n",
       "      <th id=\"T_4da9d_level0_row37\" class=\"row_heading level0 row37\" >rougher.input.feed_sol</th>\n",
       "      <td id=\"T_4da9d_row37_col0\" class=\"data row37 col0\" >359</td>\n",
       "      <td id=\"T_4da9d_row37_col1\" class=\"data row37 col1\" >1.580384</td>\n",
       "    </tr>\n",
       "    <tr>\n",
       "      <th id=\"T_4da9d_level0_row38\" class=\"row_heading level0 row38\" >rougher.input.feed_au</th>\n",
       "      <td id=\"T_4da9d_row38_col0\" class=\"data row38 col0\" >99</td>\n",
       "      <td id=\"T_4da9d_row38_col1\" class=\"data row38 col1\" >0.435816</td>\n",
       "    </tr>\n",
       "    <tr>\n",
       "      <th id=\"T_4da9d_level0_row39\" class=\"row_heading level0 row39\" >rougher.input.floatbank10_sulfate</th>\n",
       "      <td id=\"T_4da9d_row39_col0\" class=\"data row39 col0\" >1301</td>\n",
       "      <td id=\"T_4da9d_row39_col1\" class=\"data row39 col1\" >5.727241</td>\n",
       "    </tr>\n",
       "    <tr>\n",
       "      <th id=\"T_4da9d_level0_row40\" class=\"row_heading level0 row40\" >rougher.input.floatbank10_xanthate</th>\n",
       "      <td id=\"T_4da9d_row40_col0\" class=\"data row40 col0\" >469</td>\n",
       "      <td id=\"T_4da9d_row40_col1\" class=\"data row40 col1\" >2.064624</td>\n",
       "    </tr>\n",
       "    <tr>\n",
       "      <th id=\"T_4da9d_level0_row41\" class=\"row_heading level0 row41\" >rougher.input.floatbank11_sulfate</th>\n",
       "      <td id=\"T_4da9d_row41_col0\" class=\"data row41 col0\" >678</td>\n",
       "      <td id=\"T_4da9d_row41_col1\" class=\"data row41 col1\" >2.984680</td>\n",
       "    </tr>\n",
       "    <tr>\n",
       "      <th id=\"T_4da9d_level0_row42\" class=\"row_heading level0 row42\" >rougher.input.floatbank11_xanthate</th>\n",
       "      <td id=\"T_4da9d_row42_col0\" class=\"data row42 col0\" >2257</td>\n",
       "      <td id=\"T_4da9d_row42_col1\" class=\"data row42 col1\" >9.935728</td>\n",
       "    </tr>\n",
       "    <tr>\n",
       "      <th id=\"T_4da9d_level0_row43\" class=\"row_heading level0 row43\" >rougher.output.concentrate_ag</th>\n",
       "      <td id=\"T_4da9d_row43_col0\" class=\"data row43 col0\" >98</td>\n",
       "      <td id=\"T_4da9d_row43_col1\" class=\"data row43 col1\" >0.431414</td>\n",
       "    </tr>\n",
       "    <tr>\n",
       "      <th id=\"T_4da9d_level0_row44\" class=\"row_heading level0 row44\" >rougher.output.concentrate_pb</th>\n",
       "      <td id=\"T_4da9d_row44_col0\" class=\"data row44 col0\" >98</td>\n",
       "      <td id=\"T_4da9d_row44_col1\" class=\"data row44 col1\" >0.431414</td>\n",
       "    </tr>\n",
       "    <tr>\n",
       "      <th id=\"T_4da9d_level0_row45\" class=\"row_heading level0 row45\" >rougher.output.concentrate_sol</th>\n",
       "      <td id=\"T_4da9d_row45_col0\" class=\"data row45 col0\" >190</td>\n",
       "      <td id=\"T_4da9d_row45_col1\" class=\"data row45 col1\" >0.836415</td>\n",
       "    </tr>\n",
       "    <tr>\n",
       "      <th id=\"T_4da9d_level0_row46\" class=\"row_heading level0 row46\" >rougher.output.concentrate_au</th>\n",
       "      <td id=\"T_4da9d_row46_col0\" class=\"data row46 col0\" >98</td>\n",
       "      <td id=\"T_4da9d_row46_col1\" class=\"data row46 col1\" >0.431414</td>\n",
       "    </tr>\n",
       "    <tr>\n",
       "      <th id=\"T_4da9d_level0_row47\" class=\"row_heading level0 row47\" >rougher.output.recovery</th>\n",
       "      <td id=\"T_4da9d_row47_col0\" class=\"data row47 col0\" >3119</td>\n",
       "      <td id=\"T_4da9d_row47_col1\" class=\"data row47 col1\" >13.730410</td>\n",
       "    </tr>\n",
       "    <tr>\n",
       "      <th id=\"T_4da9d_level0_row48\" class=\"row_heading level0 row48\" >rougher.output.tail_ag</th>\n",
       "      <td id=\"T_4da9d_row48_col0\" class=\"data row48 col0\" >2737</td>\n",
       "      <td id=\"T_4da9d_row48_col1\" class=\"data row48 col1\" >12.048776</td>\n",
       "    </tr>\n",
       "    <tr>\n",
       "      <th id=\"T_4da9d_level0_row49\" class=\"row_heading level0 row49\" >rougher.output.tail_pb</th>\n",
       "      <td id=\"T_4da9d_row49_col0\" class=\"data row49 col0\" >98</td>\n",
       "      <td id=\"T_4da9d_row49_col1\" class=\"data row49 col1\" >0.431414</td>\n",
       "    </tr>\n",
       "    <tr>\n",
       "      <th id=\"T_4da9d_level0_row50\" class=\"row_heading level0 row50\" >rougher.output.tail_sol</th>\n",
       "      <td id=\"T_4da9d_row50_col0\" class=\"data row50 col0\" >2736</td>\n",
       "      <td id=\"T_4da9d_row50_col1\" class=\"data row50 col1\" >12.044374</td>\n",
       "    </tr>\n",
       "    <tr>\n",
       "      <th id=\"T_4da9d_level0_row51\" class=\"row_heading level0 row51\" >rougher.output.tail_au</th>\n",
       "      <td id=\"T_4da9d_row51_col0\" class=\"data row51 col0\" >2736</td>\n",
       "      <td id=\"T_4da9d_row51_col1\" class=\"data row51 col1\" >12.044374</td>\n",
       "    </tr>\n",
       "    <tr>\n",
       "      <th id=\"T_4da9d_level0_row52\" class=\"row_heading level0 row52\" >rougher.state.floatbank10_a_air</th>\n",
       "      <td id=\"T_4da9d_row52_col0\" class=\"data row52 col0\" >70</td>\n",
       "      <td id=\"T_4da9d_row52_col1\" class=\"data row52 col1\" >0.308153</td>\n",
       "    </tr>\n",
       "    <tr>\n",
       "      <th id=\"T_4da9d_level0_row53\" class=\"row_heading level0 row53\" >rougher.state.floatbank10_a_level</th>\n",
       "      <td id=\"T_4da9d_row53_col0\" class=\"data row53 col0\" >69</td>\n",
       "      <td id=\"T_4da9d_row53_col1\" class=\"data row53 col1\" >0.303751</td>\n",
       "    </tr>\n",
       "    <tr>\n",
       "      <th id=\"T_4da9d_level0_row54\" class=\"row_heading level0 row54\" >rougher.state.floatbank10_b_air</th>\n",
       "      <td id=\"T_4da9d_row54_col0\" class=\"data row54 col0\" >70</td>\n",
       "      <td id=\"T_4da9d_row54_col1\" class=\"data row54 col1\" >0.308153</td>\n",
       "    </tr>\n",
       "    <tr>\n",
       "      <th id=\"T_4da9d_level0_row55\" class=\"row_heading level0 row55\" >rougher.state.floatbank10_b_level</th>\n",
       "      <td id=\"T_4da9d_row55_col0\" class=\"data row55 col0\" >69</td>\n",
       "      <td id=\"T_4da9d_row55_col1\" class=\"data row55 col1\" >0.303751</td>\n",
       "    </tr>\n",
       "    <tr>\n",
       "      <th id=\"T_4da9d_level0_row56\" class=\"row_heading level0 row56\" >rougher.state.floatbank10_c_air</th>\n",
       "      <td id=\"T_4da9d_row56_col0\" class=\"data row56 col0\" >70</td>\n",
       "      <td id=\"T_4da9d_row56_col1\" class=\"data row56 col1\" >0.308153</td>\n",
       "    </tr>\n",
       "    <tr>\n",
       "      <th id=\"T_4da9d_level0_row57\" class=\"row_heading level0 row57\" >rougher.state.floatbank10_c_level</th>\n",
       "      <td id=\"T_4da9d_row57_col0\" class=\"data row57 col0\" >62</td>\n",
       "      <td id=\"T_4da9d_row57_col1\" class=\"data row57 col1\" >0.272935</td>\n",
       "    </tr>\n",
       "    <tr>\n",
       "      <th id=\"T_4da9d_level0_row58\" class=\"row_heading level0 row58\" >rougher.state.floatbank10_d_air</th>\n",
       "      <td id=\"T_4da9d_row58_col0\" class=\"data row58 col0\" >75</td>\n",
       "      <td id=\"T_4da9d_row58_col1\" class=\"data row58 col1\" >0.330164</td>\n",
       "    </tr>\n",
       "    <tr>\n",
       "      <th id=\"T_4da9d_level0_row59\" class=\"row_heading level0 row59\" >rougher.state.floatbank10_d_level</th>\n",
       "      <td id=\"T_4da9d_row59_col0\" class=\"data row59 col0\" >67</td>\n",
       "      <td id=\"T_4da9d_row59_col1\" class=\"data row59 col1\" >0.294946</td>\n",
       "    </tr>\n",
       "    <tr>\n",
       "      <th id=\"T_4da9d_level0_row60\" class=\"row_heading level0 row60\" >rougher.state.floatbank10_e_air</th>\n",
       "      <td id=\"T_4da9d_row60_col0\" class=\"data row60 col0\" >620</td>\n",
       "      <td id=\"T_4da9d_row60_col1\" class=\"data row60 col1\" >2.729354</td>\n",
       "    </tr>\n",
       "    <tr>\n",
       "      <th id=\"T_4da9d_level0_row61\" class=\"row_heading level0 row61\" >rougher.state.floatbank10_e_level</th>\n",
       "      <td id=\"T_4da9d_row61_col0\" class=\"data row61 col0\" >67</td>\n",
       "      <td id=\"T_4da9d_row61_col1\" class=\"data row61 col1\" >0.294946</td>\n",
       "    </tr>\n",
       "    <tr>\n",
       "      <th id=\"T_4da9d_level0_row62\" class=\"row_heading level0 row62\" >rougher.state.floatbank10_f_air</th>\n",
       "      <td id=\"T_4da9d_row62_col0\" class=\"data row62 col0\" >75</td>\n",
       "      <td id=\"T_4da9d_row62_col1\" class=\"data row62 col1\" >0.330164</td>\n",
       "    </tr>\n",
       "    <tr>\n",
       "      <th id=\"T_4da9d_level0_row63\" class=\"row_heading level0 row63\" >rougher.state.floatbank10_f_level</th>\n",
       "      <td id=\"T_4da9d_row63_col0\" class=\"data row63 col0\" >74</td>\n",
       "      <td id=\"T_4da9d_row63_col1\" class=\"data row63 col1\" >0.325762</td>\n",
       "    </tr>\n",
       "    <tr>\n",
       "      <th id=\"T_4da9d_level0_row64\" class=\"row_heading level0 row64\" >secondary_cleaner.output.tail_ag</th>\n",
       "      <td id=\"T_4da9d_row64_col0\" class=\"data row64 col0\" >100</td>\n",
       "      <td id=\"T_4da9d_row64_col1\" class=\"data row64 col1\" >0.440218</td>\n",
       "    </tr>\n",
       "    <tr>\n",
       "      <th id=\"T_4da9d_level0_row65\" class=\"row_heading level0 row65\" >secondary_cleaner.output.tail_pb</th>\n",
       "      <td id=\"T_4da9d_row65_col0\" class=\"data row65 col0\" >116</td>\n",
       "      <td id=\"T_4da9d_row65_col1\" class=\"data row65 col1\" >0.510653</td>\n",
       "    </tr>\n",
       "    <tr>\n",
       "      <th id=\"T_4da9d_level0_row66\" class=\"row_heading level0 row66\" >secondary_cleaner.output.tail_sol</th>\n",
       "      <td id=\"T_4da9d_row66_col0\" class=\"data row66 col0\" >2215</td>\n",
       "      <td id=\"T_4da9d_row66_col1\" class=\"data row66 col1\" >9.750836</td>\n",
       "    </tr>\n",
       "    <tr>\n",
       "      <th id=\"T_4da9d_level0_row67\" class=\"row_heading level0 row67\" >secondary_cleaner.output.tail_au</th>\n",
       "      <td id=\"T_4da9d_row67_col0\" class=\"data row67 col0\" >98</td>\n",
       "      <td id=\"T_4da9d_row67_col1\" class=\"data row67 col1\" >0.431414</td>\n",
       "    </tr>\n",
       "    <tr>\n",
       "      <th id=\"T_4da9d_level0_row68\" class=\"row_heading level0 row68\" >secondary_cleaner.state.floatbank2_a_air</th>\n",
       "      <td id=\"T_4da9d_row68_col0\" class=\"data row68 col0\" >383</td>\n",
       "      <td id=\"T_4da9d_row68_col1\" class=\"data row68 col1\" >1.686036</td>\n",
       "    </tr>\n",
       "    <tr>\n",
       "      <th id=\"T_4da9d_level0_row69\" class=\"row_heading level0 row69\" >secondary_cleaner.state.floatbank2_a_level</th>\n",
       "      <td id=\"T_4da9d_row69_col0\" class=\"data row69 col0\" >125</td>\n",
       "      <td id=\"T_4da9d_row69_col1\" class=\"data row69 col1\" >0.550273</td>\n",
       "    </tr>\n",
       "    <tr>\n",
       "      <th id=\"T_4da9d_level0_row70\" class=\"row_heading level0 row70\" >secondary_cleaner.state.floatbank2_b_air</th>\n",
       "      <td id=\"T_4da9d_row70_col0\" class=\"data row70 col0\" >178</td>\n",
       "      <td id=\"T_4da9d_row70_col1\" class=\"data row70 col1\" >0.783589</td>\n",
       "    </tr>\n",
       "    <tr>\n",
       "      <th id=\"T_4da9d_level0_row71\" class=\"row_heading level0 row71\" >secondary_cleaner.state.floatbank2_b_level</th>\n",
       "      <td id=\"T_4da9d_row71_col0\" class=\"data row71 col0\" >128</td>\n",
       "      <td id=\"T_4da9d_row71_col1\" class=\"data row71 col1\" >0.563479</td>\n",
       "    </tr>\n",
       "    <tr>\n",
       "      <th id=\"T_4da9d_level0_row72\" class=\"row_heading level0 row72\" >secondary_cleaner.state.floatbank3_a_air</th>\n",
       "      <td id=\"T_4da9d_row72_col0\" class=\"data row72 col0\" >131</td>\n",
       "      <td id=\"T_4da9d_row72_col1\" class=\"data row72 col1\" >0.576686</td>\n",
       "    </tr>\n",
       "    <tr>\n",
       "      <th id=\"T_4da9d_level0_row73\" class=\"row_heading level0 row73\" >secondary_cleaner.state.floatbank3_a_level</th>\n",
       "      <td id=\"T_4da9d_row73_col0\" class=\"data row73 col0\" >129</td>\n",
       "      <td id=\"T_4da9d_row73_col1\" class=\"data row73 col1\" >0.567882</td>\n",
       "    </tr>\n",
       "    <tr>\n",
       "      <th id=\"T_4da9d_level0_row74\" class=\"row_heading level0 row74\" >secondary_cleaner.state.floatbank3_b_air</th>\n",
       "      <td id=\"T_4da9d_row74_col0\" class=\"data row74 col0\" >124</td>\n",
       "      <td id=\"T_4da9d_row74_col1\" class=\"data row74 col1\" >0.545871</td>\n",
       "    </tr>\n",
       "    <tr>\n",
       "      <th id=\"T_4da9d_level0_row75\" class=\"row_heading level0 row75\" >secondary_cleaner.state.floatbank3_b_level</th>\n",
       "      <td id=\"T_4da9d_row75_col0\" class=\"data row75 col0\" >126</td>\n",
       "      <td id=\"T_4da9d_row75_col1\" class=\"data row75 col1\" >0.554675</td>\n",
       "    </tr>\n",
       "    <tr>\n",
       "      <th id=\"T_4da9d_level0_row76\" class=\"row_heading level0 row76\" >secondary_cleaner.state.floatbank4_a_air</th>\n",
       "      <td id=\"T_4da9d_row76_col0\" class=\"data row76 col0\" >145</td>\n",
       "      <td id=\"T_4da9d_row76_col1\" class=\"data row76 col1\" >0.638317</td>\n",
       "    </tr>\n",
       "    <tr>\n",
       "      <th id=\"T_4da9d_level0_row77\" class=\"row_heading level0 row77\" >secondary_cleaner.state.floatbank4_a_level</th>\n",
       "      <td id=\"T_4da9d_row77_col0\" class=\"data row77 col0\" >129</td>\n",
       "      <td id=\"T_4da9d_row77_col1\" class=\"data row77 col1\" >0.567882</td>\n",
       "    </tr>\n",
       "    <tr>\n",
       "      <th id=\"T_4da9d_level0_row78\" class=\"row_heading level0 row78\" >secondary_cleaner.state.floatbank4_b_air</th>\n",
       "      <td id=\"T_4da9d_row78_col0\" class=\"data row78 col0\" >108</td>\n",
       "      <td id=\"T_4da9d_row78_col1\" class=\"data row78 col1\" >0.475436</td>\n",
       "    </tr>\n",
       "    <tr>\n",
       "      <th id=\"T_4da9d_level0_row79\" class=\"row_heading level0 row79\" >secondary_cleaner.state.floatbank4_b_level</th>\n",
       "      <td id=\"T_4da9d_row79_col0\" class=\"data row79 col0\" >109</td>\n",
       "      <td id=\"T_4da9d_row79_col1\" class=\"data row79 col1\" >0.479838</td>\n",
       "    </tr>\n",
       "    <tr>\n",
       "      <th id=\"T_4da9d_level0_row80\" class=\"row_heading level0 row80\" >secondary_cleaner.state.floatbank5_a_air</th>\n",
       "      <td id=\"T_4da9d_row80_col0\" class=\"data row80 col0\" >101</td>\n",
       "      <td id=\"T_4da9d_row80_col1\" class=\"data row80 col1\" >0.444621</td>\n",
       "    </tr>\n",
       "    <tr>\n",
       "      <th id=\"T_4da9d_level0_row81\" class=\"row_heading level0 row81\" >secondary_cleaner.state.floatbank5_a_level</th>\n",
       "      <td id=\"T_4da9d_row81_col0\" class=\"data row81 col0\" >101</td>\n",
       "      <td id=\"T_4da9d_row81_col1\" class=\"data row81 col1\" >0.444621</td>\n",
       "    </tr>\n",
       "    <tr>\n",
       "      <th id=\"T_4da9d_level0_row82\" class=\"row_heading level0 row82\" >secondary_cleaner.state.floatbank5_b_air</th>\n",
       "      <td id=\"T_4da9d_row82_col0\" class=\"data row82 col0\" >101</td>\n",
       "      <td id=\"T_4da9d_row82_col1\" class=\"data row82 col1\" >0.444621</td>\n",
       "    </tr>\n",
       "    <tr>\n",
       "      <th id=\"T_4da9d_level0_row83\" class=\"row_heading level0 row83\" >secondary_cleaner.state.floatbank5_b_level</th>\n",
       "      <td id=\"T_4da9d_row83_col0\" class=\"data row83 col0\" >100</td>\n",
       "      <td id=\"T_4da9d_row83_col1\" class=\"data row83 col1\" >0.440218</td>\n",
       "    </tr>\n",
       "    <tr>\n",
       "      <th id=\"T_4da9d_level0_row84\" class=\"row_heading level0 row84\" >secondary_cleaner.state.floatbank6_a_air</th>\n",
       "      <td id=\"T_4da9d_row84_col0\" class=\"data row84 col0\" >119</td>\n",
       "      <td id=\"T_4da9d_row84_col1\" class=\"data row84 col1\" >0.523860</td>\n",
       "    </tr>\n",
       "    <tr>\n",
       "      <th id=\"T_4da9d_level0_row85\" class=\"row_heading level0 row85\" >secondary_cleaner.state.floatbank6_a_level</th>\n",
       "      <td id=\"T_4da9d_row85_col0\" class=\"data row85 col0\" >101</td>\n",
       "      <td id=\"T_4da9d_row85_col1\" class=\"data row85 col1\" >0.444621</td>\n",
       "    </tr>\n",
       "  </tbody>\n",
       "</table>\n"
      ],
      "text/plain": [
       "<pandas.io.formats.style.Styler at 0x1a88722ad90>"
      ]
     },
     "metadata": {},
     "output_type": "display_data"
    }
   ],
   "source": [
    "# calcualte number of missing values and their percentages in each columns of every data file\n",
    "def missing_data(list_of_dfs, list_of_names):\n",
    "    for i in range(len(list_of_dfs)):\n",
    "        df = list_of_dfs[i]\n",
    "        col_names = df.columns.tolist()\n",
    "        na_per_col = df.isna().sum().tolist()\n",
    "        na_percentage = (df.isna().sum() / len(df) * 100).tolist()\n",
    "        print(\"=\" * 20, \"Missing values of\", list_of_names[i], \"=\" * 20)\n",
    "        display(\n",
    "            pd.DataFrame(\n",
    "                list(zip(na_per_col, na_percentage)),\n",
    "                columns=[\"Number of missings\", \"% of missings\"],\n",
    "                index=col_names,\n",
    "            ).style.background_gradient(axis=0)\n",
    "        )\n",
    "\n",
    "\n",
    "# apply the function\n",
    "missing_data([df_train, df_test, df_full], [\"df_train\", \"df_test\", \"df_full\"])"
   ]
  },
  {
   "attachments": {
    "image.png": {
     "image/png": "[encoded data removed]"
    }
   },
   "cell_type": "markdown",
   "metadata": {},
   "source": [
    "### Check that recovery is calculated correctly. \n",
    "Using the training set, calculate recovery for the rougher.output.recovery feature. Find the MAE between your calculations and the feature values. Provide findings.\n",
    "\n",
    "<div>\n",
    "<img src=\"attachment:image.png\" width=\"500\"/>\n",
    "</div>\n",
    "\n",
    "where:\n",
    "- C — share of gold in the concentrate right after flotation (for finding the rougher concentrate recovery)/after purification (for finding the final concentrate recovery)\n",
    "- F — share of gold in the feed before flotation (for finding the rougher concentrate recovery)/in the concentrate right after flotation (for finding the final concentrate recovery)\n",
    "- T — share of gold in the rougher tails right after flotation (for finding the rougher concentrate recovery)/after purification (for finding the final concentrate recovery)"
   ]
  },
  {
   "cell_type": "code",
   "execution_count": 9,
   "metadata": {},
   "outputs": [
    {
     "name": "stdout",
     "output_type": "stream",
     "text": [
      "Mean absolute error of calculated and provided recovery values is 7.88e-15\n"
     ]
    }
   ],
   "source": [
    "# a fucntion to calculate recovery\n",
    "def recovery(c, f, t):\n",
    "    prerecovery = (c * (f - t)) / (f * (c - t))\n",
    "    recovery = prerecovery * 100\n",
    "    recovery[recovery < 0] = np.nan\n",
    "    recovery[recovery > 100] = np.nan\n",
    "    return recovery\n",
    "\n",
    "\n",
    "# prepare columns\n",
    "c = df_train[\"rougher.output.concentrate_au\"]\n",
    "f = df_train[\"rougher.input.feed_au\"]\n",
    "t = df_train[\"rougher.output.tail_au\"]\n",
    "\n",
    "# apply the function\n",
    "recovery_list = recovery(c, f, t)\n",
    "\n",
    "MAE = mean_absolute_error(\n",
    "    df_train[\"rougher.output.recovery\"].fillna(0), recovery_list.fillna(0)\n",
    ")\n",
    "print(\n",
    "    \"Mean absolute error of calculated and provided recovery values is {:.3}\".format(\n",
    "        MAE\n",
    "    )\n",
    ")"
   ]
  },
  {
   "cell_type": "markdown",
   "metadata": {},
   "source": [
    "> MAE of calcualted and provided data is very very close to zero. That means, we don't need to worry about sanity, becasue the provided data was correctly done!"
   ]
  },
  {
   "cell_type": "markdown",
   "metadata": {},
   "source": [
    "### Analyze the features not available in the test set. \n",
    "What are these parameters? What is their type?"
   ]
  },
  {
   "cell_type": "code",
   "execution_count": 10,
   "metadata": {
    "scrolled": true
   },
   "outputs": [
    {
     "name": "stdout",
     "output_type": "stream",
     "text": [
      "Following columns of training datasets were not present in testing dataset\n"
     ]
    },
    {
     "data": {
      "text/plain": [
       "['final.output.concentrate_ag',\n",
       " 'final.output.concentrate_pb',\n",
       " 'final.output.concentrate_sol',\n",
       " 'final.output.concentrate_au',\n",
       " 'final.output.recovery',\n",
       " 'final.output.tail_ag',\n",
       " 'final.output.tail_pb',\n",
       " 'final.output.tail_sol',\n",
       " 'final.output.tail_au',\n",
       " 'primary_cleaner.output.concentrate_ag',\n",
       " 'primary_cleaner.output.concentrate_pb',\n",
       " 'primary_cleaner.output.concentrate_sol',\n",
       " 'primary_cleaner.output.concentrate_au',\n",
       " 'primary_cleaner.output.tail_ag',\n",
       " 'primary_cleaner.output.tail_pb',\n",
       " 'primary_cleaner.output.tail_sol',\n",
       " 'primary_cleaner.output.tail_au',\n",
       " 'rougher.calculation.sulfate_to_au_concentrate',\n",
       " 'rougher.calculation.floatbank10_sulfate_to_au_feed',\n",
       " 'rougher.calculation.floatbank11_sulfate_to_au_feed',\n",
       " 'rougher.calculation.au_pb_ratio',\n",
       " 'rougher.output.concentrate_ag',\n",
       " 'rougher.output.concentrate_pb',\n",
       " 'rougher.output.concentrate_sol',\n",
       " 'rougher.output.concentrate_au',\n",
       " 'rougher.output.recovery',\n",
       " 'rougher.output.tail_ag',\n",
       " 'rougher.output.tail_pb',\n",
       " 'rougher.output.tail_sol',\n",
       " 'rougher.output.tail_au',\n",
       " 'secondary_cleaner.output.tail_ag',\n",
       " 'secondary_cleaner.output.tail_pb',\n",
       " 'secondary_cleaner.output.tail_sol',\n",
       " 'secondary_cleaner.output.tail_au']"
      ]
     },
     "execution_count": 10,
     "metadata": {},
     "output_type": "execute_result"
    }
   ],
   "source": [
    "# loop to find out which features are not existing in testing set\n",
    "col_train = df_train.columns.tolist()\n",
    "col_test = df_test.columns.tolist()\n",
    "\n",
    "features_not_in_test = []\n",
    "for x in col_train:\n",
    "    if x not in col_test:\n",
    "        features_not_in_test.append(x)\n",
    "\n",
    "print(\"Following columns of training datasets were not present in testing dataset\")\n",
    "features_not_in_test"
   ]
  },
  {
   "cell_type": "markdown",
   "metadata": {},
   "source": [
    "### Perform data preprocessing\n",
    "\n",
    "As we have seen above, we have a lot of missing values in our datasets. We will fill all values using **mean** values of each column."
   ]
  },
  {
   "cell_type": "code",
   "execution_count": 11,
   "metadata": {},
   "outputs": [],
   "source": [
    "# prepare imputer for filling missing values\n",
    "my_imptr = SimpleImputer()\n",
    "\n",
    "\n",
    "# fit and fill missing values of training dataset using imputer\n",
    "imp_df_train = pd.DataFrame(my_imptr.fit_transform(df_train))\n",
    "\n",
    "# imputer removes column names and index, get them back\n",
    "imp_df_train.columns = df_train.columns\n",
    "imp_df_train.index = df_train.index\n",
    "\n",
    "\n",
    "# use fitted imputer to fill missing values of source dataset\n",
    "imp_df_full = pd.DataFrame(my_imptr.transform(df_full))\n",
    "imp_df_full.columns = df_full.columns\n",
    "imp_df_full.index = df_full.index\n",
    "\n",
    "# get filled values for testing file from source\n",
    "imp_df_test = imp_df_full.loc[df_test.index, df_test.columns]"
   ]
  },
  {
   "cell_type": "markdown",
   "metadata": {},
   "source": [
    "### Conclusion\n",
    "\n",
    "- 1.1 Three data files have been successfully loaded. The source file (`df_full`) has **22716 rows and 86 columns**. It was observed that the testing file (`df_test`) was obtained from two different time periods of the source file and `df_test` has **5856 rows, 52 columns**. The rest of the source file was used for the preparation of the training file (`df_train`) with **16860 rows, 86 columns**.\n",
    "\n",
    "- 1.2 There were missing values in all datafiles, these missing values were filled using **mean values of training dataset**. \n",
    "\n",
    "- 1.3 Several columns were not present in the testing file, however, when we check these columns, we found that they were intentionally removed. Because these columns have values that will cause data leakage for our future models.\n",
    "\n",
    "- 1.4 Moreover, to be sure, the recovery values were calculated correctly, we have check recovery values of the rougher stage and it was found that they were correct (MAE = 8e-15)"
   ]
  },
  {
   "cell_type": "markdown",
   "metadata": {},
   "source": [
    "## Data analysis"
   ]
  },
  {
   "cell_type": "markdown",
   "metadata": {},
   "source": [
    "### Take note of how the concentrations of metals (Au, Ag, Pb) change depending on the purification stage."
   ]
  },
  {
   "cell_type": "code",
   "execution_count": 12,
   "metadata": {},
   "outputs": [
    {
     "data": {
      "image/png": "[encoded data removed]",
      "text/plain": [
       "<Figure size 1080x360 with 3 Axes>"
      ]
     },
     "metadata": {
      "needs_background": "light"
     },
     "output_type": "display_data"
    }
   ],
   "source": [
    "# columns showing each metals concentration at different stages\n",
    "\n",
    "au_conc = [\n",
    "    \"rougher.input.feed_au\",\n",
    "    \"rougher.output.concentrate_au\",\n",
    "    \"primary_cleaner.output.concentrate_au\",\n",
    "    \"final.output.concentrate_au\",\n",
    "]\n",
    "ag_conc = [\n",
    "    \"rougher.input.feed_ag\",\n",
    "    \"rougher.output.concentrate_ag\",\n",
    "    \"primary_cleaner.output.concentrate_ag\",\n",
    "    \"final.output.concentrate_ag\",\n",
    "]\n",
    "pb_conc = [\n",
    "    \"rougher.input.feed_pb\",\n",
    "    \"rougher.output.concentrate_pb\",\n",
    "    \"primary_cleaner.output.concentrate_pb\",\n",
    "    \"final.output.concentrate_pb\",\n",
    "]\n",
    "\n",
    "# using a for loop, prepare bar charts for the change of concentration of every metal at each stage\n",
    "metals = [au_conc, ag_conc, pb_conc]\n",
    "titles = [\n",
    "    \"Concentration change of Au\",\n",
    "    \"Concentration change of Ag\",\n",
    "    \"Concentration change of Pb\",\n",
    "]\n",
    "\n",
    "fig, ax = plt.subplots(1, 3, figsize=(15, 5))\n",
    "for i in range(3):\n",
    "    sns.set_style(\"darkgrid\")\n",
    "    sns.barplot(data=imp_df_full[metals[i]], ax=ax[i], palette=\"inferno_r\")\n",
    "    ax[i].set_xticklabels(\n",
    "        labels=[\"Raw ore\", \"After 1st step\", \"After 2nd step\", \"Final\"],\n",
    "        rotation=45,\n",
    "        ha=\"right\",\n",
    "    )\n",
    "    ax[i].set_ylim(2, 42)\n",
    "    ax[i].set_title(titles[i])"
   ]
  },
  {
   "cell_type": "markdown",
   "metadata": {},
   "source": [
    "### Compare the feed particle size distributions in the training set and in the test set. \n",
    "If the distributions vary significantly, the model evaluation will be incorrect."
   ]
  },
  {
   "cell_type": "code",
   "execution_count": 13,
   "metadata": {},
   "outputs": [
    {
     "name": "stderr",
     "output_type": "stream",
     "text": [
      "C:\\Users\\Abdullayev.KERAMIK\\Anaconda3\\lib\\site-packages\\seaborn\\distributions.py:2557: FutureWarning: `distplot` is a deprecated function and will be removed in a future version. Please adapt your code to use either `displot` (a figure-level function with similar flexibility) or `kdeplot` (an axes-level function for kernel density plots).\n",
      "  warnings.warn(msg, FutureWarning)\n",
      "C:\\Users\\Abdullayev.KERAMIK\\Anaconda3\\lib\\site-packages\\seaborn\\distributions.py:2557: FutureWarning: `distplot` is a deprecated function and will be removed in a future version. Please adapt your code to use either `displot` (a figure-level function with similar flexibility) or `kdeplot` (an axes-level function for kernel density plots).\n",
      "  warnings.warn(msg, FutureWarning)\n"
     ]
    },
    {
     "data": {
      "image/png": "[encoded data removed]",
      "text/plain": [
       "<Figure size 792x576 with 1 Axes>"
      ]
     },
     "metadata": {},
     "output_type": "display_data"
    }
   ],
   "source": [
    "# get required columns to plot a hist\n",
    "train_dst = imp_df_train[\"rougher.input.feed_size\"]\n",
    "test_dst = imp_df_test[\"rougher.input.feed_size\"]\n",
    "\n",
    "# plot a histogram (KDE) plots showing the particle size distribution of each dataset\n",
    "plt.figure(figsize=(11, 8))\n",
    "sns.distplot(\n",
    "    train_dst,\n",
    "    hist=False,\n",
    "    kde_kws={\"shade\": True, \"alpha\": 0.5},\n",
    "    label=(\n",
    "        \"Train \\n mean: {:.3},\\n median: {:.3}\".format(\n",
    "            train_dst.mean(), train_dst.median()\n",
    "        )\n",
    "    ),\n",
    ")\n",
    "sns.distplot(\n",
    "    test_dst,\n",
    "    hist=False,\n",
    "    kde_kws={\"shade\": True, \"alpha\": 0.5},\n",
    "    label=(\n",
    "        \"Test \\n mean: {:.3},\\n median: {:.3}\".format(\n",
    "            test_dst.mean(), test_dst.median()\n",
    "        )\n",
    "    ),\n",
    ")\n",
    "\n",
    "# customize the plots\n",
    "plt.xlabel(\"Particle size distribution\")\n",
    "plt.ylabel(\"Density\")\n",
    "plt.title(\"Distribution of feed particle sizes of training and testing data\")\n",
    "plt.show()"
   ]
  },
  {
   "cell_type": "markdown",
   "metadata": {},
   "source": [
    "> Mean particle size of training data is 58.7 and the mean particle size of testing data was 55.9. Even though, mean values differ a little bit, general distribution of particle sizes were similar for two datasets. "
   ]
  },
  {
   "cell_type": "markdown",
   "metadata": {},
   "source": [
    "### Consider the total concentrations of all substances at different stages: \n",
    "raw feed, rougher concentrate, and final concentrate. Do you notice any abnormal values in the total distribution? If you do, is it worth removing such values from both samples? Describe the findings and eliminate anomalies."
   ]
  },
  {
   "cell_type": "code",
   "execution_count": 14,
   "metadata": {},
   "outputs": [],
   "source": [
    "# calcaulte the total concentration of substances (Au, Ag, Pb and sol) at each stage\n",
    "# total concentration at raw feed\n",
    "imp_df_full[\"total.conc.feed\"] = imp_df_full[\n",
    "    [\n",
    "        \"rougher.input.feed_au\",\n",
    "        \"rougher.input.feed_ag\",\n",
    "        \"rougher.input.feed_pb\",\n",
    "        \"rougher.input.feed_sol\",\n",
    "    ]\n",
    "].sum(axis=1)\n",
    "\n",
    "# total conc at rougher output\n",
    "imp_df_full[\"total.conc.rougher\"] = imp_df_full[\n",
    "    [\n",
    "        \"rougher.output.concentrate_ag\",\n",
    "        \"rougher.output.concentrate_pb\",\n",
    "        \"rougher.output.concentrate_sol\",\n",
    "        \"rougher.output.concentrate_au\",\n",
    "    ]\n",
    "].sum(axis=1)\n",
    "\n",
    "# total conc at final output\n",
    "imp_df_full[\"total.conc.final\"] = imp_df_full[\n",
    "    [\n",
    "        \"final.output.concentrate_ag\",\n",
    "        \"final.output.concentrate_pb\",\n",
    "        \"final.output.concentrate_sol\",\n",
    "        \"final.output.concentrate_au\",\n",
    "    ]\n",
    "].sum(axis=1)"
   ]
  },
  {
   "cell_type": "code",
   "execution_count": 15,
   "metadata": {},
   "outputs": [
    {
     "data": {
      "image/png": "[encoded data removed]",
      "text/plain": [
       "<Figure size 864x576 with 3 Axes>"
      ]
     },
     "metadata": {},
     "output_type": "display_data"
    }
   ],
   "source": [
    "# plot histogram for each step\n",
    "imp_df_full[[\"total.conc.feed\", \"total.conc.rougher\", \"total.conc.final\"]].plot(\n",
    "    kind=\"hist\", alpha=0.5, bins=100, figsize=(12, 8), subplots=True\n",
    ")\n",
    "plt.xlabel(\"Total concentration\")\n",
    "plt.show()"
   ]
  },
  {
   "cell_type": "markdown",
   "metadata": {},
   "source": [
    "> There are a lot of zero values in the data (the total.conc columns). That mean something is going wrong there. Maybe, these data was not recorded and then they just filled with zero. We can treat these values as missing values and can drop them! "
   ]
  },
  {
   "cell_type": "code",
   "execution_count": 16,
   "metadata": {},
   "outputs": [],
   "source": [
    "# get all rows when the total concentration is equal to zero\n",
    "rows_with_problem = imp_df_full[\n",
    "    (imp_df_full[\"total.conc.feed\"] == 0)\n",
    "    | (imp_df_full[\"total.conc.rougher\"] == 0)\n",
    "    | (imp_df_full[\"total.conc.final\"] == 0)\n",
    "].index"
   ]
  },
  {
   "cell_type": "code",
   "execution_count": 17,
   "metadata": {},
   "outputs": [
    {
     "name": "stdout",
     "output_type": "stream",
     "text": [
      "Percentage of rows that are concidered for dropping in training data: 9.98%\n",
      "Percentage of rows that are concidered for dropping in testing data: 9.60%\n"
     ]
    }
   ],
   "source": [
    "# check how many rows we need to drop from each  dataset, if want to drop all these rows\n",
    "\n",
    "test_rows_to_drop = []\n",
    "train_rows_to_drop = []\n",
    "\n",
    "for ind in rows_with_problem:\n",
    "    if ind in imp_df_test.index:\n",
    "        test_rows_to_drop.append(ind)\n",
    "    elif ind in imp_df_train.index:\n",
    "        train_rows_to_drop.append(ind)\n",
    "\n",
    "print(\n",
    "    \"Percentage of rows that are concidered for dropping in training data: {:.2%}\".format(\n",
    "        len(train_rows_to_drop) / len(imp_df_train)\n",
    "    )\n",
    ")\n",
    "print(\n",
    "    \"Percentage of rows that are concidered for dropping in testing data: {:.2%}\".format(\n",
    "        len(test_rows_to_drop) / len(imp_df_test)\n",
    "    )\n",
    ")"
   ]
  },
  {
   "cell_type": "code",
   "execution_count": 18,
   "metadata": {},
   "outputs": [],
   "source": [
    "# drop all rows with total conc equal to 0\n",
    "imp_df_train.drop(train_rows_to_drop, inplace=True)\n",
    "imp_df_test.drop(test_rows_to_drop, inplace=True)"
   ]
  },
  {
   "cell_type": "markdown",
   "metadata": {},
   "source": [
    "### Conclusion\n",
    "\n",
    "- 2.1 It was observed that the concentration of gold (Au) increased at each stage of purification. In the final output stage, the concentration of gold reached around 40. Lead (Pb) also follows the same trend, however, the final concentration is just around 9. But, for the silver (Ag), the concentration increased first and then dropped, where at the final stage its concentration was around 5.\n",
    "\n",
    "- 2.2 Particle size distribution of raw feed of training and testing data sets compared by visualizing density plots. It was observed that they have a similar distribution, even though their mean and median values differ slightly.\n",
    "\n",
    "- 2.3 Finally we have checked the total concentration of substances at each stage and visualized their distribution. Surprisingly, it was found that there were a lot of rows with a total concentration equal to zero. For the sake of not putting more biases into our data, we decided to drop all rows (in training and testing datasets) when the total concentration is equal to zero. Consequently, ca. 10% of rows were dropped from training and testing datasets."
   ]
  },
  {
   "cell_type": "markdown",
   "metadata": {},
   "source": [
    "## Build the model"
   ]
  },
  {
   "cell_type": "markdown",
   "metadata": {},
   "source": [
    "### Write a function to calculate the final sMAPE value."
   ]
  },
  {
   "cell_type": "code",
   "execution_count": 19,
   "metadata": {},
   "outputs": [],
   "source": [
    "# function to calcualte sMAPE score for predicted and actual values\n",
    "def smaper(y, y_pred):\n",
    "    smape = (\n",
    "        1\n",
    "        / len(y)\n",
    "        * np.sum(np.abs(y - y_pred) * 2 * 100 / ((np.abs(y) + np.abs(y_pred))))\n",
    "    )\n",
    "    return smape\n",
    "\n",
    "\n",
    "# convert it to sklearn function so it can be directly attached to CV scoring parameter\n",
    "my_scorer = make_scorer(smaper, greater_is_better=False)"
   ]
  },
  {
   "attachments": {
    "image-2.png": {
     "image/png": "[encoded data removed]"
    },
    "image.png": {
     "image/png": "[encoded data removed]"
    }
   },
   "cell_type": "markdown",
   "metadata": {},
   "source": [
    "### Train different models. \n",
    "Evaluate them using cross-validation. Pick the best model and test it using the test sample. Provide findings.\n",
    "Use these formulas for evaluation metrics:\n",
    "\n",
    "<div>\n",
    "<img src=\"attachment:image.png\" width=\"500\"/> <img src=\"attachment:image-2.png\" width=\"500\"/>\n",
    "</div>\n",
    "\n",
    "Here we will build a separate model for ``rougher.output`` and ``final.output`` stages to predict recovery values. Accordingly, we will prepare datasets for each stage, because we can not include all columns to rougher.output stage, due to that will be definitely data leakage."
   ]
  },
  {
   "cell_type": "code",
   "execution_count": 20,
   "metadata": {},
   "outputs": [
    {
     "name": "stdout",
     "output_type": "stream",
     "text": [
      "Final output prediction model will have 52 features to predict output recovery, while rougher output prediction model will have only 22 features.\n"
     ]
    }
   ],
   "source": [
    "# columns that will be required for final and rougher prediction models\n",
    "features_final = df_test.columns.tolist()\n",
    "features_rougher = [x for x in features_final if \"rougher\" in x.split(\".\")]\n",
    "\n",
    "print(\n",
    "    \"Final output prediction model will have {} features to predict \"\n",
    "    \"output recovery, while rougher output prediction model will have only {} features.\".format(\n",
    "        len(features_final), len(features_rougher)\n",
    "    )\n",
    ")"
   ]
  },
  {
   "cell_type": "markdown",
   "metadata": {},
   "source": [
    "> Nomenclature\n",
    "- X - features dataframe\n",
    "- y - target\n",
    "- train - training datasets obtained from **df_train\n",
    "- test - testing dataset obtained from **df_test\n",
    "- r - datasets for **rougher.output.receovery** model\n",
    "- f - datasets for **rougher.output.receovery** model"
   ]
  },
  {
   "cell_type": "code",
   "execution_count": 21,
   "metadata": {},
   "outputs": [],
   "source": [
    "# datasets for final.output.recovery model\n",
    "X_train_r = imp_df_train[features_rougher].reset_index(drop=True)\n",
    "y_train_r = imp_df_train[\"rougher.output.recovery\"].reset_index(drop=True)\n",
    "\n",
    "X_test_r = imp_df_full.loc[df_test.index, features_rougher].reset_index(drop=True)\n",
    "y_test_r = imp_df_full.loc[df_test.index, \"rougher.output.recovery\"].reset_index(\n",
    "    drop=True\n",
    ")\n",
    "\n",
    "\n",
    "# datasets for final.output.recovery model\n",
    "X_train_f = imp_df_train[features_final].reset_index(drop=True)\n",
    "y_train_f = imp_df_train[\"final.output.recovery\"].reset_index(drop=True)\n",
    "\n",
    "X_test_f = imp_df_full.loc[df_test.index, features_final].reset_index(drop=True)\n",
    "y_test_f = imp_df_full.loc[df_test.index, \"final.output.recovery\"].reset_index(\n",
    "    drop=True\n",
    ")"
   ]
  },
  {
   "cell_type": "code",
   "execution_count": 25,
   "metadata": {},
   "outputs": [],
   "source": [
    "import sys\n",
    "import warnings\n",
    "\n",
    "if not sys.warnoptions:\n",
    "    warnings.simplefilter(\"ignore\")\n",
    "\n",
    "from xgboost import XGBRegressor"
   ]
  },
  {
   "cell_type": "code",
   "execution_count": 26,
   "metadata": {},
   "outputs": [
    {
     "data": {
      "text/html": [
       "<div>\n",
       "<style scoped>\n",
       "    .dataframe tbody tr th:only-of-type {\n",
       "        vertical-align: middle;\n",
       "    }\n",
       "\n",
       "    .dataframe tbody tr th {\n",
       "        vertical-align: top;\n",
       "    }\n",
       "\n",
       "    .dataframe thead th {\n",
       "        text-align: right;\n",
       "    }\n",
       "</style>\n",
       "<table border=\"1\" class=\"dataframe\">\n",
       "  <thead>\n",
       "    <tr style=\"text-align: right;\">\n",
       "      <th></th>\n",
       "      <th>mean_fit_time</th>\n",
       "      <th>std_fit_time</th>\n",
       "      <th>mean_score_time</th>\n",
       "      <th>std_score_time</th>\n",
       "      <th>param_model</th>\n",
       "      <th>params</th>\n",
       "      <th>split0_test_score</th>\n",
       "      <th>split1_test_score</th>\n",
       "      <th>split2_test_score</th>\n",
       "      <th>mean_test_score</th>\n",
       "      <th>std_test_score</th>\n",
       "      <th>rank_test_score</th>\n",
       "    </tr>\n",
       "  </thead>\n",
       "  <tbody>\n",
       "    <tr>\n",
       "      <th>0</th>\n",
       "      <td>2.015418</td>\n",
       "      <td>0.011464</td>\n",
       "      <td>0.015658</td>\n",
       "      <td>2.053856e-03</td>\n",
       "      <td>RandomForestRegressor(max_depth=10, n_estimato...</td>\n",
       "      <td>{'model': RandomForestRegressor(max_depth=10, ...</td>\n",
       "      <td>-9.061248</td>\n",
       "      <td>-6.767759</td>\n",
       "      <td>-9.347498</td>\n",
       "      <td>-8.392168</td>\n",
       "      <td>1.154560</td>\n",
       "      <td>1</td>\n",
       "    </tr>\n",
       "    <tr>\n",
       "      <th>1</th>\n",
       "      <td>0.046638</td>\n",
       "      <td>0.025679</td>\n",
       "      <td>0.005995</td>\n",
       "      <td>8.778064e-07</td>\n",
       "      <td>LinearRegression()</td>\n",
       "      <td>{'model': LinearRegression()}</td>\n",
       "      <td>-9.685131</td>\n",
       "      <td>-5.366044</td>\n",
       "      <td>-13.463916</td>\n",
       "      <td>-9.505030</td>\n",
       "      <td>3.308394</td>\n",
       "      <td>2</td>\n",
       "    </tr>\n",
       "    <tr>\n",
       "      <th>2</th>\n",
       "      <td>9.357138</td>\n",
       "      <td>0.380367</td>\n",
       "      <td>0.024341</td>\n",
       "      <td>3.331062e-03</td>\n",
       "      <td>XGBRegressor(base_score=None, booster=None, co...</td>\n",
       "      <td>{'model': XGBRegressor(base_score=None, booste...</td>\n",
       "      <td>-9.161916</td>\n",
       "      <td>-8.347886</td>\n",
       "      <td>-13.054628</td>\n",
       "      <td>-10.188143</td>\n",
       "      <td>2.053974</td>\n",
       "      <td>3</td>\n",
       "    </tr>\n",
       "  </tbody>\n",
       "</table>\n",
       "</div>"
      ],
      "text/plain": [
       "   mean_fit_time  std_fit_time  mean_score_time  std_score_time  \\\n",
       "0       2.015418      0.011464         0.015658    2.053856e-03   \n",
       "1       0.046638      0.025679         0.005995    8.778064e-07   \n",
       "2       9.357138      0.380367         0.024341    3.331062e-03   \n",
       "\n",
       "                                         param_model  \\\n",
       "0  RandomForestRegressor(max_depth=10, n_estimato...   \n",
       "1                                 LinearRegression()   \n",
       "2  XGBRegressor(base_score=None, booster=None, co...   \n",
       "\n",
       "                                              params  split0_test_score  \\\n",
       "0  {'model': RandomForestRegressor(max_depth=10, ...          -9.061248   \n",
       "1                      {'model': LinearRegression()}          -9.685131   \n",
       "2  {'model': XGBRegressor(base_score=None, booste...          -9.161916   \n",
       "\n",
       "   split1_test_score  split2_test_score  mean_test_score  std_test_score  \\\n",
       "0          -6.767759          -9.347498        -8.392168        1.154560   \n",
       "1          -5.366044         -13.463916        -9.505030        3.308394   \n",
       "2          -8.347886         -13.054628       -10.188143        2.053974   \n",
       "\n",
       "   rank_test_score  \n",
       "0                1  \n",
       "1                2  \n",
       "2                3  "
      ]
     },
     "execution_count": 26,
     "metadata": {},
     "output_type": "execute_result"
    }
   ],
   "source": [
    "# check different models to find out best model for rougher output prediction\n",
    "# set the random value\n",
    "state = RandomState(12345)\n",
    "\n",
    "\n",
    "# construct a pipeline\n",
    "pipeline = Pipeline([(\"scaler\", StandardScaler()), (\"model\", RandomForestRegressor())])\n",
    "\n",
    "# parameters need to be checkec (here we used only three different algorithms, because when we tune hyperparameteres it took so long)\n",
    "params = [\n",
    "    {\n",
    "        \"model\": [\n",
    "            RandomForestRegressor(n_estimators=10, max_depth=10, random_state=state)\n",
    "        ]\n",
    "    },\n",
    "    {\"model\": [LinearRegression()]},\n",
    "    {\"model\": [XGBRegressor()]},\n",
    "]\n",
    "\n",
    "# construct a grid to search best algorithm\n",
    "grid_r = GridSearchCV(pipeline, param_grid=params, cv=3, n_jobs=-1, scoring=my_scorer)\n",
    "\n",
    "# train each model using 3 cross_validation steps\n",
    "grid_r.fit(X_train_r, y_train_r)\n",
    "\n",
    "\n",
    "# display results by ranking best to worst\n",
    "results_r = pd.DataFrame(grid_r.cv_results_)\n",
    "results_r = results_r.sort_values(\"rank_test_score\")\n",
    "results_r"
   ]
  },
  {
   "cell_type": "code",
   "execution_count": 27,
   "metadata": {},
   "outputs": [
    {
     "data": {
      "text/html": [
       "<div>\n",
       "<style scoped>\n",
       "    .dataframe tbody tr th:only-of-type {\n",
       "        vertical-align: middle;\n",
       "    }\n",
       "\n",
       "    .dataframe tbody tr th {\n",
       "        vertical-align: top;\n",
       "    }\n",
       "\n",
       "    .dataframe thead th {\n",
       "        text-align: right;\n",
       "    }\n",
       "</style>\n",
       "<table border=\"1\" class=\"dataframe\">\n",
       "  <thead>\n",
       "    <tr style=\"text-align: right;\">\n",
       "      <th></th>\n",
       "      <th>mean_fit_time</th>\n",
       "      <th>std_fit_time</th>\n",
       "      <th>mean_score_time</th>\n",
       "      <th>std_score_time</th>\n",
       "      <th>param_model</th>\n",
       "      <th>params</th>\n",
       "      <th>split0_test_score</th>\n",
       "      <th>split1_test_score</th>\n",
       "      <th>split2_test_score</th>\n",
       "      <th>mean_test_score</th>\n",
       "      <th>std_test_score</th>\n",
       "      <th>rank_test_score</th>\n",
       "    </tr>\n",
       "  </thead>\n",
       "  <tbody>\n",
       "    <tr>\n",
       "      <th>0</th>\n",
       "      <td>5.197869</td>\n",
       "      <td>0.027657</td>\n",
       "      <td>0.026005</td>\n",
       "      <td>0.006677</td>\n",
       "      <td>RandomForestRegressor(max_depth=10, n_estimato...</td>\n",
       "      <td>{'model': RandomForestRegressor(max_depth=10, ...</td>\n",
       "      <td>-9.711987</td>\n",
       "      <td>-10.447165</td>\n",
       "      <td>-15.623993</td>\n",
       "      <td>-11.927715</td>\n",
       "      <td>2.630839</td>\n",
       "      <td>1</td>\n",
       "    </tr>\n",
       "    <tr>\n",
       "      <th>2</th>\n",
       "      <td>20.666333</td>\n",
       "      <td>0.833574</td>\n",
       "      <td>0.042665</td>\n",
       "      <td>0.018728</td>\n",
       "      <td>XGBRegressor(base_score=None, booster=None, co...</td>\n",
       "      <td>{'model': XGBRegressor(base_score=None, booste...</td>\n",
       "      <td>-13.662008</td>\n",
       "      <td>-11.456288</td>\n",
       "      <td>-17.491307</td>\n",
       "      <td>-14.203201</td>\n",
       "      <td>2.493328</td>\n",
       "      <td>2</td>\n",
       "    </tr>\n",
       "    <tr>\n",
       "      <th>1</th>\n",
       "      <td>0.090112</td>\n",
       "      <td>0.039453</td>\n",
       "      <td>0.018989</td>\n",
       "      <td>0.014846</td>\n",
       "      <td>LinearRegression()</td>\n",
       "      <td>{'model': LinearRegression()}</td>\n",
       "      <td>-13.662168</td>\n",
       "      <td>-11.945212</td>\n",
       "      <td>-22.502770</td>\n",
       "      <td>-16.036717</td>\n",
       "      <td>4.625608</td>\n",
       "      <td>3</td>\n",
       "    </tr>\n",
       "  </tbody>\n",
       "</table>\n",
       "</div>"
      ],
      "text/plain": [
       "   mean_fit_time  std_fit_time  mean_score_time  std_score_time  \\\n",
       "0       5.197869      0.027657         0.026005        0.006677   \n",
       "2      20.666333      0.833574         0.042665        0.018728   \n",
       "1       0.090112      0.039453         0.018989        0.014846   \n",
       "\n",
       "                                         param_model  \\\n",
       "0  RandomForestRegressor(max_depth=10, n_estimato...   \n",
       "2  XGBRegressor(base_score=None, booster=None, co...   \n",
       "1                                 LinearRegression()   \n",
       "\n",
       "                                              params  split0_test_score  \\\n",
       "0  {'model': RandomForestRegressor(max_depth=10, ...          -9.711987   \n",
       "2  {'model': XGBRegressor(base_score=None, booste...         -13.662008   \n",
       "1                      {'model': LinearRegression()}         -13.662168   \n",
       "\n",
       "   split1_test_score  split2_test_score  mean_test_score  std_test_score  \\\n",
       "0         -10.447165         -15.623993       -11.927715        2.630839   \n",
       "2         -11.456288         -17.491307       -14.203201        2.493328   \n",
       "1         -11.945212         -22.502770       -16.036717        4.625608   \n",
       "\n",
       "   rank_test_score  \n",
       "0                1  \n",
       "2                2  \n",
       "1                3  "
      ]
     },
     "execution_count": 27,
     "metadata": {},
     "output_type": "execute_result"
    }
   ],
   "source": [
    "# do the above steps for final output prediction\n",
    "grid_f = GridSearchCV(pipeline, param_grid=params, cv=3, n_jobs=-1, scoring=my_scorer)\n",
    "grid_f.fit(X_train_f, y_train_f)\n",
    "results_f = pd.DataFrame(grid_f.cv_results_)\n",
    "results_f = results_f.sort_values(\"rank_test_score\")\n",
    "results_f"
   ]
  },
  {
   "cell_type": "markdown",
   "metadata": {},
   "source": [
    "### Final model training and evaluation using test set\n",
    "From above steps, we have found that RandomForestRegressor was performing best both in prediction of rougher output recovery and final output recovery. Therefore, we will chose RandomForestRegressor and build our final model for each stage."
   ]
  },
  {
   "cell_type": "code",
   "execution_count": 28,
   "metadata": {},
   "outputs": [
    {
     "name": "stdout",
     "output_type": "stream",
     "text": [
      "sMAPE score for the rougher stage is: 8.57\n",
      "sMAPE score for the final stage is: 11.6\n",
      "Total sMAPE of the model is: 10.9\n"
     ]
    }
   ],
   "source": [
    "# construct a model,  train it using whole training data for rougher stage, then predict output recovery of rougher stage\n",
    "rougher_model = RandomForestRegressor(n_estimators=10, max_depth=10, random_state=234)\n",
    "rougher_model.fit(X_train_r, y_train_r)\n",
    "\n",
    "# predicted values of rougher.output.recovery for testing dataset\n",
    "y_test_r_pred = rougher_model.predict(X_test_r)\n",
    "\n",
    "\n",
    "# construct a model,  train it using whole training data for final stage, then predict output recovery of final stage\n",
    "final_model = RandomForestRegressor(n_estimators=10, max_depth=10, random_state=234)\n",
    "final_model.fit(X_train_f, y_train_f)\n",
    "\n",
    "# predicted values of final.output.recovery for testing dataset\n",
    "y_test_f_pred = final_model.predict(X_test_f)\n",
    "\n",
    "\n",
    "# calculate the sMAPE score for each stage\n",
    "smape_rougher = smaper(y_test_r, y_test_r_pred)\n",
    "smape_final = smaper(y_test_f, y_test_f_pred)\n",
    "\n",
    "\n",
    "print(\"sMAPE score for the rougher stage is: {:.3}\".format(smape_rougher))\n",
    "print(\"sMAPE score for the final stage is: {:.3}\".format(smape_final))\n",
    "\n",
    "# print out final sMAPE score\n",
    "print(\n",
    "    \"Total sMAPE of the model is: {:.3}\".format(\n",
    "        0.25 * smape_rougher + 0.75 * smape_final\n",
    "    )\n",
    ")"
   ]
  },
  {
   "cell_type": "markdown",
   "metadata": {},
   "source": [
    "### Conclusion\n",
    "\n",
    "- 3.1 Three different algorithms were tested (LinearRegression, RandomForestRegressor, and XGBregressor) using the cross_validation technique. Please note that hyperparameters were not tuned at this stage, becasue it will take too much time to train models and check the results. Therefore random hyperparameters, based on previous experience were chosen. \n",
    "\n",
    "- 3.2 RandomForestRegressor with 10 trees (n_estimators) and 10 as size of the tree (max_depth) were chosen as the best model with its sMAPE score for rougher and final output recoveries was equal to 9.08 and 11.66. respectively. \n",
    "\n",
    "- 3.3 The RandomForest model as described above was trained with the whole training dataset and tested with the testing dataset. Ultimately, the final sMAPE value is equal to 10.9!"
   ]
  },
  {
   "cell_type": "markdown",
   "metadata": {},
   "source": [
    "## Summary\n",
    "\n",
    "- 1.1 Three data files have been successfully loaded. The source file (`df_full`) has **22716 rows and 86 columns**. It was observed that the testing file (`df_test`) was obtained from two different time periods of the source file and `df_test` has **5856 rows, 52 columns**. The rest of the source file was used for the preparation of the training file (`df_train`) with **16860 rows, 86 columns**.\n",
    "\n",
    "- 1.2 There were missing values in all data files, these missing values were filled using **mean values of training dataset**. \n",
    "\n",
    "- 1.3 Several columns were not present in the testing file, however, when we check these columns, we found that they were intentionally removed. Because these columns have values that will cause data leakage for our future models.\n",
    "\n",
    "\n",
    "\n",
    "- 2.1 It was observed that the **concentration of gold (Au) increased at each stage of purification**. In the final output stage, the concentration of **gold reached around 40**. Lead (Pb) also follows the same trend, however, the final concentration is just around 9. But, for the silver (Ag), the concentration increased first and then dropped, where at the final stage its concentration was around 5.\n",
    "\n",
    "- 2.2 **Particle size distribution of raw feed of training and testing** data sets compared by visualizing density plots. It was observed that they have a **similar distribution**, even though their mean and median values differ slightly.\n",
    "\n",
    "- 2.3 Finally we have checked the total concentration of substances at each stage and visualized their distribution. Surprisingly, it was found that there were a lot of rows with a total concentration equal to zero. For the sake of not putting more biases into our data, we decided to **drop all rows (in training and testing datasets) when the total concentration is equal to zero**. Consequently, **ca. 10% of rows were dropped** from training and testing datasets.\n",
    "\n",
    "\n",
    "- 3.1 Three different algorithms were tested (**LinearRegression, RandomForestRegressor, and XGBregressor) using the cross_validation technique**. \n",
    "\n",
    "- 3.2 **RandomForestRegressor** with 10 trees (n_estimators) and 10 as size of the tree (max_depth) were chosen as the **best model** with its sMAPE score for rougher and final output recoveries was equal to 9.08 and 11.66. respectively. \n",
    "\n",
    "- 3.3 **Ultimately, the final sMAPE value is equal to 10.9!**"
   ]
  }
 ],
 "metadata": {
  "ExecuteTimeLog": [
   {
    "duration": 1566,
    "start_time": "2021-07-01T13:01:55.501Z"
   },
   {
    "duration": 2227,
    "start_time": "2021-07-01T13:05:15.514Z"
   },
   {
    "duration": 2156,
    "start_time": "2021-07-01T13:05:25.428Z"
   },
   {
    "duration": 2497,
    "start_time": "2021-07-01T13:06:00.460Z"
   },
   {
    "duration": 4255,
    "start_time": "2021-07-01T13:06:36.747Z"
   },
   {
    "duration": 427,
    "start_time": "2021-07-01T13:07:25.131Z"
   },
   {
    "duration": 407,
    "start_time": "2021-07-01T13:07:42.627Z"
   },
   {
    "duration": 406,
    "start_time": "2021-07-01T13:08:32.883Z"
   },
   {
    "duration": 111,
    "start_time": "2021-07-01T13:08:58.652Z"
   },
   {
    "duration": 536,
    "start_time": "2021-07-01T13:09:03.931Z"
   },
   {
    "duration": 4,
    "start_time": "2021-07-01T13:18:44.939Z"
   },
   {
    "duration": 81,
    "start_time": "2021-07-01T13:20:06.083Z"
   },
   {
    "duration": 103,
    "start_time": "2021-07-01T13:20:43.478Z"
   },
   {
    "duration": 429,
    "start_time": "2021-07-01T13:20:49.826Z"
   },
   {
    "duration": 5,
    "start_time": "2021-07-01T13:21:13.988Z"
   },
   {
    "duration": 8,
    "start_time": "2021-07-01T13:21:17.498Z"
   },
   {
    "duration": 6,
    "start_time": "2021-07-01T13:22:55.315Z"
   },
   {
    "duration": 4,
    "start_time": "2021-07-01T13:25:29.915Z"
   },
   {
    "duration": 6,
    "start_time": "2021-07-01T13:25:54.036Z"
   },
   {
    "duration": 7,
    "start_time": "2021-07-01T13:26:06.131Z"
   },
   {
    "duration": 6,
    "start_time": "2021-07-01T13:26:34.163Z"
   },
   {
    "duration": 6,
    "start_time": "2021-07-01T13:26:38.475Z"
   },
   {
    "duration": 4,
    "start_time": "2021-07-01T13:26:47.300Z"
   },
   {
    "duration": 6,
    "start_time": "2021-07-01T13:26:48.578Z"
   },
   {
    "duration": 265,
    "start_time": "2021-07-01T13:29:04.484Z"
   },
   {
    "duration": 266,
    "start_time": "2021-07-01T13:29:35.795Z"
   },
   {
    "duration": 1186,
    "start_time": "2021-07-01T13:31:35.163Z"
   },
   {
    "duration": 62,
    "start_time": "2021-07-01T13:34:33.018Z"
   },
   {
    "duration": 1056,
    "start_time": "2021-07-01T13:45:57.068Z"
   },
   {
    "duration": 475,
    "start_time": "2021-07-01T13:50:19.203Z"
   },
   {
    "duration": 87,
    "start_time": "2021-07-01T13:50:44.556Z"
   },
   {
    "duration": 535,
    "start_time": "2021-07-01T13:50:48.924Z"
   },
   {
    "duration": 313,
    "start_time": "2021-07-01T13:52:19.925Z"
   },
   {
    "duration": 68,
    "start_time": "2021-07-01T13:52:46.620Z"
   },
   {
    "duration": 64,
    "start_time": "2021-07-01T13:53:02.318Z"
   },
   {
    "duration": 111,
    "start_time": "2021-07-01T13:55:58.013Z"
   },
   {
    "duration": 80,
    "start_time": "2021-07-01T13:56:06.773Z"
   },
   {
    "duration": 373,
    "start_time": "2021-07-01T13:57:32.902Z"
   },
   {
    "duration": 11,
    "start_time": "2021-07-01T14:16:37.486Z"
   },
   {
    "duration": 86,
    "start_time": "2021-07-01T14:17:34.557Z"
   },
   {
    "duration": 5,
    "start_time": "2021-07-01T14:18:30.702Z"
   },
   {
    "duration": 5,
    "start_time": "2021-07-01T14:18:44.613Z"
   },
   {
    "duration": 88,
    "start_time": "2021-07-01T14:19:45.294Z"
   },
   {
    "duration": 6,
    "start_time": "2021-07-01T14:19:50.766Z"
   },
   {
    "duration": 7,
    "start_time": "2021-07-01T14:20:30.925Z"
   },
   {
    "duration": 7,
    "start_time": "2021-07-01T14:21:41.421Z"
   },
   {
    "duration": 8,
    "start_time": "2021-07-01T14:25:47.750Z"
   },
   {
    "duration": 9,
    "start_time": "2021-07-01T14:35:56.359Z"
   },
   {
    "duration": 7,
    "start_time": "2021-07-01T14:37:04.167Z"
   },
   {
    "duration": 9,
    "start_time": "2021-07-01T14:42:50.399Z"
   },
   {
    "duration": 271,
    "start_time": "2021-07-01T14:44:45.654Z"
   },
   {
    "duration": 11,
    "start_time": "2021-07-01T14:45:27.193Z"
   },
   {
    "duration": 29,
    "start_time": "2021-07-01T14:55:03.742Z"
   },
   {
    "duration": 6,
    "start_time": "2021-07-01T14:57:32.447Z"
   },
   {
    "duration": 8,
    "start_time": "2021-07-01T14:57:43.119Z"
   },
   {
    "duration": 6,
    "start_time": "2021-07-01T15:02:12.670Z"
   },
   {
    "duration": 5,
    "start_time": "2021-07-01T15:02:16.127Z"
   },
   {
    "duration": 7793,
    "start_time": "2021-07-01T15:02:42.518Z"
   },
   {
    "duration": 5,
    "start_time": "2021-07-01T15:08:17.425Z"
   },
   {
    "duration": 6,
    "start_time": "2021-07-01T15:08:29.192Z"
   },
   {
    "duration": 8,
    "start_time": "2021-07-01T15:08:49.334Z"
   },
   {
    "duration": 10,
    "start_time": "2021-07-01T15:09:05.582Z"
   },
   {
    "duration": 9,
    "start_time": "2021-07-01T15:09:43.407Z"
   },
   {
    "duration": 45,
    "start_time": "2021-07-01T15:11:19.078Z"
   },
   {
    "duration": 7,
    "start_time": "2021-07-01T15:11:46.944Z"
   },
   {
    "duration": 1461,
    "start_time": "2021-07-02T09:03:18.505Z"
   },
   {
    "duration": 1023,
    "start_time": "2021-07-02T09:03:38.754Z"
   },
   {
    "duration": 12,
    "start_time": "2021-07-02T09:07:32.961Z"
   },
   {
    "duration": 404,
    "start_time": "2021-07-02T09:08:22.604Z"
   },
   {
    "duration": 25,
    "start_time": "2021-07-02T09:08:33.865Z"
   },
   {
    "duration": 325,
    "start_time": "2021-07-02T09:08:50.753Z"
   },
   {
    "duration": 21,
    "start_time": "2021-07-02T09:09:19.841Z"
   },
   {
    "duration": 1004,
    "start_time": "2021-07-02T09:12:13.956Z"
   },
   {
    "duration": 994,
    "start_time": "2021-07-02T09:12:28.129Z"
   },
   {
    "duration": 23,
    "start_time": "2021-07-02T09:12:49.249Z"
   },
   {
    "duration": 15,
    "start_time": "2021-07-02T09:13:13.008Z"
   },
   {
    "duration": 26,
    "start_time": "2021-07-02T09:13:48.304Z"
   },
   {
    "duration": 974,
    "start_time": "2021-07-02T09:23:10.132Z"
   },
   {
    "duration": 11,
    "start_time": "2021-07-02T09:23:14.809Z"
   },
   {
    "duration": 7,
    "start_time": "2021-07-02T09:25:02.010Z"
   },
   {
    "duration": 9,
    "start_time": "2021-07-02T09:25:09.176Z"
   },
   {
    "duration": 7,
    "start_time": "2021-07-02T09:25:59.888Z"
   },
   {
    "duration": 8,
    "start_time": "2021-07-02T09:26:07.008Z"
   },
   {
    "duration": 7,
    "start_time": "2021-07-02T09:26:58.233Z"
   },
   {
    "duration": 7,
    "start_time": "2021-07-02T09:27:17.120Z"
   },
   {
    "duration": 263,
    "start_time": "2021-07-02T09:27:46.769Z"
   },
   {
    "duration": 10,
    "start_time": "2021-07-02T09:28:27.521Z"
   },
   {
    "duration": 253,
    "start_time": "2021-07-02T09:30:18.017Z"
   },
   {
    "duration": 252,
    "start_time": "2021-07-02T09:30:29.225Z"
   },
   {
    "duration": 386,
    "start_time": "2021-07-02T09:30:59.802Z"
   },
   {
    "duration": 426,
    "start_time": "2021-07-02T09:31:56.137Z"
   },
   {
    "duration": 300,
    "start_time": "2021-07-02T09:32:17.336Z"
   },
   {
    "duration": 445,
    "start_time": "2021-07-02T09:33:54.969Z"
   },
   {
    "duration": 507,
    "start_time": "2021-07-02T09:34:09.450Z"
   },
   {
    "duration": 510,
    "start_time": "2021-07-02T09:34:15.801Z"
   },
   {
    "duration": 541,
    "start_time": "2021-07-02T09:35:20.746Z"
   },
   {
    "duration": 543,
    "start_time": "2021-07-02T09:36:23.130Z"
   },
   {
    "duration": 410,
    "start_time": "2021-07-02T09:37:41.817Z"
   },
   {
    "duration": 354,
    "start_time": "2021-07-02T09:37:50.017Z"
   },
   {
    "duration": 654,
    "start_time": "2021-07-02T09:38:07.353Z"
   },
   {
    "duration": 670,
    "start_time": "2021-07-02T09:39:36.137Z"
   },
   {
    "duration": 651,
    "start_time": "2021-07-02T09:39:45.355Z"
   },
   {
    "duration": 728,
    "start_time": "2021-07-02T09:39:56.681Z"
   },
   {
    "duration": 695,
    "start_time": "2021-07-02T09:40:44.178Z"
   },
   {
    "duration": 783,
    "start_time": "2021-07-02T09:43:06.250Z"
   },
   {
    "duration": 1216,
    "start_time": "2021-07-02T09:44:00.290Z"
   },
   {
    "duration": 1095,
    "start_time": "2021-07-02T09:44:06.385Z"
   },
   {
    "duration": 1033,
    "start_time": "2021-07-02T09:44:42.211Z"
   },
   {
    "duration": 1107,
    "start_time": "2021-07-02T09:44:55.601Z"
   },
   {
    "duration": 1114,
    "start_time": "2021-07-02T09:45:40.530Z"
   },
   {
    "duration": 990,
    "start_time": "2021-07-02T09:46:27.908Z"
   },
   {
    "duration": 345,
    "start_time": "2021-07-02T09:47:02.059Z"
   },
   {
    "duration": 203,
    "start_time": "2021-07-02T09:47:27.097Z"
   },
   {
    "duration": 8,
    "start_time": "2021-07-02T09:48:13.777Z"
   },
   {
    "duration": 9,
    "start_time": "2021-07-02T09:48:19.658Z"
   },
   {
    "duration": 195,
    "start_time": "2021-07-02T09:49:11.818Z"
   },
   {
    "duration": 206,
    "start_time": "2021-07-02T09:49:22.882Z"
   },
   {
    "duration": 233,
    "start_time": "2021-07-02T09:49:39.875Z"
   },
   {
    "duration": 273,
    "start_time": "2021-07-02T09:50:54.337Z"
   },
   {
    "duration": 409,
    "start_time": "2021-07-02T09:51:29.474Z"
   },
   {
    "duration": 590,
    "start_time": "2021-07-02T09:52:40.618Z"
   },
   {
    "duration": 586,
    "start_time": "2021-07-02T09:53:09.202Z"
   },
   {
    "duration": 1123,
    "start_time": "2021-07-02T09:53:31.507Z"
   },
   {
    "duration": 794,
    "start_time": "2021-07-02T09:54:16.770Z"
   },
   {
    "duration": 735,
    "start_time": "2021-07-02T09:54:41.692Z"
   },
   {
    "duration": 9,
    "start_time": "2021-07-02T09:55:30.682Z"
   },
   {
    "duration": 91,
    "start_time": "2021-07-02T09:55:43.897Z"
   },
   {
    "duration": 980,
    "start_time": "2021-07-02T09:57:05.646Z"
   },
   {
    "duration": 10,
    "start_time": "2021-07-02T09:57:08.418Z"
   },
   {
    "duration": 1128,
    "start_time": "2021-07-02T09:57:16.802Z"
   },
   {
    "duration": 1134,
    "start_time": "2021-07-02T09:58:45.458Z"
   },
   {
    "duration": 1063,
    "start_time": "2021-07-02T10:01:28.021Z"
   },
   {
    "duration": 93,
    "start_time": "2021-07-02T10:01:49.994Z"
   },
   {
    "duration": 87,
    "start_time": "2021-07-02T10:02:17.226Z"
   },
   {
    "duration": 481,
    "start_time": "2021-07-02T10:02:34.539Z"
   },
   {
    "duration": 988,
    "start_time": "2021-07-02T10:02:54.459Z"
   },
   {
    "duration": 840,
    "start_time": "2021-07-02T10:03:17.394Z"
   },
   {
    "duration": 1259,
    "start_time": "2021-07-02T10:03:49.404Z"
   },
   {
    "duration": 829,
    "start_time": "2021-07-02T10:03:57.282Z"
   },
   {
    "duration": 1177,
    "start_time": "2021-07-02T10:04:08.531Z"
   },
   {
    "duration": 6,
    "start_time": "2021-07-02T10:06:12.130Z"
   },
   {
    "duration": 1061,
    "start_time": "2021-07-02T10:06:20.242Z"
   },
   {
    "duration": 1102,
    "start_time": "2021-07-02T10:07:05.483Z"
   },
   {
    "duration": 1124,
    "start_time": "2021-07-02T10:07:16.107Z"
   },
   {
    "duration": 1130,
    "start_time": "2021-07-02T10:07:27.226Z"
   },
   {
    "duration": 1159,
    "start_time": "2021-07-02T10:07:52.003Z"
   },
   {
    "duration": 1221,
    "start_time": "2021-07-02T10:26:29.145Z"
   },
   {
    "duration": 276,
    "start_time": "2021-07-02T10:31:39.346Z"
   },
   {
    "duration": 5,
    "start_time": "2021-07-02T10:31:45.091Z"
   },
   {
    "duration": 257,
    "start_time": "2021-07-02T10:31:56.780Z"
   },
   {
    "duration": 50,
    "start_time": "2021-07-02T10:32:15.795Z"
   },
   {
    "duration": 18,
    "start_time": "2021-07-02T10:32:21.980Z"
   },
   {
    "duration": 17,
    "start_time": "2021-07-02T10:32:35.316Z"
   },
   {
    "duration": 18,
    "start_time": "2021-07-02T10:33:13.715Z"
   },
   {
    "duration": 10,
    "start_time": "2021-07-02T10:56:24.029Z"
   },
   {
    "duration": 8,
    "start_time": "2021-07-02T11:00:04.652Z"
   },
   {
    "duration": 8,
    "start_time": "2021-07-02T11:00:17.165Z"
   },
   {
    "duration": 7,
    "start_time": "2021-07-02T11:00:59.900Z"
   },
   {
    "duration": 17,
    "start_time": "2021-07-02T11:55:53.063Z"
   },
   {
    "duration": 8,
    "start_time": "2021-07-02T12:00:16.183Z"
   },
   {
    "duration": 4,
    "start_time": "2021-07-02T12:02:38.679Z"
   },
   {
    "duration": 247,
    "start_time": "2021-07-02T12:02:39.887Z"
   },
   {
    "duration": 29,
    "start_time": "2021-07-02T12:03:05.008Z"
   },
   {
    "duration": 16,
    "start_time": "2021-07-02T12:04:32.455Z"
   },
   {
    "duration": 282,
    "start_time": "2021-07-02T12:04:48.671Z"
   },
   {
    "duration": 280,
    "start_time": "2021-07-02T12:05:13.905Z"
   },
   {
    "duration": 14,
    "start_time": "2021-07-02T12:05:30.241Z"
   },
   {
    "duration": 317,
    "start_time": "2021-07-02T12:08:00.255Z"
   },
   {
    "duration": 270,
    "start_time": "2021-07-02T12:08:07.243Z"
   },
   {
    "duration": 248,
    "start_time": "2021-07-02T12:08:39.696Z"
   },
   {
    "duration": 266,
    "start_time": "2021-07-02T12:08:48.216Z"
   },
   {
    "duration": 13,
    "start_time": "2021-07-02T12:08:57.373Z"
   },
   {
    "duration": 14,
    "start_time": "2021-07-02T12:09:04.823Z"
   },
   {
    "duration": 14,
    "start_time": "2021-07-02T12:09:17.311Z"
   },
   {
    "duration": 8,
    "start_time": "2021-07-02T12:09:43.631Z"
   },
   {
    "duration": 7,
    "start_time": "2021-07-02T12:10:25.935Z"
   },
   {
    "duration": 4,
    "start_time": "2021-07-02T12:10:58.103Z"
   },
   {
    "duration": 308,
    "start_time": "2021-07-02T12:11:19.080Z"
   },
   {
    "duration": 4,
    "start_time": "2021-07-02T12:11:40.792Z"
   },
   {
    "duration": 7,
    "start_time": "2021-07-02T12:11:47.383Z"
   },
   {
    "duration": 1839,
    "start_time": "2021-07-02T12:12:57.325Z"
   },
   {
    "duration": 47,
    "start_time": "2021-07-02T12:13:14.993Z"
   },
   {
    "duration": 11,
    "start_time": "2021-07-02T12:13:23.892Z"
   },
   {
    "duration": 5,
    "start_time": "2021-07-02T12:36:05.383Z"
   },
   {
    "duration": 8,
    "start_time": "2021-07-02T12:36:12.527Z"
   },
   {
    "duration": 4,
    "start_time": "2021-07-02T12:36:19.815Z"
   },
   {
    "duration": 6,
    "start_time": "2021-07-02T12:39:23.760Z"
   },
   {
    "duration": 7,
    "start_time": "2021-07-02T12:45:48.352Z"
   },
   {
    "duration": 6,
    "start_time": "2021-07-02T12:46:23.290Z"
   },
   {
    "duration": 10,
    "start_time": "2021-07-02T12:51:44.337Z"
   },
   {
    "duration": 11,
    "start_time": "2021-07-02T12:51:53.088Z"
   },
   {
    "duration": 6,
    "start_time": "2021-07-02T12:54:48.944Z"
   },
   {
    "duration": 1796,
    "start_time": "2021-07-02T12:58:02.953Z"
   },
   {
    "duration": 608,
    "start_time": "2021-07-02T12:59:07.657Z"
   },
   {
    "duration": 8,
    "start_time": "2021-07-02T12:59:42.736Z"
   },
   {
    "duration": 8,
    "start_time": "2021-07-02T13:00:04.225Z"
   },
   {
    "duration": 7,
    "start_time": "2021-07-02T13:00:20.106Z"
   },
   {
    "duration": 316,
    "start_time": "2021-07-02T13:00:30.576Z"
   },
   {
    "duration": 39,
    "start_time": "2021-07-02T13:01:13.913Z"
   },
   {
    "duration": 9,
    "start_time": "2021-07-02T13:01:34.196Z"
   },
   {
    "duration": 7,
    "start_time": "2021-07-02T13:01:43.704Z"
   },
   {
    "duration": 17,
    "start_time": "2021-07-02T13:02:18.273Z"
   },
   {
    "duration": 10,
    "start_time": "2021-07-02T13:05:50.538Z"
   },
   {
    "duration": 258,
    "start_time": "2021-07-02T13:08:53.881Z"
   },
   {
    "duration": 15,
    "start_time": "2021-07-02T13:09:02.145Z"
   },
   {
    "duration": 449,
    "start_time": "2021-07-02T14:45:13.880Z"
   },
   {
    "duration": 410,
    "start_time": "2021-07-02T14:45:14.605Z"
   },
   {
    "duration": 1469,
    "start_time": "2021-07-02T14:45:22.452Z"
   },
   {
    "duration": 1085,
    "start_time": "2021-07-02T14:45:23.924Z"
   },
   {
    "duration": 13,
    "start_time": "2021-07-02T14:45:25.012Z"
   },
   {
    "duration": 1239,
    "start_time": "2021-07-02T14:45:25.028Z"
   },
   {
    "duration": 1153,
    "start_time": "2021-07-02T14:45:26.270Z"
   },
   {
    "duration": 395,
    "start_time": "2021-07-02T14:45:27.425Z"
   },
   {
    "duration": 7,
    "start_time": "2021-07-02T14:45:27.816Z"
   },
   {
    "duration": -1,
    "start_time": "2021-07-02T14:45:27.825Z"
   },
   {
    "duration": -4,
    "start_time": "2021-07-02T14:45:27.829Z"
   },
   {
    "duration": 8,
    "start_time": "2021-07-02T14:45:36.622Z"
   },
   {
    "duration": 15,
    "start_time": "2021-07-02T14:45:37.685Z"
   },
   {
    "duration": 310,
    "start_time": "2021-07-02T14:45:38.773Z"
   },
   {
    "duration": 602,
    "start_time": "2021-07-02T14:45:45.309Z"
   },
   {
    "duration": 282,
    "start_time": "2021-07-02T14:45:57.374Z"
   },
   {
    "duration": 7,
    "start_time": "2021-07-02T14:46:16.158Z"
   },
   {
    "duration": 10,
    "start_time": "2021-07-02T14:46:17.805Z"
   },
   {
    "duration": 22,
    "start_time": "2021-07-02T14:46:21.021Z"
   },
   {
    "duration": 17,
    "start_time": "2021-07-02T14:46:21.797Z"
   },
   {
    "duration": 14,
    "start_time": "2021-07-02T14:46:22.463Z"
   },
   {
    "duration": 18,
    "start_time": "2021-07-02T14:50:15.565Z"
   },
   {
    "duration": 12,
    "start_time": "2021-07-02T14:50:15.933Z"
   },
   {
    "duration": 15,
    "start_time": "2021-07-02T14:50:18.156Z"
   },
   {
    "duration": 41,
    "start_time": "2021-07-02T14:50:53.845Z"
   },
   {
    "duration": 41,
    "start_time": "2021-07-02T14:52:57.320Z"
   },
   {
    "duration": 6,
    "start_time": "2021-07-02T14:53:27.144Z"
   },
   {
    "duration": 331,
    "start_time": "2021-07-02T15:01:52.152Z"
   },
   {
    "duration": 4,
    "start_time": "2021-07-02T15:04:18.782Z"
   },
   {
    "duration": 5,
    "start_time": "2021-07-02T15:04:29.622Z"
   },
   {
    "duration": 7,
    "start_time": "2021-07-02T15:04:34.261Z"
   },
   {
    "duration": 1448,
    "start_time": "2021-07-02T18:25:05.137Z"
   },
   {
    "duration": 1075,
    "start_time": "2021-07-02T18:25:06.588Z"
   },
   {
    "duration": 22,
    "start_time": "2021-07-02T18:25:07.666Z"
   },
   {
    "duration": 1283,
    "start_time": "2021-07-02T18:25:07.691Z"
   },
   {
    "duration": 1098,
    "start_time": "2021-07-02T18:25:08.977Z"
   },
   {
    "duration": 448,
    "start_time": "2021-07-02T18:25:10.079Z"
   },
   {
    "duration": 700,
    "start_time": "2021-07-02T18:25:09.830Z"
   },
   {
    "duration": 696,
    "start_time": "2021-07-02T18:25:09.835Z"
   },
   {
    "duration": 695,
    "start_time": "2021-07-02T18:25:09.838Z"
   },
   {
    "duration": 692,
    "start_time": "2021-07-02T18:25:09.842Z"
   },
   {
    "duration": 309,
    "start_time": "2021-07-02T18:25:39.153Z"
   },
   {
    "duration": 18,
    "start_time": "2021-07-02T18:25:45.638Z"
   },
   {
    "duration": 305,
    "start_time": "2021-07-02T18:25:46.203Z"
   },
   {
    "duration": 8,
    "start_time": "2021-07-02T18:25:57.186Z"
   },
   {
    "duration": 4,
    "start_time": "2021-07-02T18:26:06.596Z"
   },
   {
    "duration": 19,
    "start_time": "2021-07-02T18:26:09.142Z"
   },
   {
    "duration": 13,
    "start_time": "2021-07-02T18:26:09.706Z"
   },
   {
    "duration": 15,
    "start_time": "2021-07-02T18:26:10.757Z"
   },
   {
    "duration": 320,
    "start_time": "2021-07-02T18:26:44.628Z"
   },
   {
    "duration": 6,
    "start_time": "2021-07-02T18:26:53.486Z"
   },
   {
    "duration": 6,
    "start_time": "2021-07-02T18:27:31.048Z"
   },
   {
    "duration": 6,
    "start_time": "2021-07-02T18:28:55.965Z"
   },
   {
    "duration": 7,
    "start_time": "2021-07-02T18:29:09.973Z"
   },
   {
    "duration": 6,
    "start_time": "2021-07-02T18:31:55.666Z"
   },
   {
    "duration": 1229,
    "start_time": "2021-07-02T18:50:50.966Z"
   },
   {
    "duration": 17,
    "start_time": "2021-07-02T18:53:17.760Z"
   },
   {
    "duration": 9,
    "start_time": "2021-07-02T18:53:21.523Z"
   },
   {
    "duration": 310,
    "start_time": "2021-07-02T19:03:39.669Z"
   },
   {
    "duration": 383,
    "start_time": "2021-07-02T19:04:22.503Z"
   },
   {
    "duration": 42,
    "start_time": "2021-07-02T19:05:00.326Z"
   },
   {
    "duration": 51,
    "start_time": "2021-07-02T19:05:21.776Z"
   },
   {
    "duration": 378,
    "start_time": "2021-07-02T19:06:03.176Z"
   },
   {
    "duration": 370,
    "start_time": "2021-07-02T19:06:11.460Z"
   },
   {
    "duration": 70,
    "start_time": "2021-07-02T19:06:26.843Z"
   },
   {
    "duration": 71,
    "start_time": "2021-07-02T19:06:43.122Z"
   },
   {
    "duration": 69,
    "start_time": "2021-07-02T19:06:53.215Z"
   },
   {
    "duration": 112,
    "start_time": "2021-07-02T19:11:17.866Z"
   },
   {
    "duration": 69,
    "start_time": "2021-07-02T19:11:23.890Z"
   },
   {
    "duration": 68,
    "start_time": "2021-07-02T19:11:31.039Z"
   },
   {
    "duration": 4,
    "start_time": "2021-07-02T19:11:41.918Z"
   },
   {
    "duration": 15,
    "start_time": "2021-07-02T19:11:45.394Z"
   },
   {
    "duration": 15,
    "start_time": "2021-07-02T19:11:46.269Z"
   },
   {
    "duration": 20,
    "start_time": "2021-07-02T19:11:48.896Z"
   },
   {
    "duration": 6,
    "start_time": "2021-07-02T19:12:28.047Z"
   },
   {
    "duration": 8,
    "start_time": "2021-07-02T19:12:40.792Z"
   },
   {
    "duration": 7,
    "start_time": "2021-07-02T19:13:32.115Z"
   },
   {
    "duration": 4,
    "start_time": "2021-07-02T19:13:44.232Z"
   },
   {
    "duration": 17,
    "start_time": "2021-07-02T19:13:45.115Z"
   },
   {
    "duration": 15,
    "start_time": "2021-07-02T19:13:45.600Z"
   },
   {
    "duration": 20,
    "start_time": "2021-07-02T19:13:46.251Z"
   },
   {
    "duration": 9,
    "start_time": "2021-07-02T19:13:47.035Z"
   },
   {
    "duration": 9,
    "start_time": "2021-07-02T19:14:22.782Z"
   },
   {
    "duration": 4,
    "start_time": "2021-07-02T19:17:31.377Z"
   },
   {
    "duration": 486,
    "start_time": "2021-07-02T19:18:42.163Z"
   },
   {
    "duration": 303,
    "start_time": "2021-07-02T19:19:20.003Z"
   },
   {
    "duration": 6,
    "start_time": "2021-07-02T19:19:26.391Z"
   },
   {
    "duration": 537,
    "start_time": "2021-07-02T19:19:31.796Z"
   },
   {
    "duration": 530,
    "start_time": "2021-07-02T19:20:28.866Z"
   },
   {
    "duration": 370,
    "start_time": "2021-07-02T19:21:04.577Z"
   },
   {
    "duration": 3,
    "start_time": "2021-07-02T19:21:15.502Z"
   },
   {
    "duration": 6,
    "start_time": "2021-07-02T19:21:19.810Z"
   },
   {
    "duration": 332,
    "start_time": "2021-07-02T19:21:32.117Z"
   },
   {
    "duration": 336,
    "start_time": "2021-07-02T19:21:39.988Z"
   },
   {
    "duration": 7,
    "start_time": "2021-07-02T19:21:53.127Z"
   },
   {
    "duration": 322,
    "start_time": "2021-07-02T19:22:00.210Z"
   },
   {
    "duration": 17,
    "start_time": "2021-07-02T19:22:07.760Z"
   },
   {
    "duration": 69,
    "start_time": "2021-07-02T19:22:22.312Z"
   },
   {
    "duration": 18,
    "start_time": "2021-07-02T19:22:51.008Z"
   },
   {
    "duration": 18,
    "start_time": "2021-07-02T19:23:22.267Z"
   },
   {
    "duration": 615,
    "start_time": "2021-07-02T19:23:22.649Z"
   },
   {
    "duration": 623,
    "start_time": "2021-07-02T19:23:22.644Z"
   },
   {
    "duration": 5,
    "start_time": "2021-07-02T19:23:24.218Z"
   },
   {
    "duration": 19,
    "start_time": "2021-07-02T19:23:25.199Z"
   },
   {
    "duration": 38,
    "start_time": "2021-07-02T19:25:02.785Z"
   },
   {
    "duration": 74,
    "start_time": "2021-07-02T19:25:43.496Z"
   },
   {
    "duration": 42,
    "start_time": "2021-07-02T19:25:44.747Z"
   },
   {
    "duration": 99,
    "start_time": "2021-07-02T19:26:05.235Z"
   },
   {
    "duration": 60,
    "start_time": "2021-07-02T19:26:06.311Z"
   },
   {
    "duration": 6,
    "start_time": "2021-07-02T19:26:10.496Z"
   },
   {
    "duration": 17,
    "start_time": "2021-07-02T19:26:12.733Z"
   },
   {
    "duration": 14,
    "start_time": "2021-07-02T19:26:13.713Z"
   },
   {
    "duration": 17,
    "start_time": "2021-07-02T19:26:15.210Z"
   },
   {
    "duration": 6,
    "start_time": "2021-07-02T19:26:16.470Z"
   },
   {
    "duration": 17,
    "start_time": "2021-07-02T19:26:17.368Z"
   },
   {
    "duration": 31,
    "start_time": "2021-07-02T19:29:08.905Z"
   },
   {
    "duration": 26,
    "start_time": "2021-07-02T19:29:17.249Z"
   },
   {
    "duration": 8,
    "start_time": "2021-07-02T19:34:01.186Z"
   },
   {
    "duration": 5,
    "start_time": "2021-07-02T19:37:08.717Z"
   },
   {
    "duration": 5,
    "start_time": "2021-07-02T19:37:27.137Z"
   },
   {
    "duration": 5,
    "start_time": "2021-07-02T19:37:33.719Z"
   },
   {
    "duration": 7,
    "start_time": "2021-07-02T19:37:44.268Z"
   },
   {
    "duration": 7,
    "start_time": "2021-07-02T19:39:58.554Z"
   },
   {
    "duration": 8,
    "start_time": "2021-07-02T19:40:21.010Z"
   },
   {
    "duration": 45,
    "start_time": "2021-07-02T19:43:17.786Z"
   },
   {
    "duration": 14,
    "start_time": "2021-07-02T19:43:37.959Z"
   },
   {
    "duration": 255,
    "start_time": "2021-07-02T19:43:52.516Z"
   },
   {
    "duration": 14,
    "start_time": "2021-07-02T19:44:04.625Z"
   },
   {
    "duration": 5,
    "start_time": "2021-07-02T19:46:05.566Z"
   },
   {
    "duration": 5,
    "start_time": "2021-07-02T19:49:53.081Z"
   },
   {
    "duration": 8,
    "start_time": "2021-07-02T19:50:08.312Z"
   },
   {
    "duration": 10,
    "start_time": "2021-07-02T19:52:07.681Z"
   },
   {
    "duration": 14,
    "start_time": "2021-07-02T19:52:12.981Z"
   },
   {
    "duration": 1573,
    "start_time": "2021-07-03T11:53:54.185Z"
   },
   {
    "duration": 1337,
    "start_time": "2021-07-03T11:53:56.720Z"
   },
   {
    "duration": 13,
    "start_time": "2021-07-03T11:53:58.431Z"
   },
   {
    "duration": 1233,
    "start_time": "2021-07-03T11:53:59.575Z"
   },
   {
    "duration": 939,
    "start_time": "2021-07-03T11:54:11.659Z"
   },
   {
    "duration": 17,
    "start_time": "2021-07-03T11:55:48.325Z"
   },
   {
    "duration": 10,
    "start_time": "2021-07-03T11:56:08.975Z"
   },
   {
    "duration": 80,
    "start_time": "2021-07-03T11:57:35.365Z"
   },
   {
    "duration": 4,
    "start_time": "2021-07-03T11:57:40.959Z"
   },
   {
    "duration": 21,
    "start_time": "2021-07-03T11:57:44.679Z"
   },
   {
    "duration": 18,
    "start_time": "2021-07-03T11:57:45.330Z"
   },
   {
    "duration": 23,
    "start_time": "2021-07-03T11:57:46.078Z"
   },
   {
    "duration": 23,
    "start_time": "2021-07-03T11:57:46.884Z"
   },
   {
    "duration": 8,
    "start_time": "2021-07-03T11:58:11.857Z"
   },
   {
    "duration": 583,
    "start_time": "2021-07-03T11:59:41.068Z"
   },
   {
    "duration": 6679,
    "start_time": "2021-07-03T11:59:47.940Z"
   },
   {
    "duration": 11,
    "start_time": "2021-07-03T12:01:11.644Z"
   },
   {
    "duration": 6,
    "start_time": "2021-07-03T12:02:34.588Z"
   },
   {
    "duration": 3701,
    "start_time": "2021-07-03T12:04:33.060Z"
   },
   {
    "duration": 2752,
    "start_time": "2021-07-03T12:05:00.025Z"
   },
   {
    "duration": 8042,
    "start_time": "2021-07-03T12:05:47.446Z"
   },
   {
    "duration": 2669,
    "start_time": "2021-07-03T12:06:47.557Z"
   },
   {
    "duration": 2656,
    "start_time": "2021-07-03T12:06:58.466Z"
   },
   {
    "duration": 2688,
    "start_time": "2021-07-03T12:07:07.175Z"
   },
   {
    "duration": 2809,
    "start_time": "2021-07-03T12:07:19.650Z"
   },
   {
    "duration": 9,
    "start_time": "2021-07-03T12:08:03.133Z"
   },
   {
    "duration": 11,
    "start_time": "2021-07-03T12:08:13.935Z"
   },
   {
    "duration": 16,
    "start_time": "2021-07-03T12:08:59.366Z"
   },
   {
    "duration": 13,
    "start_time": "2021-07-03T12:09:26.043Z"
   },
   {
    "duration": 13,
    "start_time": "2021-07-03T12:09:35.863Z"
   },
   {
    "duration": 9,
    "start_time": "2021-07-03T12:10:02.644Z"
   },
   {
    "duration": 5,
    "start_time": "2021-07-03T12:12:27.489Z"
   },
   {
    "duration": 287,
    "start_time": "2021-07-03T12:12:58.927Z"
   },
   {
    "duration": 1063,
    "start_time": "2021-07-03T12:13:08.129Z"
   },
   {
    "duration": 859,
    "start_time": "2021-07-03T12:13:19.758Z"
   },
   {
    "duration": 4,
    "start_time": "2021-07-03T12:13:36.996Z"
   },
   {
    "duration": 982,
    "start_time": "2021-07-03T12:13:37.587Z"
   },
   {
    "duration": 4347,
    "start_time": "2021-07-03T12:13:45.260Z"
   },
   {
    "duration": 3937,
    "start_time": "2021-07-03T12:14:03.781Z"
   },
   {
    "duration": 3190,
    "start_time": "2021-07-03T12:14:35.512Z"
   },
   {
    "duration": 3176,
    "start_time": "2021-07-03T12:15:29.827Z"
   },
   {
    "duration": 5546,
    "start_time": "2021-07-03T12:17:01.056Z"
   },
   {
    "duration": 11108,
    "start_time": "2021-07-03T12:17:11.286Z"
   },
   {
    "duration": 10798,
    "start_time": "2021-07-03T12:17:47.434Z"
   },
   {
    "duration": 4,
    "start_time": "2021-07-03T12:19:28.104Z"
   },
   {
    "duration": 8141,
    "start_time": "2021-07-03T12:19:28.498Z"
   },
   {
    "duration": 3729,
    "start_time": "2021-07-03T12:21:11.503Z"
   },
   {
    "duration": 8200,
    "start_time": "2021-07-03T12:21:36.994Z"
   },
   {
    "duration": 8195,
    "start_time": "2021-07-03T12:23:32.163Z"
   },
   {
    "duration": 8206,
    "start_time": "2021-07-03T12:25:47.528Z"
   },
   {
    "duration": 8560,
    "start_time": "2021-07-03T12:27:10.427Z"
   },
   {
    "duration": 7999,
    "start_time": "2021-07-03T12:28:20.911Z"
   },
   {
    "duration": 8305,
    "start_time": "2021-07-03T12:29:54.379Z"
   },
   {
    "duration": 8353,
    "start_time": "2021-07-03T12:30:22.343Z"
   },
   {
    "duration": 9553,
    "start_time": "2021-07-03T12:33:12.520Z"
   },
   {
    "duration": 8087,
    "start_time": "2021-07-03T12:33:36.667Z"
   },
   {
    "duration": 8206,
    "start_time": "2021-07-03T12:35:25.539Z"
   },
   {
    "duration": 8355,
    "start_time": "2021-07-03T12:36:43.278Z"
   },
   {
    "duration": 8396,
    "start_time": "2021-07-03T12:37:34.841Z"
   },
   {
    "duration": 8470,
    "start_time": "2021-07-03T12:38:48.434Z"
   },
   {
    "duration": 644,
    "start_time": "2021-07-03T12:43:19.055Z"
   },
   {
    "duration": 320,
    "start_time": "2021-07-03T12:43:35.918Z"
   },
   {
    "duration": 95,
    "start_time": "2021-07-03T12:44:20.303Z"
   },
   {
    "duration": 22583,
    "start_time": "2021-07-03T12:44:38.024Z"
   },
   {
    "duration": 311,
    "start_time": "2021-07-03T12:45:09.944Z"
   },
   {
    "duration": 3826,
    "start_time": "2021-07-03T12:45:37.665Z"
   },
   {
    "duration": 7,
    "start_time": "2021-07-03T12:47:13.500Z"
   },
   {
    "duration": 304,
    "start_time": "2021-07-03T12:47:40.290Z"
   },
   {
    "duration": 850,
    "start_time": "2021-07-03T12:47:49.177Z"
   },
   {
    "duration": 604,
    "start_time": "2021-07-03T12:48:06.619Z"
   },
   {
    "duration": 438,
    "start_time": "2021-07-03T12:50:11.622Z"
   },
   {
    "duration": 1018,
    "start_time": "2021-07-03T12:50:22.831Z"
   },
   {
    "duration": 2669,
    "start_time": "2021-07-03T12:51:07.771Z"
   },
   {
    "duration": 92,
    "start_time": "2021-07-03T12:55:05.975Z"
   },
   {
    "duration": 881,
    "start_time": "2021-07-03T12:55:18.460Z"
   },
   {
    "duration": 858,
    "start_time": "2021-07-03T12:55:25.012Z"
   },
   {
    "duration": 809,
    "start_time": "2021-07-03T12:55:45.134Z"
   },
   {
    "duration": 757,
    "start_time": "2021-07-03T12:55:51.843Z"
   },
   {
    "duration": 611,
    "start_time": "2021-07-03T12:56:03.595Z"
   },
   {
    "duration": 920,
    "start_time": "2021-07-03T12:58:20.677Z"
   },
   {
    "duration": 762,
    "start_time": "2021-07-03T12:58:31.672Z"
   },
   {
    "duration": 453,
    "start_time": "2021-07-03T12:58:48.286Z"
   },
   {
    "duration": 127,
    "start_time": "2021-07-03T12:59:53.255Z"
   },
   {
    "duration": 472,
    "start_time": "2021-07-03T13:01:07.946Z"
   },
   {
    "duration": 468,
    "start_time": "2021-07-03T13:01:57.704Z"
   },
   {
    "duration": 587,
    "start_time": "2021-07-03T13:02:48.454Z"
   },
   {
    "duration": 519,
    "start_time": "2021-07-03T13:02:58.055Z"
   },
   {
    "duration": 126,
    "start_time": "2021-07-03T13:06:01.410Z"
   },
   {
    "duration": 106,
    "start_time": "2021-07-03T13:06:17.361Z"
   },
   {
    "duration": 511,
    "start_time": "2021-07-03T13:06:41.495Z"
   },
   {
    "duration": 488,
    "start_time": "2021-07-03T13:07:22.123Z"
   },
   {
    "duration": 506,
    "start_time": "2021-07-03T13:07:42.071Z"
   },
   {
    "duration": 508,
    "start_time": "2021-07-03T13:07:52.325Z"
   },
   {
    "duration": 519,
    "start_time": "2021-07-03T13:08:04.550Z"
   },
   {
    "duration": 531,
    "start_time": "2021-07-03T13:09:07.730Z"
   },
   {
    "duration": 4,
    "start_time": "2021-07-03T13:10:13.954Z"
   },
   {
    "duration": 8,
    "start_time": "2021-07-03T13:10:22.187Z"
   },
   {
    "duration": 9,
    "start_time": "2021-07-03T13:10:32.472Z"
   },
   {
    "duration": 16,
    "start_time": "2021-07-03T13:10:52.795Z"
   },
   {
    "duration": 8,
    "start_time": "2021-07-03T13:11:24.588Z"
   },
   {
    "duration": 18,
    "start_time": "2021-07-03T13:11:59.338Z"
   },
   {
    "duration": 2013,
    "start_time": "2021-07-03T13:12:30.451Z"
   },
   {
    "duration": 319,
    "start_time": "2021-07-03T13:12:50.012Z"
   },
   {
    "duration": 6,
    "start_time": "2021-07-03T13:13:33.648Z"
   },
   {
    "duration": 11,
    "start_time": "2021-07-03T13:13:39.657Z"
   },
   {
    "duration": 528,
    "start_time": "2021-07-03T13:13:50.217Z"
   },
   {
    "duration": 10,
    "start_time": "2021-07-03T13:14:00.038Z"
   },
   {
    "duration": 606,
    "start_time": "2021-07-03T13:14:19.605Z"
   },
   {
    "duration": 663,
    "start_time": "2021-07-03T13:14:47.769Z"
   },
   {
    "duration": 642,
    "start_time": "2021-07-03T13:16:49.480Z"
   },
   {
    "duration": 660,
    "start_time": "2021-07-03T13:16:54.892Z"
   },
   {
    "duration": 5,
    "start_time": "2021-07-03T13:18:53.730Z"
   },
   {
    "duration": 8,
    "start_time": "2021-07-03T13:19:41.864Z"
   },
   {
    "duration": 729,
    "start_time": "2021-07-03T13:22:17.142Z"
   },
   {
    "duration": 41,
    "start_time": "2021-07-03T13:23:04.170Z"
   },
   {
    "duration": 6,
    "start_time": "2021-07-03T13:23:11.450Z"
   },
   {
    "duration": 597,
    "start_time": "2021-07-03T13:24:23.902Z"
   },
   {
    "duration": 424,
    "start_time": "2021-07-03T13:26:08.552Z"
   },
   {
    "duration": 1013,
    "start_time": "2021-07-03T13:26:13.330Z"
   },
   {
    "duration": 1357,
    "start_time": "2021-07-03T13:26:39.251Z"
   },
   {
    "duration": 1241,
    "start_time": "2021-07-03T13:27:02.790Z"
   },
   {
    "duration": 1697,
    "start_time": "2021-07-03T13:27:28.997Z"
   },
   {
    "duration": 1167,
    "start_time": "2021-07-03T13:28:05.919Z"
   },
   {
    "duration": 1189,
    "start_time": "2021-07-03T13:28:20.203Z"
   },
   {
    "duration": 1711,
    "start_time": "2021-07-03T13:28:30.230Z"
   },
   {
    "duration": 1284,
    "start_time": "2021-07-03T13:28:41.183Z"
   },
   {
    "duration": 1157,
    "start_time": "2021-07-05T09:28:20.051Z"
   },
   {
    "duration": 7104,
    "start_time": "2021-07-05T09:28:21.210Z"
   },
   {
    "duration": 7,
    "start_time": "2021-07-05T09:28:28.316Z"
   },
   {
    "duration": 750,
    "start_time": "2021-07-05T09:28:28.325Z"
   },
   {
    "duration": 469,
    "start_time": "2021-07-05T09:28:30.220Z"
   },
   {
    "duration": 12,
    "start_time": "2021-07-05T09:28:34.714Z"
   },
   {
    "duration": 5,
    "start_time": "2021-07-05T09:28:49.867Z"
   },
   {
    "duration": 58,
    "start_time": "2021-07-05T09:28:52.186Z"
   },
   {
    "duration": 3,
    "start_time": "2021-07-05T09:28:54.560Z"
   },
   {
    "duration": 15,
    "start_time": "2021-07-05T09:28:55.967Z"
   },
   {
    "duration": 14,
    "start_time": "2021-07-05T09:28:56.367Z"
   },
   {
    "duration": 18,
    "start_time": "2021-07-05T09:28:56.868Z"
   },
   {
    "duration": 17,
    "start_time": "2021-07-05T09:28:57.327Z"
   },
   {
    "duration": 5308,
    "start_time": "2021-07-05T09:28:58.560Z"
   },
   {
    "duration": 5141,
    "start_time": "2021-07-05T09:29:43.252Z"
   },
   {
    "duration": 5301,
    "start_time": "2021-07-05T09:30:08.609Z"
   },
   {
    "duration": 6,
    "start_time": "2021-07-05T09:32:44.297Z"
   },
   {
    "duration": 307,
    "start_time": "2021-07-05T09:32:56.511Z"
   },
   {
    "duration": 26,
    "start_time": "2021-07-05T09:33:02.617Z"
   },
   {
    "duration": 35,
    "start_time": "2021-07-05T09:33:29.444Z"
   },
   {
    "duration": 10,
    "start_time": "2021-07-05T09:33:54.499Z"
   },
   {
    "duration": 64,
    "start_time": "2021-07-05T09:34:14.120Z"
   },
   {
    "duration": 62,
    "start_time": "2021-07-05T09:35:29.961Z"
   },
   {
    "duration": 1551,
    "start_time": "2021-07-05T11:01:10.814Z"
   },
   {
    "duration": 1139,
    "start_time": "2021-07-05T11:01:12.368Z"
   },
   {
    "duration": 13,
    "start_time": "2021-07-05T11:01:13.511Z"
   },
   {
    "duration": 1229,
    "start_time": "2021-07-05T11:01:13.527Z"
   },
   {
    "duration": 1035,
    "start_time": "2021-07-05T11:01:14.759Z"
   },
   {
    "duration": 22,
    "start_time": "2021-07-05T11:01:16.847Z"
   },
   {
    "duration": 7,
    "start_time": "2021-07-05T11:01:18.693Z"
   },
   {
    "duration": 85,
    "start_time": "2021-07-05T11:01:20.272Z"
   },
   {
    "duration": 4,
    "start_time": "2021-07-05T11:01:37.215Z"
   },
   {
    "duration": 15,
    "start_time": "2021-07-05T11:01:38.605Z"
   },
   {
    "duration": 17,
    "start_time": "2021-07-05T11:01:39.838Z"
   },
   {
    "duration": 23,
    "start_time": "2021-07-05T11:01:40.261Z"
   },
   {
    "duration": 27,
    "start_time": "2021-07-05T11:01:41.462Z"
   },
   {
    "duration": 7971,
    "start_time": "2021-07-05T11:01:44.206Z"
   },
   {
    "duration": 1265,
    "start_time": "2021-07-05T11:01:58.837Z"
   },
   {
    "duration": 1336,
    "start_time": "2021-07-05T11:02:14.191Z"
   },
   {
    "duration": 580,
    "start_time": "2021-07-05T11:02:31.126Z"
   },
   {
    "duration": 588,
    "start_time": "2021-07-05T11:03:39.734Z"
   },
   {
    "duration": 583,
    "start_time": "2021-07-05T11:04:36.703Z"
   },
   {
    "duration": 581,
    "start_time": "2021-07-05T11:04:58.800Z"
   },
   {
    "duration": 691,
    "start_time": "2021-07-05T11:05:06.881Z"
   },
   {
    "duration": 1324,
    "start_time": "2021-07-05T11:05:12.942Z"
   },
   {
    "duration": 591,
    "start_time": "2021-07-05T11:05:19.238Z"
   },
   {
    "duration": 587,
    "start_time": "2021-07-05T11:05:44.670Z"
   },
   {
    "duration": 6614,
    "start_time": "2021-07-05T11:12:20.887Z"
   },
   {
    "duration": 19,
    "start_time": "2021-07-05T11:12:36.623Z"
   },
   {
    "duration": 10,
    "start_time": "2021-07-05T11:12:42.640Z"
   },
   {
    "duration": 11,
    "start_time": "2021-07-05T11:12:56.671Z"
   },
   {
    "duration": 18,
    "start_time": "2021-07-05T11:13:09.566Z"
   },
   {
    "duration": 310,
    "start_time": "2021-07-05T11:17:37.256Z"
   },
   {
    "duration": 39,
    "start_time": "2021-07-05T11:17:50.135Z"
   },
   {
    "duration": 41,
    "start_time": "2021-07-05T11:18:32.855Z"
   },
   {
    "duration": 591,
    "start_time": "2021-07-05T11:18:50.122Z"
   },
   {
    "duration": 652,
    "start_time": "2021-07-05T11:19:56.463Z"
   },
   {
    "duration": 738,
    "start_time": "2021-07-05T11:20:21.823Z"
   },
   {
    "duration": 843,
    "start_time": "2021-07-05T11:20:29.553Z"
   },
   {
    "duration": 1132,
    "start_time": "2021-07-05T11:21:20.183Z"
   },
   {
    "duration": 2562,
    "start_time": "2021-07-05T11:21:39.080Z"
   },
   {
    "duration": 1960,
    "start_time": "2021-07-05T12:33:17.182Z"
   },
   {
    "duration": 1765,
    "start_time": "2021-07-05T12:33:23.883Z"
   },
   {
    "duration": 1669,
    "start_time": "2021-07-05T12:33:36.228Z"
   },
   {
    "duration": 8005,
    "start_time": "2021-07-05T12:35:38.996Z"
   },
   {
    "duration": 2256,
    "start_time": "2021-07-05T12:37:04.764Z"
   },
   {
    "duration": 4641,
    "start_time": "2021-07-05T12:37:11.373Z"
   },
   {
    "duration": 1933,
    "start_time": "2021-07-05T12:37:44.324Z"
   },
   {
    "duration": 2581,
    "start_time": "2021-07-05T12:57:46.101Z"
   },
   {
    "duration": 10,
    "start_time": "2021-07-05T13:21:30.735Z"
   },
   {
    "duration": 3065,
    "start_time": "2021-07-05T13:24:11.751Z"
   },
   {
    "duration": 3003,
    "start_time": "2021-07-05T13:24:31.624Z"
   },
   {
    "duration": 360,
    "start_time": "2021-07-05T13:25:06.911Z"
   },
   {
    "duration": 335,
    "start_time": "2021-07-05T13:25:26.609Z"
   },
   {
    "duration": 43,
    "start_time": "2021-07-05T13:26:46.162Z"
   },
   {
    "duration": 9,
    "start_time": "2021-07-05T13:27:05.018Z"
   },
   {
    "duration": 12,
    "start_time": "2021-07-05T13:27:21.663Z"
   },
   {
    "duration": 23,
    "start_time": "2021-07-05T13:27:42.256Z"
   },
   {
    "duration": 7271,
    "start_time": "2021-07-05T13:45:49.337Z"
   },
   {
    "duration": 10876,
    "start_time": "2021-07-05T13:46:07.969Z"
   },
   {
    "duration": 141,
    "start_time": "2021-07-05T13:49:01.402Z"
   },
   {
    "duration": 329,
    "start_time": "2021-07-05T13:50:05.066Z"
   },
   {
    "duration": 340,
    "start_time": "2021-07-05T13:50:25.581Z"
   },
   {
    "duration": 425,
    "start_time": "2021-07-05T13:51:04.641Z"
   },
   {
    "duration": 45,
    "start_time": "2021-07-05T13:55:26.801Z"
   },
   {
    "duration": 12,
    "start_time": "2021-07-05T13:55:32.822Z"
   },
   {
    "duration": 13,
    "start_time": "2021-07-05T13:55:48.642Z"
   },
   {
    "duration": 10,
    "start_time": "2021-07-05T13:56:27.787Z"
   },
   {
    "duration": 94,
    "start_time": "2021-07-05T14:04:06.612Z"
   },
   {
    "duration": 9,
    "start_time": "2021-07-05T14:04:33.874Z"
   },
   {
    "duration": 88,
    "start_time": "2021-07-05T14:04:34.290Z"
   },
   {
    "duration": 7,
    "start_time": "2021-07-05T14:05:05.764Z"
   },
   {
    "duration": 55,
    "start_time": "2021-07-05T14:05:12.042Z"
   },
   {
    "duration": 8,
    "start_time": "2021-07-05T14:08:27.467Z"
   },
   {
    "duration": 17,
    "start_time": "2021-07-05T14:10:51.936Z"
   },
   {
    "duration": 18,
    "start_time": "2021-07-05T14:15:19.395Z"
   },
   {
    "duration": 2500,
    "start_time": "2021-07-05T14:15:19.642Z"
   },
   {
    "duration": 42,
    "start_time": "2021-07-05T14:15:33.933Z"
   },
   {
    "duration": 289,
    "start_time": "2021-07-05T14:16:55.411Z"
   },
   {
    "duration": 87,
    "start_time": "2021-07-05T14:20:25.357Z"
   },
   {
    "duration": 101,
    "start_time": "2021-07-05T14:21:01.114Z"
   },
   {
    "duration": 88,
    "start_time": "2021-07-05T14:21:07.890Z"
   },
   {
    "duration": 84,
    "start_time": "2021-07-05T14:21:23.107Z"
   },
   {
    "duration": 9,
    "start_time": "2021-07-05T14:21:40.620Z"
   },
   {
    "duration": 22,
    "start_time": "2021-07-05T14:22:08.763Z"
   },
   {
    "duration": 66,
    "start_time": "2021-07-05T14:22:09.347Z"
   },
   {
    "duration": 265,
    "start_time": "2021-07-05T14:22:24.859Z"
   },
   {
    "duration": 23,
    "start_time": "2021-07-05T14:22:45.245Z"
   },
   {
    "duration": 7,
    "start_time": "2021-07-05T14:22:45.795Z"
   },
   {
    "duration": 294,
    "start_time": "2021-07-05T14:22:47.251Z"
   },
   {
    "duration": 253,
    "start_time": "2021-07-05T14:23:17.851Z"
   },
   {
    "duration": 54,
    "start_time": "2021-07-05T14:23:43.963Z"
   },
   {
    "duration": 28,
    "start_time": "2021-07-05T14:23:55.172Z"
   },
   {
    "duration": 5,
    "start_time": "2021-07-05T14:24:10.367Z"
   },
   {
    "duration": 5,
    "start_time": "2021-07-05T14:24:15.579Z"
   },
   {
    "duration": 5,
    "start_time": "2021-07-05T14:24:26.947Z"
   },
   {
    "duration": 10,
    "start_time": "2021-07-05T14:24:34.523Z"
   },
   {
    "duration": 220,
    "start_time": "2021-07-05T14:25:28.899Z"
   },
   {
    "duration": 6,
    "start_time": "2021-07-05T14:25:45.155Z"
   },
   {
    "duration": 5,
    "start_time": "2021-07-05T14:26:12.739Z"
   },
   {
    "duration": 43,
    "start_time": "2021-07-05T14:27:06.468Z"
   },
   {
    "duration": 9,
    "start_time": "2021-07-05T14:27:15.006Z"
   },
   {
    "duration": 7,
    "start_time": "2021-07-05T14:27:36.003Z"
   },
   {
    "duration": 5,
    "start_time": "2021-07-05T14:27:59.316Z"
   },
   {
    "duration": 6,
    "start_time": "2021-07-05T14:28:15.386Z"
   },
   {
    "duration": 5,
    "start_time": "2021-07-05T14:28:32.507Z"
   },
   {
    "duration": 10,
    "start_time": "2021-07-05T14:29:16.389Z"
   },
   {
    "duration": 8,
    "start_time": "2021-07-05T14:29:22.811Z"
   },
   {
    "duration": 11,
    "start_time": "2021-07-05T14:30:01.084Z"
   },
   {
    "duration": 6,
    "start_time": "2021-07-05T14:30:01.771Z"
   },
   {
    "duration": 66,
    "start_time": "2021-07-05T14:30:06.139Z"
   },
   {
    "duration": 6,
    "start_time": "2021-07-05T14:30:06.619Z"
   },
   {
    "duration": 6,
    "start_time": "2021-07-05T14:30:08.611Z"
   },
   {
    "duration": 5,
    "start_time": "2021-07-05T14:30:09.267Z"
   },
   {
    "duration": 5,
    "start_time": "2021-07-05T14:30:25.579Z"
   },
   {
    "duration": 66,
    "start_time": "2021-07-05T14:30:35.730Z"
   },
   {
    "duration": 6,
    "start_time": "2021-07-05T14:30:36.227Z"
   },
   {
    "duration": 6,
    "start_time": "2021-07-05T14:30:36.876Z"
   },
   {
    "duration": 5,
    "start_time": "2021-07-05T14:30:37.450Z"
   },
   {
    "duration": 5,
    "start_time": "2021-07-05T14:30:38.075Z"
   },
   {
    "duration": 5,
    "start_time": "2021-07-05T14:31:19.015Z"
   },
   {
    "duration": 9,
    "start_time": "2021-07-05T14:31:30.243Z"
   },
   {
    "duration": 5,
    "start_time": "2021-07-05T14:31:38.548Z"
   },
   {
    "duration": 64,
    "start_time": "2021-07-05T14:31:41.788Z"
   },
   {
    "duration": 6,
    "start_time": "2021-07-05T14:32:47.059Z"
   },
   {
    "duration": 50,
    "start_time": "2021-07-05T14:33:19.811Z"
   },
   {
    "duration": 6,
    "start_time": "2021-07-05T14:33:20.867Z"
   },
   {
    "duration": 6,
    "start_time": "2021-07-05T14:33:24.941Z"
   },
   {
    "duration": 5,
    "start_time": "2021-07-05T14:33:25.851Z"
   },
   {
    "duration": 6,
    "start_time": "2021-07-05T14:33:26.723Z"
   },
   {
    "duration": 52,
    "start_time": "2021-07-05T14:33:52.076Z"
   },
   {
    "duration": 54,
    "start_time": "2021-07-05T14:34:52.952Z"
   },
   {
    "duration": 55,
    "start_time": "2021-07-05T14:35:07.348Z"
   },
   {
    "duration": 53,
    "start_time": "2021-07-05T14:35:11.676Z"
   },
   {
    "duration": 19,
    "start_time": "2021-07-05T14:35:43.171Z"
   },
   {
    "duration": 4,
    "start_time": "2021-07-05T14:35:50.372Z"
   },
   {
    "duration": 1077,
    "start_time": "2021-07-05T14:35:50.379Z"
   },
   {
    "duration": 10,
    "start_time": "2021-07-05T14:35:51.459Z"
   },
   {
    "duration": 1838,
    "start_time": "2021-07-05T14:35:51.472Z"
   },
   {
    "duration": 334,
    "start_time": "2021-07-05T14:35:53.313Z"
   },
   {
    "duration": 15,
    "start_time": "2021-07-05T14:35:53.654Z"
   },
   {
    "duration": 38,
    "start_time": "2021-07-05T14:35:53.672Z"
   },
   {
    "duration": 104,
    "start_time": "2021-07-05T14:35:53.714Z"
   },
   {
    "duration": 4,
    "start_time": "2021-07-05T14:35:53.820Z"
   },
   {
    "duration": 37,
    "start_time": "2021-07-05T14:35:53.827Z"
   },
   {
    "duration": 20,
    "start_time": "2021-07-05T14:35:53.867Z"
   },
   {
    "duration": 32,
    "start_time": "2021-07-05T14:35:53.890Z"
   },
   {
    "duration": 46,
    "start_time": "2021-07-05T14:35:53.925Z"
   },
   {
    "duration": 8089,
    "start_time": "2021-07-05T14:35:53.973Z"
   },
   {
    "duration": 819,
    "start_time": "2021-07-05T14:36:02.064Z"
   },
   {
    "duration": 70,
    "start_time": "2021-07-05T14:36:02.886Z"
   },
   {
    "duration": 2682,
    "start_time": "2021-07-05T14:36:02.958Z"
   },
   {
    "duration": 18,
    "start_time": "2021-07-05T14:36:05.643Z"
   },
   {
    "duration": 14,
    "start_time": "2021-07-05T14:36:05.667Z"
   },
   {
    "duration": 18,
    "start_time": "2021-07-05T14:36:05.684Z"
   },
   {
    "duration": 15,
    "start_time": "2021-07-05T14:36:05.705Z"
   },
   {
    "duration": 58,
    "start_time": "2021-07-05T14:36:05.722Z"
   },
   {
    "duration": 6,
    "start_time": "2021-07-05T14:36:12.635Z"
   },
   {
    "duration": 16,
    "start_time": "2021-07-05T14:36:44.892Z"
   },
   {
    "duration": 271,
    "start_time": "2021-07-05T14:37:05.059Z"
   },
   {
    "duration": 5,
    "start_time": "2021-07-05T14:37:11.421Z"
   },
   {
    "duration": 1119,
    "start_time": "2021-07-05T14:37:11.429Z"
   },
   {
    "duration": 10,
    "start_time": "2021-07-05T14:37:12.554Z"
   },
   {
    "duration": 2010,
    "start_time": "2021-07-05T14:37:12.567Z"
   },
   {
    "duration": 325,
    "start_time": "2021-07-05T14:37:14.580Z"
   },
   {
    "duration": 15,
    "start_time": "2021-07-05T14:37:14.907Z"
   },
   {
    "duration": 9,
    "start_time": "2021-07-05T14:37:14.925Z"
   },
   {
    "duration": 77,
    "start_time": "2021-07-05T14:37:14.956Z"
   },
   {
    "duration": 4,
    "start_time": "2021-07-05T14:37:15.055Z"
   },
   {
    "duration": 30,
    "start_time": "2021-07-05T14:37:15.061Z"
   },
   {
    "duration": 14,
    "start_time": "2021-07-05T14:37:15.093Z"
   },
   {
    "duration": 22,
    "start_time": "2021-07-05T14:37:15.110Z"
   },
   {
    "duration": 39,
    "start_time": "2021-07-05T14:37:15.135Z"
   },
   {
    "duration": 7844,
    "start_time": "2021-07-05T14:37:15.177Z"
   },
   {
    "duration": 587,
    "start_time": "2021-07-05T14:37:23.024Z"
   },
   {
    "duration": 52,
    "start_time": "2021-07-05T14:37:23.614Z"
   },
   {
    "duration": 2449,
    "start_time": "2021-07-05T14:37:23.669Z"
   },
   {
    "duration": 9,
    "start_time": "2021-07-05T14:37:26.122Z"
   },
   {
    "duration": 9,
    "start_time": "2021-07-05T14:37:26.156Z"
   },
   {
    "duration": 11,
    "start_time": "2021-07-05T14:37:26.169Z"
   },
   {
    "duration": 6,
    "start_time": "2021-07-05T14:37:26.183Z"
   },
   {
    "duration": 89,
    "start_time": "2021-07-05T14:37:26.192Z"
   },
   {
    "duration": 43,
    "start_time": "2021-07-05T14:37:36.964Z"
   },
   {
    "duration": 16,
    "start_time": "2021-07-05T14:37:38.876Z"
   },
   {
    "duration": 4,
    "start_time": "2021-07-05T14:38:45.524Z"
   },
   {
    "duration": 34,
    "start_time": "2021-07-05T14:40:35.756Z"
   },
   {
    "duration": 5,
    "start_time": "2021-07-05T14:40:40.725Z"
   },
   {
    "duration": 1030,
    "start_time": "2021-07-05T14:40:40.733Z"
   },
   {
    "duration": 11,
    "start_time": "2021-07-05T14:40:41.767Z"
   },
   {
    "duration": 1883,
    "start_time": "2021-07-05T14:40:41.781Z"
   },
   {
    "duration": 348,
    "start_time": "2021-07-05T14:40:43.667Z"
   },
   {
    "duration": 17,
    "start_time": "2021-07-05T14:40:44.018Z"
   },
   {
    "duration": 8,
    "start_time": "2021-07-05T14:40:44.056Z"
   },
   {
    "duration": 88,
    "start_time": "2021-07-05T14:40:44.066Z"
   },
   {
    "duration": 8379,
    "start_time": "2021-07-05T14:40:44.157Z"
   },
   {
    "duration": 594,
    "start_time": "2021-07-05T14:40:52.538Z"
   },
   {
    "duration": 49,
    "start_time": "2021-07-05T14:40:53.135Z"
   },
   {
    "duration": 2895,
    "start_time": "2021-07-05T14:40:53.187Z"
   },
   {
    "duration": 9,
    "start_time": "2021-07-05T14:40:56.084Z"
   },
   {
    "duration": 21,
    "start_time": "2021-07-05T14:40:56.095Z"
   },
   {
    "duration": 37,
    "start_time": "2021-07-05T14:40:56.118Z"
   },
   {
    "duration": 5,
    "start_time": "2021-07-05T14:40:56.158Z"
   },
   {
    "duration": 52,
    "start_time": "2021-07-05T14:40:56.165Z"
   },
   {
    "duration": 41,
    "start_time": "2021-07-05T14:40:56.219Z"
   },
   {
    "duration": 4,
    "start_time": "2021-07-05T14:40:56.264Z"
   },
   {
    "duration": 37,
    "start_time": "2021-07-05T14:40:56.270Z"
   },
   {
    "duration": 36,
    "start_time": "2021-07-05T14:41:14.347Z"
   },
   {
    "duration": 6,
    "start_time": "2021-07-05T14:50:58.173Z"
   },
   {
    "duration": 4,
    "start_time": "2021-07-05T14:56:11.325Z"
   },
   {
    "duration": 53,
    "start_time": "2021-07-05T15:02:40.157Z"
   },
   {
    "duration": 23,
    "start_time": "2021-07-05T15:10:03.526Z"
   },
   {
    "duration": 21,
    "start_time": "2021-07-05T15:10:21.830Z"
   },
   {
    "duration": 6,
    "start_time": "2021-07-05T15:20:54.319Z"
   },
   {
    "duration": 89,
    "start_time": "2021-07-05T15:24:25.127Z"
   },
   {
    "duration": 5,
    "start_time": "2021-07-05T15:24:30.743Z"
   },
   {
    "duration": 5,
    "start_time": "2021-07-05T15:32:40.991Z"
   },
   {
    "duration": 7,
    "start_time": "2021-07-05T15:40:08.256Z"
   },
   {
    "duration": 425,
    "start_time": "2021-07-05T15:40:19.439Z"
   },
   {
    "duration": 18538,
    "start_time": "2021-07-05T15:40:31.543Z"
   },
   {
    "duration": 95443,
    "start_time": "2021-07-05T15:41:45.169Z"
   },
   {
    "duration": 5,
    "start_time": "2021-07-05T15:45:26.975Z"
   },
   {
    "duration": 15912,
    "start_time": "2021-07-05T15:51:16.904Z"
   },
   {
    "duration": 1397,
    "start_time": "2021-07-05T15:51:58.361Z"
   },
   {
    "duration": 959,
    "start_time": "2021-07-05T15:52:22.712Z"
   },
   {
    "duration": 15174,
    "start_time": "2021-07-05T15:52:28.280Z"
   },
   {
    "duration": 2748,
    "start_time": "2021-07-05T15:54:38.113Z"
   },
   {
    "duration": 44341,
    "start_time": "2021-07-05T15:54:40.963Z"
   },
   {
    "duration": 7,
    "start_time": "2021-07-05T16:06:44.194Z"
   },
   {
    "duration": 1112,
    "start_time": "2021-07-06T08:52:41.566Z"
   },
   {
    "duration": 15,
    "start_time": "2021-07-06T08:56:20.639Z"
   },
   {
    "duration": 764,
    "start_time": "2021-07-06T08:56:23.920Z"
   },
   {
    "duration": 7,
    "start_time": "2021-07-06T08:56:28.501Z"
   },
   {
    "duration": 633,
    "start_time": "2021-07-06T08:56:29.925Z"
   },
   {
    "duration": 543,
    "start_time": "2021-07-06T08:56:35.642Z"
   },
   {
    "duration": 11,
    "start_time": "2021-07-06T08:56:39.652Z"
   },
   {
    "duration": 5,
    "start_time": "2021-07-06T08:56:42.989Z"
   },
   {
    "duration": 58,
    "start_time": "2021-07-06T08:56:51.261Z"
   },
   {
    "duration": 4392,
    "start_time": "2021-07-06T08:57:03.157Z"
   },
   {
    "duration": 301,
    "start_time": "2021-07-06T08:57:12.621Z"
   },
   {
    "duration": 36,
    "start_time": "2021-07-06T08:57:15.900Z"
   },
   {
    "duration": 1194,
    "start_time": "2021-07-06T08:57:17.452Z"
   },
   {
    "duration": 6,
    "start_time": "2021-07-06T08:57:21.430Z"
   },
   {
    "duration": 6,
    "start_time": "2021-07-06T08:57:22.324Z"
   },
   {
    "duration": 7,
    "start_time": "2021-07-06T08:57:23.220Z"
   },
   {
    "duration": 4,
    "start_time": "2021-07-06T08:57:29.845Z"
   },
   {
    "duration": 22,
    "start_time": "2021-07-06T08:57:31.149Z"
   },
   {
    "duration": 10,
    "start_time": "2021-07-06T08:57:39.989Z"
   },
   {
    "duration": 3,
    "start_time": "2021-07-06T08:57:45.068Z"
   },
   {
    "duration": 18,
    "start_time": "2021-07-06T08:57:56.469Z"
   },
   {
    "duration": 11,
    "start_time": "2021-07-06T09:03:24.158Z"
   },
   {
    "duration": 18949,
    "start_time": "2021-07-06T09:05:03.894Z"
   },
   {
    "duration": 7001,
    "start_time": "2021-07-06T09:05:33.656Z"
   },
   {
    "duration": 405,
    "start_time": "2021-07-06T09:06:11.365Z"
   },
   {
    "duration": 3,
    "start_time": "2021-07-06T09:06:16.325Z"
   },
   {
    "duration": 8,
    "start_time": "2021-07-06T09:06:17.101Z"
   },
   {
    "duration": 2060,
    "start_time": "2021-07-06T09:06:17.621Z"
   },
   {
    "duration": 6,
    "start_time": "2021-07-06T09:07:03.477Z"
   },
   {
    "duration": 4,
    "start_time": "2021-07-06T09:07:10.205Z"
   },
   {
    "duration": 4,
    "start_time": "2021-07-06T09:07:34.910Z"
   },
   {
    "duration": 3,
    "start_time": "2021-07-06T09:08:06.214Z"
   },
   {
    "duration": 7,
    "start_time": "2021-07-06T09:08:06.605Z"
   },
   {
    "duration": 1948,
    "start_time": "2021-07-06T09:08:07.133Z"
   },
   {
    "duration": 3,
    "start_time": "2021-07-06T09:09:51.477Z"
   },
   {
    "duration": 11,
    "start_time": "2021-07-06T09:09:51.965Z"
   },
   {
    "duration": 3,
    "start_time": "2021-07-06T09:10:03.318Z"
   },
   {
    "duration": 8,
    "start_time": "2021-07-06T09:10:04.565Z"
   },
   {
    "duration": 1893,
    "start_time": "2021-07-06T09:10:05.191Z"
   },
   {
    "duration": 3,
    "start_time": "2021-07-06T09:12:34.830Z"
   },
   {
    "duration": 9,
    "start_time": "2021-07-06T09:12:35.373Z"
   },
   {
    "duration": 1880,
    "start_time": "2021-07-06T09:12:35.983Z"
   },
   {
    "duration": 3,
    "start_time": "2021-07-06T09:13:11.141Z"
   },
   {
    "duration": 21,
    "start_time": "2021-07-06T09:16:06.174Z"
   },
   {
    "duration": 3,
    "start_time": "2021-07-06T09:16:07.053Z"
   },
   {
    "duration": 3,
    "start_time": "2021-07-06T09:16:14.596Z"
   },
   {
    "duration": 243,
    "start_time": "2021-07-06T09:16:19.022Z"
   },
   {
    "duration": 16,
    "start_time": "2021-07-06T09:16:37.477Z"
   },
   {
    "duration": 233,
    "start_time": "2021-07-06T09:16:39.165Z"
   },
   {
    "duration": 24,
    "start_time": "2021-07-06T09:16:47.261Z"
   },
   {
    "duration": 16,
    "start_time": "2021-07-06T09:17:01.600Z"
   },
   {
    "duration": 21,
    "start_time": "2021-07-06T09:17:02.544Z"
   },
   {
    "duration": 16,
    "start_time": "2021-07-06T09:17:11.846Z"
   },
   {
    "duration": 5,
    "start_time": "2021-07-06T09:17:16.951Z"
   },
   {
    "duration": 18,
    "start_time": "2021-07-06T09:17:36.215Z"
   },
   {
    "duration": 3,
    "start_time": "2021-07-06T09:17:42.237Z"
   },
   {
    "duration": 10,
    "start_time": "2021-07-06T09:17:42.870Z"
   },
   {
    "duration": 1870,
    "start_time": "2021-07-06T09:17:43.984Z"
   },
   {
    "duration": 5,
    "start_time": "2021-07-06T09:20:39.519Z"
   },
   {
    "duration": 4,
    "start_time": "2021-07-06T09:34:30.624Z"
   },
   {
    "duration": 77,
    "start_time": "2021-07-06T09:34:31.224Z"
   },
   {
    "duration": 557,
    "start_time": "2021-07-06T09:35:06.519Z"
   },
   {
    "duration": 243,
    "start_time": "2021-07-06T09:35:45.743Z"
   },
   {
    "duration": 233,
    "start_time": "2021-07-06T09:36:33.264Z"
   },
   {
    "duration": 4,
    "start_time": "2021-07-06T09:37:43.233Z"
   },
   {
    "duration": 4,
    "start_time": "2021-07-06T09:38:44.231Z"
   },
   {
    "duration": 4,
    "start_time": "2021-07-06T09:42:10.320Z"
   },
   {
    "duration": 3,
    "start_time": "2021-07-06T09:43:21.927Z"
   },
   {
    "duration": 3,
    "start_time": "2021-07-06T09:43:36.519Z"
   },
   {
    "duration": 10275,
    "start_time": "2021-07-06T09:44:14.927Z"
   },
   {
    "duration": 27,
    "start_time": "2021-07-06T09:44:54.832Z"
   },
   {
    "duration": 5,
    "start_time": "2021-07-06T09:45:00.007Z"
   },
   {
    "duration": 5,
    "start_time": "2021-07-06T09:45:03.416Z"
   },
   {
    "duration": 7,
    "start_time": "2021-07-06T09:45:26.831Z"
   },
   {
    "duration": 4,
    "start_time": "2021-07-06T09:47:07.040Z"
   },
   {
    "duration": 6,
    "start_time": "2021-07-06T09:47:10.136Z"
   },
   {
    "duration": 3,
    "start_time": "2021-07-06T09:47:16.392Z"
   },
   {
    "duration": 4,
    "start_time": "2021-07-06T09:47:17.392Z"
   },
   {
    "duration": 3,
    "start_time": "2021-07-06T09:47:18.271Z"
   },
   {
    "duration": 10451,
    "start_time": "2021-07-06T09:47:19.536Z"
   },
   {
    "duration": 4,
    "start_time": "2021-07-06T09:48:26.359Z"
   },
   {
    "duration": 3,
    "start_time": "2021-07-06T09:48:26.664Z"
   },
   {
    "duration": 3,
    "start_time": "2021-07-06T09:48:28.440Z"
   },
   {
    "duration": 32219,
    "start_time": "2021-07-06T09:48:29.041Z"
   },
   {
    "duration": 5,
    "start_time": "2021-07-06T09:51:49.689Z"
   },
   {
    "duration": 3,
    "start_time": "2021-07-06T09:51:51.632Z"
   },
   {
    "duration": 32376,
    "start_time": "2021-07-06T09:51:52.554Z"
   },
   {
    "duration": 4,
    "start_time": "2021-07-06T09:52:57.400Z"
   },
   {
    "duration": 2,
    "start_time": "2021-07-06T09:52:58.280Z"
   },
   {
    "duration": 49084,
    "start_time": "2021-07-06T09:52:59.242Z"
   },
   {
    "duration": 4,
    "start_time": "2021-07-06T09:55:46.345Z"
   },
   {
    "duration": 4,
    "start_time": "2021-07-06T09:56:13.674Z"
   },
   {
    "duration": 237,
    "start_time": "2021-07-06T10:00:08.561Z"
   },
   {
    "duration": 8,
    "start_time": "2021-07-06T10:00:35.592Z"
   },
   {
    "duration": 228,
    "start_time": "2021-07-06T10:02:57.937Z"
   },
   {
    "duration": 47,
    "start_time": "2021-07-06T10:03:29.010Z"
   },
   {
    "duration": 79,
    "start_time": "2021-07-06T10:03:58.034Z"
   },
   {
    "duration": 80,
    "start_time": "2021-07-06T10:05:05.074Z"
   },
   {
    "duration": 25,
    "start_time": "2021-07-06T10:07:12.673Z"
   },
   {
    "duration": 7,
    "start_time": "2021-07-06T10:07:20.793Z"
   },
   {
    "duration": 281,
    "start_time": "2021-07-06T10:07:57.777Z"
   },
   {
    "duration": 7,
    "start_time": "2021-07-06T10:08:02.138Z"
   },
   {
    "duration": 7,
    "start_time": "2021-07-06T10:08:15.258Z"
   },
   {
    "duration": 7,
    "start_time": "2021-07-06T10:08:22.857Z"
   },
   {
    "duration": 248,
    "start_time": "2021-07-06T10:08:39.690Z"
   },
   {
    "duration": 5,
    "start_time": "2021-07-06T10:08:53.425Z"
   },
   {
    "duration": 8,
    "start_time": "2021-07-06T10:08:56.296Z"
   },
   {
    "duration": 7,
    "start_time": "2021-07-06T10:09:09.969Z"
   },
   {
    "duration": 7,
    "start_time": "2021-07-06T10:09:23.010Z"
   },
   {
    "duration": 7,
    "start_time": "2021-07-06T10:09:27.289Z"
   },
   {
    "duration": 8,
    "start_time": "2021-07-06T10:10:03.070Z"
   },
   {
    "duration": 1001,
    "start_time": "2021-07-06T10:11:57.889Z"
   },
   {
    "duration": 241,
    "start_time": "2021-07-06T10:13:21.594Z"
   },
   {
    "duration": 1065,
    "start_time": "2021-07-06T10:13:30.026Z"
   },
   {
    "duration": 85,
    "start_time": "2021-07-06T10:15:18.906Z"
   },
   {
    "duration": 8,
    "start_time": "2021-07-06T10:15:24.994Z"
   },
   {
    "duration": 45,
    "start_time": "2021-07-06T10:15:50.227Z"
   },
   {
    "duration": 82,
    "start_time": "2021-07-06T10:16:43.794Z"
   },
   {
    "duration": 244,
    "start_time": "2021-07-06T10:17:00.529Z"
   },
   {
    "duration": 224,
    "start_time": "2021-07-06T10:18:37.498Z"
   },
   {
    "duration": 302,
    "start_time": "2021-07-06T10:18:50.474Z"
   },
   {
    "duration": 7,
    "start_time": "2021-07-06T10:19:32.290Z"
   },
   {
    "duration": 266,
    "start_time": "2021-07-06T10:20:41.786Z"
   },
   {
    "duration": 79,
    "start_time": "2021-07-06T10:20:45.717Z"
   },
   {
    "duration": 24,
    "start_time": "2021-07-06T10:20:52.476Z"
   },
   {
    "duration": 7,
    "start_time": "2021-07-06T10:20:59.618Z"
   },
   {
    "duration": 7,
    "start_time": "2021-07-06T10:21:10.641Z"
   },
   {
    "duration": 7,
    "start_time": "2021-07-06T10:21:29.587Z"
   },
   {
    "duration": 7,
    "start_time": "2021-07-06T10:21:37.210Z"
   },
   {
    "duration": 7,
    "start_time": "2021-07-06T10:21:51.355Z"
   },
   {
    "duration": 280,
    "start_time": "2021-07-06T10:24:05.267Z"
   },
   {
    "duration": 912,
    "start_time": "2021-07-06T10:24:41.962Z"
   },
   {
    "duration": 5,
    "start_time": "2021-07-06T10:25:37.979Z"
   },
   {
    "duration": 80,
    "start_time": "2021-07-06T10:25:44.250Z"
   },
   {
    "duration": 50900,
    "start_time": "2021-07-06T10:28:54.307Z"
   },
   {
    "duration": 50890,
    "start_time": "2021-07-06T10:55:03.546Z"
   },
   {
    "duration": 217,
    "start_time": "2021-07-06T11:07:12.495Z"
   },
   {
    "duration": 55061,
    "start_time": "2021-07-06T11:07:28.487Z"
   },
   {
    "duration": 6,
    "start_time": "2021-07-06T11:08:34.254Z"
   },
   {
    "duration": 7,
    "start_time": "2021-07-06T11:09:34.471Z"
   },
   {
    "duration": 6,
    "start_time": "2021-07-06T11:10:14.335Z"
   },
   {
    "duration": 6,
    "start_time": "2021-07-06T11:10:25.894Z"
   },
   {
    "duration": 6,
    "start_time": "2021-07-06T11:10:36.032Z"
   },
   {
    "duration": 4,
    "start_time": "2021-07-06T11:12:53.423Z"
   },
   {
    "duration": 4,
    "start_time": "2021-07-06T11:13:54.383Z"
   },
   {
    "duration": 797,
    "start_time": "2021-07-06T11:14:19.579Z"
   },
   {
    "duration": 7,
    "start_time": "2021-07-06T11:14:56.425Z"
   },
   {
    "duration": 1023,
    "start_time": "2021-07-06T11:15:53.383Z"
   },
   {
    "duration": 156,
    "start_time": "2021-07-06T11:16:27.051Z"
   },
   {
    "duration": 10,
    "start_time": "2021-07-06T11:17:53.059Z"
   },
   {
    "duration": 80,
    "start_time": "2021-07-06T11:19:39.960Z"
   },
   {
    "duration": 6,
    "start_time": "2021-07-06T11:19:47.665Z"
   },
   {
    "duration": 7,
    "start_time": "2021-07-06T11:19:57.423Z"
   },
   {
    "duration": 5,
    "start_time": "2021-07-06T11:22:06.062Z"
   },
   {
    "duration": 51,
    "start_time": "2021-07-06T11:26:29.828Z"
   },
   {
    "duration": 4457,
    "start_time": "2021-07-06T11:40:55.891Z"
   },
   {
    "duration": 306,
    "start_time": "2021-07-06T11:42:09.457Z"
   },
   {
    "duration": 35,
    "start_time": "2021-07-06T11:44:20.928Z"
   },
   {
    "duration": 1441,
    "start_time": "2021-07-06T11:45:31.073Z"
   },
   {
    "duration": 1280,
    "start_time": "2021-07-06T11:45:51.343Z"
   },
   {
    "duration": 24,
    "start_time": "2021-07-06T11:47:10.567Z"
   },
   {
    "duration": 24,
    "start_time": "2021-07-06T11:50:13.832Z"
   },
   {
    "duration": 23,
    "start_time": "2021-07-06T11:50:40.511Z"
   },
   {
    "duration": 247,
    "start_time": "2021-07-06T11:50:49.399Z"
   },
   {
    "duration": 245,
    "start_time": "2021-07-06T11:51:22.616Z"
   },
   {
    "duration": 23,
    "start_time": "2021-07-06T11:51:32.463Z"
   },
   {
    "duration": 11,
    "start_time": "2021-07-06T11:56:10.623Z"
   },
   {
    "duration": 4,
    "start_time": "2021-07-06T12:17:50.460Z"
   },
   {
    "duration": 4,
    "start_time": "2021-07-06T12:17:59.963Z"
   },
   {
    "duration": 3,
    "start_time": "2021-07-06T12:23:02.332Z"
   },
   {
    "duration": 4,
    "start_time": "2021-07-06T12:23:03.867Z"
   },
   {
    "duration": 21,
    "start_time": "2021-07-06T12:23:05.868Z"
   },
   {
    "duration": 50847,
    "start_time": "2021-07-06T12:23:08.468Z"
   },
   {
    "duration": 49779,
    "start_time": "2021-07-06T12:23:59.317Z"
   },
   {
    "duration": 55286,
    "start_time": "2021-07-06T12:28:27.773Z"
   },
   {
    "duration": 122995,
    "start_time": "2021-07-06T12:33:36.470Z"
   },
   {
    "duration": 1133,
    "start_time": "2021-07-06T12:44:55.655Z"
   },
   {
    "duration": 766,
    "start_time": "2021-07-06T12:44:56.791Z"
   },
   {
    "duration": 6,
    "start_time": "2021-07-06T12:44:57.559Z"
   },
   {
    "duration": 653,
    "start_time": "2021-07-06T12:44:57.567Z"
   },
   {
    "duration": 534,
    "start_time": "2021-07-06T12:44:58.221Z"
   },
   {
    "duration": 326,
    "start_time": "2021-07-06T12:44:58.757Z"
   },
   {
    "duration": 77,
    "start_time": "2021-07-06T12:44:59.008Z"
   },
   {
    "duration": 72,
    "start_time": "2021-07-06T12:44:59.014Z"
   },
   {
    "duration": 63,
    "start_time": "2021-07-06T12:44:59.024Z"
   },
   {
    "duration": 58,
    "start_time": "2021-07-06T12:44:59.030Z"
   },
   {
    "duration": 56,
    "start_time": "2021-07-06T12:44:59.033Z"
   },
   {
    "duration": 50,
    "start_time": "2021-07-06T12:44:59.040Z"
   },
   {
    "duration": 47,
    "start_time": "2021-07-06T12:44:59.044Z"
   },
   {
    "duration": 43,
    "start_time": "2021-07-06T12:44:59.049Z"
   },
   {
    "duration": 36,
    "start_time": "2021-07-06T12:44:59.056Z"
   },
   {
    "duration": 31,
    "start_time": "2021-07-06T12:44:59.062Z"
   },
   {
    "duration": 27,
    "start_time": "2021-07-06T12:44:59.067Z"
   },
   {
    "duration": 22,
    "start_time": "2021-07-06T12:44:59.073Z"
   },
   {
    "duration": 19,
    "start_time": "2021-07-06T12:44:59.077Z"
   },
   {
    "duration": 15,
    "start_time": "2021-07-06T12:44:59.082Z"
   },
   {
    "duration": 13,
    "start_time": "2021-07-06T12:44:59.085Z"
   },
   {
    "duration": 91901,
    "start_time": "2021-07-06T20:50:59.789Z"
   },
   {
    "duration": 1129,
    "start_time": "2021-07-06T20:52:31.692Z"
   },
   {
    "duration": 12,
    "start_time": "2021-07-06T20:52:32.855Z"
   },
   {
    "duration": 1152,
    "start_time": "2021-07-06T20:52:32.870Z"
   },
   {
    "duration": 496,
    "start_time": "2021-07-06T20:52:34.025Z"
   },
   {
    "duration": 411,
    "start_time": "2021-07-06T20:52:34.523Z"
   },
   {
    "duration": -466,
    "start_time": "2021-07-06T20:52:35.403Z"
   },
   {
    "duration": -467,
    "start_time": "2021-07-06T20:52:35.406Z"
   },
   {
    "duration": -468,
    "start_time": "2021-07-06T20:52:35.408Z"
   },
   {
    "duration": -472,
    "start_time": "2021-07-06T20:52:35.413Z"
   },
   {
    "duration": -474,
    "start_time": "2021-07-06T20:52:35.417Z"
   },
   {
    "duration": -475,
    "start_time": "2021-07-06T20:52:35.420Z"
   },
   {
    "duration": -475,
    "start_time": "2021-07-06T20:52:35.422Z"
   },
   {
    "duration": -477,
    "start_time": "2021-07-06T20:52:35.425Z"
   },
   {
    "duration": -478,
    "start_time": "2021-07-06T20:52:35.427Z"
   },
   {
    "duration": -480,
    "start_time": "2021-07-06T20:52:35.431Z"
   },
   {
    "duration": -497,
    "start_time": "2021-07-06T20:52:35.450Z"
   },
   {
    "duration": -499,
    "start_time": "2021-07-06T20:52:35.454Z"
   },
   {
    "duration": -500,
    "start_time": "2021-07-06T20:52:35.457Z"
   },
   {
    "duration": -513,
    "start_time": "2021-07-06T20:52:35.473Z"
   },
   {
    "duration": -514,
    "start_time": "2021-07-06T20:52:35.476Z"
   },
   {
    "duration": 95907,
    "start_time": "2021-07-07T12:15:20.379Z"
   },
   {
    "duration": 7527,
    "start_time": "2021-07-07T12:16:56.289Z"
   },
   {
    "duration": 35,
    "start_time": "2021-07-07T12:17:03.820Z"
   },
   {
    "duration": 1200,
    "start_time": "2021-07-07T12:17:03.858Z"
   },
   {
    "duration": 517,
    "start_time": "2021-07-07T12:17:05.061Z"
   },
   {
    "duration": 412,
    "start_time": "2021-07-07T12:17:05.580Z"
   },
   {
    "duration": -40,
    "start_time": "2021-07-07T12:17:06.035Z"
   },
   {
    "duration": -42,
    "start_time": "2021-07-07T12:17:06.038Z"
   },
   {
    "duration": -43,
    "start_time": "2021-07-07T12:17:06.041Z"
   },
   {
    "duration": -44,
    "start_time": "2021-07-07T12:17:06.043Z"
   },
   {
    "duration": -45,
    "start_time": "2021-07-07T12:17:06.046Z"
   },
   {
    "duration": -48,
    "start_time": "2021-07-07T12:17:06.050Z"
   },
   {
    "duration": -49,
    "start_time": "2021-07-07T12:17:06.053Z"
   },
   {
    "duration": -50,
    "start_time": "2021-07-07T12:17:06.055Z"
   },
   {
    "duration": -50,
    "start_time": "2021-07-07T12:17:06.057Z"
   },
   {
    "duration": -55,
    "start_time": "2021-07-07T12:17:06.063Z"
   },
   {
    "duration": -57,
    "start_time": "2021-07-07T12:17:06.066Z"
   },
   {
    "duration": -57,
    "start_time": "2021-07-07T12:17:06.068Z"
   },
   {
    "duration": -60,
    "start_time": "2021-07-07T12:17:06.072Z"
   },
   {
    "duration": -62,
    "start_time": "2021-07-07T12:17:06.075Z"
   },
   {
    "duration": -63,
    "start_time": "2021-07-07T12:17:06.078Z"
   },
   {
    "duration": 1586,
    "start_time": "2021-07-07T13:26:15.589Z"
   },
   {
    "duration": 1081,
    "start_time": "2021-07-07T13:26:20.220Z"
   },
   {
    "duration": 13,
    "start_time": "2021-07-07T13:26:29.961Z"
   },
   {
    "duration": 1168,
    "start_time": "2021-07-07T13:26:31.705Z"
   },
   {
    "duration": 1086,
    "start_time": "2021-07-07T13:27:54.329Z"
   },
   {
    "duration": 999,
    "start_time": "2021-07-07T13:27:57.046Z"
   },
   {
    "duration": 421,
    "start_time": "2021-07-07T13:28:21.746Z"
   },
   {
    "duration": 9076,
    "start_time": "2021-07-07T13:28:57.107Z"
   },
   {
    "duration": 1071,
    "start_time": "2021-07-07T13:31:15.325Z"
   },
   {
    "duration": 5,
    "start_time": "2021-07-07T13:35:59.796Z"
   },
   {
    "duration": 33,
    "start_time": "2021-07-07T13:36:11.962Z"
   },
   {
    "duration": 6,
    "start_time": "2021-07-07T13:36:43.923Z"
   },
   {
    "duration": 38,
    "start_time": "2021-07-07T13:36:57.914Z"
   },
   {
    "duration": 7,
    "start_time": "2021-07-07T13:37:59.771Z"
   },
   {
    "duration": 9,
    "start_time": "2021-07-07T13:39:24.307Z"
   },
   {
    "duration": 12,
    "start_time": "2021-07-07T13:39:48.626Z"
   },
   {
    "duration": 8,
    "start_time": "2021-07-07T13:39:56.474Z"
   },
   {
    "duration": 10,
    "start_time": "2021-07-07T13:40:30.402Z"
   },
   {
    "duration": 8,
    "start_time": "2021-07-07T13:40:37.674Z"
   },
   {
    "duration": 6,
    "start_time": "2021-07-07T13:42:33.274Z"
   },
   {
    "duration": 548,
    "start_time": "2021-07-07T13:43:08.186Z"
   },
   {
    "duration": 469,
    "start_time": "2021-07-07T13:45:07.947Z"
   },
   {
    "duration": 469,
    "start_time": "2021-07-07T13:45:13.763Z"
   },
   {
    "duration": 9,
    "start_time": "2021-07-07T13:45:52.029Z"
   },
   {
    "duration": 7,
    "start_time": "2021-07-07T13:46:02.347Z"
   },
   {
    "duration": 83,
    "start_time": "2021-07-07T13:48:41.267Z"
   },
   {
    "duration": 6,
    "start_time": "2021-07-07T13:49:11.827Z"
   },
   {
    "duration": 9,
    "start_time": "2021-07-07T13:49:24.244Z"
   },
   {
    "duration": 454,
    "start_time": "2021-07-07T13:51:48.588Z"
   },
   {
    "duration": 7,
    "start_time": "2021-07-07T13:52:33.339Z"
   },
   {
    "duration": 8,
    "start_time": "2021-07-07T13:52:40.034Z"
   },
   {
    "duration": 9,
    "start_time": "2021-07-07T13:52:48.147Z"
   },
   {
    "duration": 557,
    "start_time": "2021-07-07T13:53:22.484Z"
   },
   {
    "duration": 7,
    "start_time": "2021-07-07T13:54:55.340Z"
   },
   {
    "duration": 4,
    "start_time": "2021-07-07T13:55:02.427Z"
   },
   {
    "duration": 10,
    "start_time": "2021-07-07T13:55:05.708Z"
   },
   {
    "duration": 715,
    "start_time": "2021-07-07T13:55:42.331Z"
   },
   {
    "duration": 814,
    "start_time": "2021-07-07T13:56:17.300Z"
   },
   {
    "duration": 6,
    "start_time": "2021-07-07T13:57:19.923Z"
   },
   {
    "duration": 1041,
    "start_time": "2021-07-07T13:57:19.931Z"
   },
   {
    "duration": 27,
    "start_time": "2021-07-07T13:57:20.975Z"
   },
   {
    "duration": 1161,
    "start_time": "2021-07-07T13:57:21.004Z"
   },
   {
    "duration": 324,
    "start_time": "2021-07-07T13:57:22.168Z"
   },
   {
    "duration": 761,
    "start_time": "2021-07-07T13:57:38.987Z"
   },
   {
    "duration": 135,
    "start_time": "2021-07-07T13:58:29.228Z"
   },
   {
    "duration": 483,
    "start_time": "2021-07-07T13:58:35.731Z"
   },
   {
    "duration": 6,
    "start_time": "2021-07-07T13:58:56.744Z"
   },
   {
    "duration": 1144,
    "start_time": "2021-07-07T13:58:56.753Z"
   },
   {
    "duration": 11,
    "start_time": "2021-07-07T13:58:57.901Z"
   },
   {
    "duration": 1196,
    "start_time": "2021-07-07T13:58:57.915Z"
   },
   {
    "duration": 338,
    "start_time": "2021-07-07T13:58:59.113Z"
   },
   {
    "duration": 482,
    "start_time": "2021-07-07T13:59:05.099Z"
   },
   {
    "duration": 18,
    "start_time": "2021-07-07T14:00:56.355Z"
   },
   {
    "duration": 682,
    "start_time": "2021-07-07T14:01:36.622Z"
   },
   {
    "duration": 482,
    "start_time": "2021-07-07T14:03:06.028Z"
   },
   {
    "duration": 6,
    "start_time": "2021-07-07T14:03:43.049Z"
   },
   {
    "duration": 1100,
    "start_time": "2021-07-07T14:03:43.057Z"
   },
   {
    "duration": 10,
    "start_time": "2021-07-07T14:03:44.160Z"
   },
   {
    "duration": 1287,
    "start_time": "2021-07-07T14:03:44.173Z"
   },
   {
    "duration": 323,
    "start_time": "2021-07-07T14:03:45.463Z"
   },
   {
    "duration": 612,
    "start_time": "2021-07-07T14:03:52.326Z"
   },
   {
    "duration": 503,
    "start_time": "2021-07-07T14:05:28.125Z"
   },
   {
    "duration": 467,
    "start_time": "2021-07-07T14:05:40.212Z"
   },
   {
    "duration": 15,
    "start_time": "2021-07-07T14:07:26.643Z"
   },
   {
    "duration": 13,
    "start_time": "2021-07-07T14:07:47.036Z"
   },
   {
    "duration": 1287,
    "start_time": "2021-07-07T14:17:52.653Z"
   },
   {
    "duration": 5,
    "start_time": "2021-07-07T14:47:30.519Z"
   },
   {
    "duration": 999,
    "start_time": "2021-07-07T14:47:31.216Z"
   },
   {
    "duration": 10,
    "start_time": "2021-07-07T14:47:34.502Z"
   },
   {
    "duration": 1258,
    "start_time": "2021-07-07T14:47:36.208Z"
   },
   {
    "duration": 318,
    "start_time": "2021-07-07T14:47:42.293Z"
   },
   {
    "duration": 14,
    "start_time": "2021-07-07T14:47:49.069Z"
   },
   {
    "duration": 9,
    "start_time": "2021-07-07T14:47:58.254Z"
   },
   {
    "duration": 63,
    "start_time": "2021-07-07T14:48:02.629Z"
   },
   {
    "duration": 7516,
    "start_time": "2021-07-07T14:48:18.942Z"
   },
   {
    "duration": 573,
    "start_time": "2021-07-07T14:48:29.943Z"
   },
   {
    "duration": 41,
    "start_time": "2021-07-07T14:48:37.982Z"
   },
   {
    "duration": 2482,
    "start_time": "2021-07-07T14:48:40.125Z"
   },
   {
    "duration": 9,
    "start_time": "2021-07-07T14:48:44.534Z"
   },
   {
    "duration": 41,
    "start_time": "2021-07-07T14:48:45.526Z"
   },
   {
    "duration": 15,
    "start_time": "2021-07-07T14:48:46.919Z"
   },
   {
    "duration": 4,
    "start_time": "2021-07-07T14:48:53.702Z"
   },
   {
    "duration": 5,
    "start_time": "2021-07-07T14:48:56.238Z"
   },
   {
    "duration": 33,
    "start_time": "2021-07-07T14:48:58.687Z"
   },
   {
    "duration": 289,
    "start_time": "2021-07-07T14:49:00.080Z"
   },
   {
    "duration": 70827,
    "start_time": "2021-07-07T14:49:44.510Z"
   },
   {
    "duration": 70808,
    "start_time": "2021-07-07T14:51:22.417Z"
   },
   {
    "duration": 168752,
    "start_time": "2021-07-07T14:52:33.228Z"
   },
   {
    "duration": 75979,
    "start_time": "2021-07-07T14:55:41.042Z"
   },
   {
    "duration": 1616,
    "start_time": "2021-07-07T14:58:22.050Z"
   },
   {
    "duration": 1071,
    "start_time": "2021-07-07T14:58:23.668Z"
   },
   {
    "duration": 10,
    "start_time": "2021-07-07T14:58:24.742Z"
   },
   {
    "duration": 1169,
    "start_time": "2021-07-07T14:58:24.755Z"
   },
   {
    "duration": 891,
    "start_time": "2021-07-07T14:58:25.926Z"
   },
   {
    "duration": 18,
    "start_time": "2021-07-07T14:58:26.820Z"
   },
   {
    "duration": 11,
    "start_time": "2021-07-07T14:58:26.841Z"
   },
   {
    "duration": 113,
    "start_time": "2021-07-07T14:58:26.858Z"
   },
   {
    "duration": 7456,
    "start_time": "2021-07-07T14:58:26.974Z"
   },
   {
    "duration": 555,
    "start_time": "2021-07-07T14:58:34.433Z"
   },
   {
    "duration": 56,
    "start_time": "2021-07-07T14:58:34.990Z"
   },
   {
    "duration": 2613,
    "start_time": "2021-07-07T14:58:35.048Z"
   },
   {
    "duration": 10,
    "start_time": "2021-07-07T14:58:37.665Z"
   },
   {
    "duration": 62,
    "start_time": "2021-07-07T14:58:37.678Z"
   },
   {
    "duration": 15,
    "start_time": "2021-07-07T14:58:37.742Z"
   },
   {
    "duration": 4,
    "start_time": "2021-07-07T14:58:37.760Z"
   },
   {
    "duration": 34,
    "start_time": "2021-07-07T14:58:37.767Z"
   },
   {
    "duration": 29,
    "start_time": "2021-07-07T14:58:37.803Z"
   },
   {
    "duration": 71390,
    "start_time": "2021-07-07T14:58:37.834Z"
   },
   {
    "duration": 169223,
    "start_time": "2021-07-07T14:59:49.227Z"
   },
   {
    "duration": 73066,
    "start_time": "2021-07-07T15:02:38.452Z"
   },
   {
    "duration": 12370,
    "start_time": "2021-07-07T15:03:59.684Z"
   },
   {
    "duration": 28116,
    "start_time": "2021-07-07T15:04:27.138Z"
   },
   {
    "duration": 7311,
    "start_time": "2021-07-07T15:05:02.683Z"
   },
   {
    "duration": 1642,
    "start_time": "2021-07-08T12:08:37.207Z"
   },
   {
    "duration": 1139,
    "start_time": "2021-07-08T12:08:38.852Z"
   },
   {
    "duration": 12,
    "start_time": "2021-07-08T12:08:39.995Z"
   },
   {
    "duration": 1297,
    "start_time": "2021-07-08T12:08:40.011Z"
   },
   {
    "duration": 109084,
    "start_time": "2021-07-08T12:08:41.312Z"
   },
   {
    "duration": 16,
    "start_time": "2021-07-08T12:10:30.399Z"
   },
   {
    "duration": 25,
    "start_time": "2021-07-08T12:10:30.417Z"
   },
   {
    "duration": 89,
    "start_time": "2021-07-08T12:10:30.446Z"
   },
   {
    "duration": 8495,
    "start_time": "2021-07-08T12:10:30.538Z"
   },
   {
    "duration": 617,
    "start_time": "2021-07-08T12:10:39.035Z"
   },
   {
    "duration": 63,
    "start_time": "2021-07-08T12:10:39.655Z"
   },
   {
    "duration": 2563,
    "start_time": "2021-07-08T12:10:39.720Z"
   },
   {
    "duration": 9,
    "start_time": "2021-07-08T12:10:42.285Z"
   },
   {
    "duration": 46,
    "start_time": "2021-07-08T12:10:42.296Z"
   },
   {
    "duration": 42,
    "start_time": "2021-07-08T12:10:42.344Z"
   },
   {
    "duration": 4,
    "start_time": "2021-07-08T12:10:42.389Z"
   },
   {
    "duration": 7,
    "start_time": "2021-07-08T12:10:42.396Z"
   },
   {
    "duration": 75,
    "start_time": "2021-07-08T12:10:42.405Z"
   },
   {
    "duration": 14319,
    "start_time": "2021-07-08T12:10:42.484Z"
   },
   {
    "duration": 32239,
    "start_time": "2021-07-08T12:10:56.806Z"
   },
   {
    "duration": 8277,
    "start_time": "2021-07-08T12:11:29.048Z"
   },
   {
    "duration": 4,
    "start_time": "2021-07-08T15:07:14.178Z"
   },
   {
    "duration": 13125,
    "start_time": "2021-07-08T15:07:14.505Z"
   },
   {
    "duration": 29886,
    "start_time": "2021-07-08T15:07:27.633Z"
   },
   {
    "duration": 1434,
    "start_time": "2021-07-08T15:37:57.190Z"
   },
   {
    "duration": 1603,
    "start_time": "2021-07-08T15:37:58.627Z"
   },
   {
    "duration": 23,
    "start_time": "2021-07-08T15:38:00.233Z"
   },
   {
    "duration": 1122,
    "start_time": "2021-07-08T15:38:00.259Z"
   },
   {
    "duration": 881,
    "start_time": "2021-07-08T15:38:01.384Z"
   },
   {
    "duration": 15,
    "start_time": "2021-07-08T15:38:02.267Z"
   },
   {
    "duration": 7,
    "start_time": "2021-07-08T15:38:02.285Z"
   },
   {
    "duration": 105,
    "start_time": "2021-07-08T15:38:02.297Z"
   },
   {
    "duration": 7453,
    "start_time": "2021-07-08T15:38:02.405Z"
   },
   {
    "duration": 554,
    "start_time": "2021-07-08T15:38:09.861Z"
   },
   {
    "duration": 63,
    "start_time": "2021-07-08T15:38:10.417Z"
   },
   {
    "duration": 2343,
    "start_time": "2021-07-08T15:38:10.483Z"
   },
   {
    "duration": 9,
    "start_time": "2021-07-08T15:38:12.828Z"
   },
   {
    "duration": 45,
    "start_time": "2021-07-08T15:38:12.856Z"
   },
   {
    "duration": 16,
    "start_time": "2021-07-08T15:38:12.903Z"
   },
   {
    "duration": 35,
    "start_time": "2021-07-08T15:38:12.922Z"
   },
   {
    "duration": 9,
    "start_time": "2021-07-08T15:38:12.960Z"
   },
   {
    "duration": 39,
    "start_time": "2021-07-08T15:38:12.972Z"
   },
   {
    "duration": 4,
    "start_time": "2021-07-08T15:38:13.013Z"
   },
   {
    "duration": 12314,
    "start_time": "2021-07-08T15:38:13.019Z"
   },
   {
    "duration": 27732,
    "start_time": "2021-07-08T15:38:25.336Z"
   },
   {
    "duration": 7303,
    "start_time": "2021-07-08T15:38:53.071Z"
   },
   {
    "duration": 3165,
    "start_time": "2021-07-08T17:39:10.218Z"
   },
   {
    "duration": 2794,
    "start_time": "2021-07-08T17:39:13.386Z"
   },
   {
    "duration": 19,
    "start_time": "2021-07-08T17:39:16.183Z"
   },
   {
    "duration": 2986,
    "start_time": "2021-07-08T17:39:16.204Z"
   },
   {
    "duration": 104793,
    "start_time": "2021-07-08T17:39:19.193Z"
   },
   {
    "duration": 88,
    "start_time": "2021-07-08T17:41:03.990Z"
   },
   {
    "duration": 9,
    "start_time": "2021-07-08T17:41:04.080Z"
   },
   {
    "duration": 191,
    "start_time": "2021-07-08T17:41:04.093Z"
   },
   {
    "duration": 19390,
    "start_time": "2021-07-08T17:41:04.292Z"
   },
   {
    "duration": 1810,
    "start_time": "2021-07-08T17:41:23.689Z"
   },
   {
    "duration": 113,
    "start_time": "2021-07-08T17:41:25.502Z"
   },
   {
    "duration": 6245,
    "start_time": "2021-07-08T17:41:25.666Z"
   },
   {
    "duration": 18,
    "start_time": "2021-07-08T17:41:31.973Z"
   },
   {
    "duration": 115,
    "start_time": "2021-07-08T17:41:31.999Z"
   },
   {
    "duration": 81,
    "start_time": "2021-07-08T17:41:32.117Z"
   },
   {
    "duration": 6,
    "start_time": "2021-07-08T17:41:32.201Z"
   },
   {
    "duration": 63,
    "start_time": "2021-07-08T17:41:32.210Z"
   },
   {
    "duration": 43,
    "start_time": "2021-07-08T17:41:32.276Z"
   },
   {
    "duration": 13,
    "start_time": "2021-07-08T17:41:32.368Z"
   },
   {
    "duration": 34620,
    "start_time": "2021-07-08T17:41:32.394Z"
   },
   {
    "duration": 84948,
    "start_time": "2021-07-08T17:42:07.072Z"
   },
   {
    "duration": 19901,
    "start_time": "2021-07-08T17:43:32.068Z"
   },
   {
    "duration": 1138,
    "start_time": "2021-07-08T22:21:49.756Z"
   },
   {
    "duration": 875,
    "start_time": "2021-07-08T22:21:50.896Z"
   },
   {
    "duration": 16,
    "start_time": "2021-07-08T22:21:51.774Z"
   },
   {
    "duration": 830,
    "start_time": "2021-07-08T22:21:51.793Z"
   },
   {
    "duration": 487,
    "start_time": "2021-07-08T22:21:52.625Z"
   },
   {
    "duration": 10,
    "start_time": "2021-07-08T22:21:53.115Z"
   },
   {
    "duration": 6,
    "start_time": "2021-07-08T22:21:53.127Z"
   },
   {
    "duration": 88,
    "start_time": "2021-07-08T22:21:53.135Z"
   },
   {
    "duration": 4965,
    "start_time": "2021-07-08T22:21:53.226Z"
   },
   {
    "duration": 353,
    "start_time": "2021-07-08T22:21:58.193Z"
   },
   {
    "duration": 57,
    "start_time": "2021-07-08T22:21:58.547Z"
   },
   {
    "duration": 1463,
    "start_time": "2021-07-08T22:21:58.606Z"
   },
   {
    "duration": 15,
    "start_time": "2021-07-08T22:22:00.070Z"
   },
   {
    "duration": 28,
    "start_time": "2021-07-08T22:22:00.086Z"
   },
   {
    "duration": 12,
    "start_time": "2021-07-08T22:22:00.115Z"
   },
   {
    "duration": 3,
    "start_time": "2021-07-08T22:22:00.129Z"
   },
   {
    "duration": 5,
    "start_time": "2021-07-08T22:22:00.134Z"
   },
   {
    "duration": 54,
    "start_time": "2021-07-08T22:22:00.141Z"
   },
   {
    "duration": 54330,
    "start_time": "2021-07-08T22:22:11.021Z"
   },
   {
    "duration": 25,
    "start_time": "2021-07-08T22:25:35.443Z"
   },
   {
    "duration": 22,
    "start_time": "2021-07-08T22:25:40.087Z"
   },
   {
    "duration": 28966,
    "start_time": "2021-07-08T22:25:46.026Z"
   }
  ],
  "kernelspec": {
   "display_name": "Python 3",
   "language": "python",
   "name": "python3"
  },
  "language_info": {
   "codemirror_mode": {
    "name": "ipython",
    "version": 3
   },
   "file_extension": ".py",
   "mimetype": "text/x-python",
   "name": "python",
   "nbconvert_exporter": "python",
   "pygments_lexer": "ipython3",
   "version": "3.8.10"
  },
  "toc": {
   "base_numbering": 1,
   "nav_menu": {
    "height": "165px",
    "width": "252px"
   },
   "number_sections": true,
   "sideBar": true,
   "skip_h1_title": true,
   "title_cell": "Table of Contents",
   "title_sidebar": "Contents",
   "toc_cell": false,
   "toc_position": {
    "height": "calc(100% - 180px)",
    "left": "10px",
    "top": "150px",
    "width": "165px"
   },
   "toc_section_display": true,
   "toc_window_display": false
  }
 },
 "nbformat": 4,
 "nbformat_minor": 4
}
